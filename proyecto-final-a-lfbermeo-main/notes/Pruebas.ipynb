{
 "metadata": {
  "language_info": {
   "codemirror_mode": {
    "name": "ipython",
    "version": 3
   },
   "file_extension": ".py",
   "mimetype": "text/x-python",
   "name": "python",
   "nbconvert_exporter": "python",
   "pygments_lexer": "ipython3",
   "version": "3.8.2-final"
  },
  "orig_nbformat": 2,
  "kernelspec": {
   "name": "python3",
   "display_name": "Python 3.8.2 64-bit ('Terremotos': pipenv)",
   "metadata": {
    "interpreter": {
     "hash": "6f1e79dd07c4f3774b719e436ac5f0ea596240d67e87c642c3b6b5dec65c86c0"
    }
   }
  }
 },
 "nbformat": 4,
 "nbformat_minor": 2,
 "cells": [
  {
   "cell_type": "code",
   "execution_count": 103,
   "metadata": {},
   "outputs": [],
   "source": [
    "import pandas as pd\n",
    "import matplotlib.pyplot as plt\n",
    "import numpy as np"
   ]
  },
  {
   "cell_type": "code",
   "execution_count": 38,
   "metadata": {},
   "outputs": [
    {
     "output_type": "execute_result",
     "data": {
      "text/plain": [
       "            State 1/22/20 1/23/20 1/24/20 1/25/20 1/26/20 1/27/20 1/28/20  \\\n",
       "Country                                                                     \n",
       "Afghanistan   NaN    0  0    0  0    0  0    0  0    0  0    0  0    0  0   \n",
       "Albania       NaN    0  0    0  0    0  0    0  0    0  0    0  0    0  0   \n",
       "Algeria       NaN    0  0    0  0    0  0    0  0    0  0    0  0    0  0   \n",
       "Andorra       NaN    0  0    0  0    0  0    0  0    0  0    0  0    0  0   \n",
       "Angola        NaN    0  0    0  0    0  0    0  0    0  0    0  0    0  0   \n",
       "\n",
       "            1/29/20 1/30/20  ...      10/22/20      10/23/20      10/24/20  \\\n",
       "Country                      ...                                             \n",
       "Afghanistan    0  0    0  0  ...  40626   1505  40687   1507  40768   1511   \n",
       "Albania        0  0    0  0  ...  18250    465  18556    469  18858    473   \n",
       "Algeria        0  0    0  0  ...  55357   1888  55630   1897  55880   1907   \n",
       "Andorra        0  0    0  0  ...    3811    63    4038    69    4038    69   \n",
       "Angola         0  0    0  0  ...    8582   260    8829   265    9026   267   \n",
       "\n",
       "                 10/25/20      10/26/20      10/27/20      10/28/20  \\\n",
       "Country                                                               \n",
       "Afghanistan  40833   1514  40937   1518  41032   1523  41145   1529   \n",
       "Albania      19157    477  19445    480  19729    487  20040    493   \n",
       "Algeria      56143   1914  56419   1922  56706   1931  57026   1941   \n",
       "Andorra        4038    69    4325    72    4410    72    4517    72   \n",
       "Angola         9381   268    9644   270    9871   271  10074    275   \n",
       "\n",
       "                 10/29/20      10/30/20      10/31/20  \n",
       "Country                                                \n",
       "Afghanistan  41268   1532  41334   1533  41425   1536  \n",
       "Albania      20315    499  20634    502  20875    509  \n",
       "Algeria      57332   1949  57651   1956  57942   1964  \n",
       "Andorra        4567    73    4665    75    4756    75  \n",
       "Angola       10269    275  10558    279  10805    284  \n",
       "\n",
       "[5 rows x 285 columns]"
      ],
      "text/html": "<div>\n<style scoped>\n    .dataframe tbody tr th:only-of-type {\n        vertical-align: middle;\n    }\n\n    .dataframe tbody tr th {\n        vertical-align: top;\n    }\n\n    .dataframe thead th {\n        text-align: right;\n    }\n</style>\n<table border=\"1\" class=\"dataframe\">\n  <thead>\n    <tr style=\"text-align: right;\">\n      <th></th>\n      <th>State</th>\n      <th>1/22/20</th>\n      <th>1/23/20</th>\n      <th>1/24/20</th>\n      <th>1/25/20</th>\n      <th>1/26/20</th>\n      <th>1/27/20</th>\n      <th>1/28/20</th>\n      <th>1/29/20</th>\n      <th>1/30/20</th>\n      <th>...</th>\n      <th>10/22/20</th>\n      <th>10/23/20</th>\n      <th>10/24/20</th>\n      <th>10/25/20</th>\n      <th>10/26/20</th>\n      <th>10/27/20</th>\n      <th>10/28/20</th>\n      <th>10/29/20</th>\n      <th>10/30/20</th>\n      <th>10/31/20</th>\n    </tr>\n    <tr>\n      <th>Country</th>\n      <th></th>\n      <th></th>\n      <th></th>\n      <th></th>\n      <th></th>\n      <th></th>\n      <th></th>\n      <th></th>\n      <th></th>\n      <th></th>\n      <th></th>\n      <th></th>\n      <th></th>\n      <th></th>\n      <th></th>\n      <th></th>\n      <th></th>\n      <th></th>\n      <th></th>\n      <th></th>\n      <th></th>\n    </tr>\n  </thead>\n  <tbody>\n    <tr>\n      <th>Afghanistan</th>\n      <td>NaN</td>\n      <td>0  0</td>\n      <td>0  0</td>\n      <td>0  0</td>\n      <td>0  0</td>\n      <td>0  0</td>\n      <td>0  0</td>\n      <td>0  0</td>\n      <td>0  0</td>\n      <td>0  0</td>\n      <td>...</td>\n      <td>40626   1505</td>\n      <td>40687   1507</td>\n      <td>40768   1511</td>\n      <td>40833   1514</td>\n      <td>40937   1518</td>\n      <td>41032   1523</td>\n      <td>41145   1529</td>\n      <td>41268   1532</td>\n      <td>41334   1533</td>\n      <td>41425   1536</td>\n    </tr>\n    <tr>\n      <th>Albania</th>\n      <td>NaN</td>\n      <td>0  0</td>\n      <td>0  0</td>\n      <td>0  0</td>\n      <td>0  0</td>\n      <td>0  0</td>\n      <td>0  0</td>\n      <td>0  0</td>\n      <td>0  0</td>\n      <td>0  0</td>\n      <td>...</td>\n      <td>18250    465</td>\n      <td>18556    469</td>\n      <td>18858    473</td>\n      <td>19157    477</td>\n      <td>19445    480</td>\n      <td>19729    487</td>\n      <td>20040    493</td>\n      <td>20315    499</td>\n      <td>20634    502</td>\n      <td>20875    509</td>\n    </tr>\n    <tr>\n      <th>Algeria</th>\n      <td>NaN</td>\n      <td>0  0</td>\n      <td>0  0</td>\n      <td>0  0</td>\n      <td>0  0</td>\n      <td>0  0</td>\n      <td>0  0</td>\n      <td>0  0</td>\n      <td>0  0</td>\n      <td>0  0</td>\n      <td>...</td>\n      <td>55357   1888</td>\n      <td>55630   1897</td>\n      <td>55880   1907</td>\n      <td>56143   1914</td>\n      <td>56419   1922</td>\n      <td>56706   1931</td>\n      <td>57026   1941</td>\n      <td>57332   1949</td>\n      <td>57651   1956</td>\n      <td>57942   1964</td>\n    </tr>\n    <tr>\n      <th>Andorra</th>\n      <td>NaN</td>\n      <td>0  0</td>\n      <td>0  0</td>\n      <td>0  0</td>\n      <td>0  0</td>\n      <td>0  0</td>\n      <td>0  0</td>\n      <td>0  0</td>\n      <td>0  0</td>\n      <td>0  0</td>\n      <td>...</td>\n      <td>3811    63</td>\n      <td>4038    69</td>\n      <td>4038    69</td>\n      <td>4038    69</td>\n      <td>4325    72</td>\n      <td>4410    72</td>\n      <td>4517    72</td>\n      <td>4567    73</td>\n      <td>4665    75</td>\n      <td>4756    75</td>\n    </tr>\n    <tr>\n      <th>Angola</th>\n      <td>NaN</td>\n      <td>0  0</td>\n      <td>0  0</td>\n      <td>0  0</td>\n      <td>0  0</td>\n      <td>0  0</td>\n      <td>0  0</td>\n      <td>0  0</td>\n      <td>0  0</td>\n      <td>0  0</td>\n      <td>...</td>\n      <td>8582   260</td>\n      <td>8829   265</td>\n      <td>9026   267</td>\n      <td>9381   268</td>\n      <td>9644   270</td>\n      <td>9871   271</td>\n      <td>10074    275</td>\n      <td>10269    275</td>\n      <td>10558    279</td>\n      <td>10805    284</td>\n    </tr>\n  </tbody>\n</table>\n<p>5 rows × 285 columns</p>\n</div>"
     },
     "metadata": {},
     "execution_count": 38
    }
   ],
   "source": [
    "df = pd.read_csv(\"../data/covid_data.csv\", index_col=\"Country\")\n",
    "df.head()"
   ]
  },
  {
   "cell_type": "code",
   "execution_count": 28,
   "metadata": {},
   "outputs": [
    {
     "output_type": "execute_result",
     "data": {
      "text/plain": [
       "               Country 1/22/20\n",
       "0          Afghanistan    0  0\n",
       "1              Albania    0  0\n",
       "2              Algeria    0  0\n",
       "5  Antigua and Barbuda    0  0"
      ],
      "text/html": "<div>\n<style scoped>\n    .dataframe tbody tr th:only-of-type {\n        vertical-align: middle;\n    }\n\n    .dataframe tbody tr th {\n        vertical-align: top;\n    }\n\n    .dataframe thead th {\n        text-align: right;\n    }\n</style>\n<table border=\"1\" class=\"dataframe\">\n  <thead>\n    <tr style=\"text-align: right;\">\n      <th></th>\n      <th>Country</th>\n      <th>1/22/20</th>\n    </tr>\n  </thead>\n  <tbody>\n    <tr>\n      <th>0</th>\n      <td>Afghanistan</td>\n      <td>0  0</td>\n    </tr>\n    <tr>\n      <th>1</th>\n      <td>Albania</td>\n      <td>0  0</td>\n    </tr>\n    <tr>\n      <th>2</th>\n      <td>Algeria</td>\n      <td>0  0</td>\n    </tr>\n    <tr>\n      <th>5</th>\n      <td>Antigua and Barbuda</td>\n      <td>0  0</td>\n    </tr>\n  </tbody>\n</table>\n</div>"
     },
     "metadata": {},
     "execution_count": 28
    }
   ],
   "source": [
    "df.loc[[0, 1, 2, 5],[\"Country\", \"1/22/20\"]]"
   ]
  },
  {
   "cell_type": "code",
   "execution_count": null,
   "metadata": {},
   "outputs": [],
   "source": []
  },
  {
   "cell_type": "code",
   "execution_count": 43,
   "metadata": {},
   "outputs": [
    {
     "output_type": "execute_result",
     "data": {
      "text/plain": [
       "                   State 1/22/20 1/23/20 1/24/20 1/25/20 1/26/20 1/27/20  \\\n",
       "Country                                                                    \n",
       "Afghanistan          NaN    0  0    0  0    0  0    0  0    0  0    0  0   \n",
       "Albania              NaN    0  0    0  0    0  0    0  0    0  0    0  0   \n",
       "Algeria              NaN    0  0    0  0    0  0    0  0    0  0    0  0   \n",
       "Andorra              NaN    0  0    0  0    0  0    0  0    0  0    0  0   \n",
       "Angola               NaN    0  0    0  0    0  0    0  0    0  0    0  0   \n",
       "...                  ...     ...     ...     ...     ...     ...     ...   \n",
       "West Bank and Gaza   NaN    0  0    0  0    0  0    0  0    0  0    0  0   \n",
       "Western Sahara       NaN    0  0    0  0    0  0    0  0    0  0    0  0   \n",
       "Yemen                NaN    0  0    0  0    0  0    0  0    0  0    0  0   \n",
       "Zambia               NaN    0  0    0  0    0  0    0  0    0  0    0  0   \n",
       "Zimbabwe             NaN    0  0    0  0    0  0    0  0    0  0    0  0   \n",
       "\n",
       "                   1/28/20 1/29/20 1/30/20 1/31/20  \n",
       "Country                                             \n",
       "Afghanistan           0  0    0  0    0  0    0  0  \n",
       "Albania               0  0    0  0    0  0    0  0  \n",
       "Algeria               0  0    0  0    0  0    0  0  \n",
       "Andorra               0  0    0  0    0  0    0  0  \n",
       "Angola                0  0    0  0    0  0    0  0  \n",
       "...                    ...     ...     ...     ...  \n",
       "West Bank and Gaza    0  0    0  0    0  0    0  0  \n",
       "Western Sahara        0  0    0  0    0  0    0  0  \n",
       "Yemen                 0  0    0  0    0  0    0  0  \n",
       "Zambia                0  0    0  0    0  0    0  0  \n",
       "Zimbabwe              0  0    0  0    0  0    0  0  \n",
       "\n",
       "[325 rows x 11 columns]"
      ],
      "text/html": "<div>\n<style scoped>\n    .dataframe tbody tr th:only-of-type {\n        vertical-align: middle;\n    }\n\n    .dataframe tbody tr th {\n        vertical-align: top;\n    }\n\n    .dataframe thead th {\n        text-align: right;\n    }\n</style>\n<table border=\"1\" class=\"dataframe\">\n  <thead>\n    <tr style=\"text-align: right;\">\n      <th></th>\n      <th>State</th>\n      <th>1/22/20</th>\n      <th>1/23/20</th>\n      <th>1/24/20</th>\n      <th>1/25/20</th>\n      <th>1/26/20</th>\n      <th>1/27/20</th>\n      <th>1/28/20</th>\n      <th>1/29/20</th>\n      <th>1/30/20</th>\n      <th>1/31/20</th>\n    </tr>\n    <tr>\n      <th>Country</th>\n      <th></th>\n      <th></th>\n      <th></th>\n      <th></th>\n      <th></th>\n      <th></th>\n      <th></th>\n      <th></th>\n      <th></th>\n      <th></th>\n      <th></th>\n    </tr>\n  </thead>\n  <tbody>\n    <tr>\n      <th>Afghanistan</th>\n      <td>NaN</td>\n      <td>0  0</td>\n      <td>0  0</td>\n      <td>0  0</td>\n      <td>0  0</td>\n      <td>0  0</td>\n      <td>0  0</td>\n      <td>0  0</td>\n      <td>0  0</td>\n      <td>0  0</td>\n      <td>0  0</td>\n    </tr>\n    <tr>\n      <th>Albania</th>\n      <td>NaN</td>\n      <td>0  0</td>\n      <td>0  0</td>\n      <td>0  0</td>\n      <td>0  0</td>\n      <td>0  0</td>\n      <td>0  0</td>\n      <td>0  0</td>\n      <td>0  0</td>\n      <td>0  0</td>\n      <td>0  0</td>\n    </tr>\n    <tr>\n      <th>Algeria</th>\n      <td>NaN</td>\n      <td>0  0</td>\n      <td>0  0</td>\n      <td>0  0</td>\n      <td>0  0</td>\n      <td>0  0</td>\n      <td>0  0</td>\n      <td>0  0</td>\n      <td>0  0</td>\n      <td>0  0</td>\n      <td>0  0</td>\n    </tr>\n    <tr>\n      <th>Andorra</th>\n      <td>NaN</td>\n      <td>0  0</td>\n      <td>0  0</td>\n      <td>0  0</td>\n      <td>0  0</td>\n      <td>0  0</td>\n      <td>0  0</td>\n      <td>0  0</td>\n      <td>0  0</td>\n      <td>0  0</td>\n      <td>0  0</td>\n    </tr>\n    <tr>\n      <th>Angola</th>\n      <td>NaN</td>\n      <td>0  0</td>\n      <td>0  0</td>\n      <td>0  0</td>\n      <td>0  0</td>\n      <td>0  0</td>\n      <td>0  0</td>\n      <td>0  0</td>\n      <td>0  0</td>\n      <td>0  0</td>\n      <td>0  0</td>\n    </tr>\n    <tr>\n      <th>...</th>\n      <td>...</td>\n      <td>...</td>\n      <td>...</td>\n      <td>...</td>\n      <td>...</td>\n      <td>...</td>\n      <td>...</td>\n      <td>...</td>\n      <td>...</td>\n      <td>...</td>\n      <td>...</td>\n    </tr>\n    <tr>\n      <th>West Bank and Gaza</th>\n      <td>NaN</td>\n      <td>0  0</td>\n      <td>0  0</td>\n      <td>0  0</td>\n      <td>0  0</td>\n      <td>0  0</td>\n      <td>0  0</td>\n      <td>0  0</td>\n      <td>0  0</td>\n      <td>0  0</td>\n      <td>0  0</td>\n    </tr>\n    <tr>\n      <th>Western Sahara</th>\n      <td>NaN</td>\n      <td>0  0</td>\n      <td>0  0</td>\n      <td>0  0</td>\n      <td>0  0</td>\n      <td>0  0</td>\n      <td>0  0</td>\n      <td>0  0</td>\n      <td>0  0</td>\n      <td>0  0</td>\n      <td>0  0</td>\n    </tr>\n    <tr>\n      <th>Yemen</th>\n      <td>NaN</td>\n      <td>0  0</td>\n      <td>0  0</td>\n      <td>0  0</td>\n      <td>0  0</td>\n      <td>0  0</td>\n      <td>0  0</td>\n      <td>0  0</td>\n      <td>0  0</td>\n      <td>0  0</td>\n      <td>0  0</td>\n    </tr>\n    <tr>\n      <th>Zambia</th>\n      <td>NaN</td>\n      <td>0  0</td>\n      <td>0  0</td>\n      <td>0  0</td>\n      <td>0  0</td>\n      <td>0  0</td>\n      <td>0  0</td>\n      <td>0  0</td>\n      <td>0  0</td>\n      <td>0  0</td>\n      <td>0  0</td>\n    </tr>\n    <tr>\n      <th>Zimbabwe</th>\n      <td>NaN</td>\n      <td>0  0</td>\n      <td>0  0</td>\n      <td>0  0</td>\n      <td>0  0</td>\n      <td>0  0</td>\n      <td>0  0</td>\n      <td>0  0</td>\n      <td>0  0</td>\n      <td>0  0</td>\n      <td>0  0</td>\n    </tr>\n  </tbody>\n</table>\n<p>325 rows × 11 columns</p>\n</div>"
     },
     "metadata": {},
     "execution_count": 43
    }
   ],
   "source": [
    "df_prueba = df.iloc[:,[col for col in range(11)]]"
   ]
  },
  {
   "cell_type": "code",
   "execution_count": 109,
   "metadata": {},
   "outputs": [
    {
     "output_type": "execute_result",
     "data": {
      "text/plain": [
       "                   State 1/22/20 1/23/20 1/24/20 1/25/20 1/26/20 1/27/20  \\\n",
       "Country                                                                    \n",
       "Afghanistan          ALL    0  0    0  0    0  0    0  0    0  0    0  0   \n",
       "Albania              ALL    0  0    0  0    0  0    0  0    0  0    0  0   \n",
       "Algeria              ALL    0  0    0  0    0  0    0  0    0  0    0  0   \n",
       "Andorra              ALL    0  0    0  0    0  0    0  0    0  0    0  0   \n",
       "Angola               ALL    0  0    0  0    0  0    0  0    0  0    0  0   \n",
       "...                  ...     ...     ...     ...     ...     ...     ...   \n",
       "West Bank and Gaza   ALL    0  0    0  0    0  0    0  0    0  0    0  0   \n",
       "Western Sahara       ALL    0  0    0  0    0  0    0  0    0  0    0  0   \n",
       "Yemen                ALL    0  0    0  0    0  0    0  0    0  0    0  0   \n",
       "Zambia               ALL    0  0    0  0    0  0    0  0    0  0    0  0   \n",
       "Zimbabwe             ALL    0  0    0  0    0  0    0  0    0  0    0  0   \n",
       "\n",
       "                   1/28/20 1/29/20 1/30/20 1/31/20  \n",
       "Country                                             \n",
       "Afghanistan           0  0    0  0    0  0    0  0  \n",
       "Albania               0  0    0  0    0  0    0  0  \n",
       "Algeria               0  0    0  0    0  0    0  0  \n",
       "Andorra               0  0    0  0    0  0    0  0  \n",
       "Angola                0  0    0  0    0  0    0  0  \n",
       "...                    ...     ...     ...     ...  \n",
       "West Bank and Gaza    0  0    0  0    0  0    0  0  \n",
       "Western Sahara        0  0    0  0    0  0    0  0  \n",
       "Yemen                 0  0    0  0    0  0    0  0  \n",
       "Zambia                0  0    0  0    0  0    0  0  \n",
       "Zimbabwe              0  0    0  0    0  0    0  0  \n",
       "\n",
       "[325 rows x 11 columns]"
      ],
      "text/html": "<div>\n<style scoped>\n    .dataframe tbody tr th:only-of-type {\n        vertical-align: middle;\n    }\n\n    .dataframe tbody tr th {\n        vertical-align: top;\n    }\n\n    .dataframe thead th {\n        text-align: right;\n    }\n</style>\n<table border=\"1\" class=\"dataframe\">\n  <thead>\n    <tr style=\"text-align: right;\">\n      <th></th>\n      <th>State</th>\n      <th>1/22/20</th>\n      <th>1/23/20</th>\n      <th>1/24/20</th>\n      <th>1/25/20</th>\n      <th>1/26/20</th>\n      <th>1/27/20</th>\n      <th>1/28/20</th>\n      <th>1/29/20</th>\n      <th>1/30/20</th>\n      <th>1/31/20</th>\n    </tr>\n    <tr>\n      <th>Country</th>\n      <th></th>\n      <th></th>\n      <th></th>\n      <th></th>\n      <th></th>\n      <th></th>\n      <th></th>\n      <th></th>\n      <th></th>\n      <th></th>\n      <th></th>\n    </tr>\n  </thead>\n  <tbody>\n    <tr>\n      <th>Afghanistan</th>\n      <td>ALL</td>\n      <td>0  0</td>\n      <td>0  0</td>\n      <td>0  0</td>\n      <td>0  0</td>\n      <td>0  0</td>\n      <td>0  0</td>\n      <td>0  0</td>\n      <td>0  0</td>\n      <td>0  0</td>\n      <td>0  0</td>\n    </tr>\n    <tr>\n      <th>Albania</th>\n      <td>ALL</td>\n      <td>0  0</td>\n      <td>0  0</td>\n      <td>0  0</td>\n      <td>0  0</td>\n      <td>0  0</td>\n      <td>0  0</td>\n      <td>0  0</td>\n      <td>0  0</td>\n      <td>0  0</td>\n      <td>0  0</td>\n    </tr>\n    <tr>\n      <th>Algeria</th>\n      <td>ALL</td>\n      <td>0  0</td>\n      <td>0  0</td>\n      <td>0  0</td>\n      <td>0  0</td>\n      <td>0  0</td>\n      <td>0  0</td>\n      <td>0  0</td>\n      <td>0  0</td>\n      <td>0  0</td>\n      <td>0  0</td>\n    </tr>\n    <tr>\n      <th>Andorra</th>\n      <td>ALL</td>\n      <td>0  0</td>\n      <td>0  0</td>\n      <td>0  0</td>\n      <td>0  0</td>\n      <td>0  0</td>\n      <td>0  0</td>\n      <td>0  0</td>\n      <td>0  0</td>\n      <td>0  0</td>\n      <td>0  0</td>\n    </tr>\n    <tr>\n      <th>Angola</th>\n      <td>ALL</td>\n      <td>0  0</td>\n      <td>0  0</td>\n      <td>0  0</td>\n      <td>0  0</td>\n      <td>0  0</td>\n      <td>0  0</td>\n      <td>0  0</td>\n      <td>0  0</td>\n      <td>0  0</td>\n      <td>0  0</td>\n    </tr>\n    <tr>\n      <th>...</th>\n      <td>...</td>\n      <td>...</td>\n      <td>...</td>\n      <td>...</td>\n      <td>...</td>\n      <td>...</td>\n      <td>...</td>\n      <td>...</td>\n      <td>...</td>\n      <td>...</td>\n      <td>...</td>\n    </tr>\n    <tr>\n      <th>West Bank and Gaza</th>\n      <td>ALL</td>\n      <td>0  0</td>\n      <td>0  0</td>\n      <td>0  0</td>\n      <td>0  0</td>\n      <td>0  0</td>\n      <td>0  0</td>\n      <td>0  0</td>\n      <td>0  0</td>\n      <td>0  0</td>\n      <td>0  0</td>\n    </tr>\n    <tr>\n      <th>Western Sahara</th>\n      <td>ALL</td>\n      <td>0  0</td>\n      <td>0  0</td>\n      <td>0  0</td>\n      <td>0  0</td>\n      <td>0  0</td>\n      <td>0  0</td>\n      <td>0  0</td>\n      <td>0  0</td>\n      <td>0  0</td>\n      <td>0  0</td>\n    </tr>\n    <tr>\n      <th>Yemen</th>\n      <td>ALL</td>\n      <td>0  0</td>\n      <td>0  0</td>\n      <td>0  0</td>\n      <td>0  0</td>\n      <td>0  0</td>\n      <td>0  0</td>\n      <td>0  0</td>\n      <td>0  0</td>\n      <td>0  0</td>\n      <td>0  0</td>\n    </tr>\n    <tr>\n      <th>Zambia</th>\n      <td>ALL</td>\n      <td>0  0</td>\n      <td>0  0</td>\n      <td>0  0</td>\n      <td>0  0</td>\n      <td>0  0</td>\n      <td>0  0</td>\n      <td>0  0</td>\n      <td>0  0</td>\n      <td>0  0</td>\n      <td>0  0</td>\n    </tr>\n    <tr>\n      <th>Zimbabwe</th>\n      <td>ALL</td>\n      <td>0  0</td>\n      <td>0  0</td>\n      <td>0  0</td>\n      <td>0  0</td>\n      <td>0  0</td>\n      <td>0  0</td>\n      <td>0  0</td>\n      <td>0  0</td>\n      <td>0  0</td>\n      <td>0  0</td>\n    </tr>\n  </tbody>\n</table>\n<p>325 rows × 11 columns</p>\n</div>"
     },
     "metadata": {},
     "execution_count": 109
    }
   ],
   "source": [
    "df_prueba[\"State\"].fillna(\"ALL\", inplace=True)\n",
    "df_prueba"
   ]
  },
  {
   "cell_type": "code",
   "execution_count": 44,
   "metadata": {},
   "outputs": [
    {
     "output_type": "execute_result",
     "data": {
      "text/plain": [
       "          State 1/22/20 1/23/20 1/24/20 1/25/20 1/26/20 1/27/20 1/28/20  \\\n",
       "count       136     325     325     325     325     325     325     325   \n",
       "unique      136      12      17      22      29      30      35      37   \n",
       "top     Qinghai    0  0    0  0    0  0    0  0    0  0    0  0    0  0   \n",
       "freq          1     294     286     283     280     273     270     269   \n",
       "\n",
       "       1/29/20 1/30/20 1/31/20  \n",
       "count      325     325     325  \n",
       "unique      38      41      43  \n",
       "top       0  0    0  0    0  0  \n",
       "freq       265     262     259  "
      ],
      "text/html": "<div>\n<style scoped>\n    .dataframe tbody tr th:only-of-type {\n        vertical-align: middle;\n    }\n\n    .dataframe tbody tr th {\n        vertical-align: top;\n    }\n\n    .dataframe thead th {\n        text-align: right;\n    }\n</style>\n<table border=\"1\" class=\"dataframe\">\n  <thead>\n    <tr style=\"text-align: right;\">\n      <th></th>\n      <th>State</th>\n      <th>1/22/20</th>\n      <th>1/23/20</th>\n      <th>1/24/20</th>\n      <th>1/25/20</th>\n      <th>1/26/20</th>\n      <th>1/27/20</th>\n      <th>1/28/20</th>\n      <th>1/29/20</th>\n      <th>1/30/20</th>\n      <th>1/31/20</th>\n    </tr>\n  </thead>\n  <tbody>\n    <tr>\n      <th>count</th>\n      <td>136</td>\n      <td>325</td>\n      <td>325</td>\n      <td>325</td>\n      <td>325</td>\n      <td>325</td>\n      <td>325</td>\n      <td>325</td>\n      <td>325</td>\n      <td>325</td>\n      <td>325</td>\n    </tr>\n    <tr>\n      <th>unique</th>\n      <td>136</td>\n      <td>12</td>\n      <td>17</td>\n      <td>22</td>\n      <td>29</td>\n      <td>30</td>\n      <td>35</td>\n      <td>37</td>\n      <td>38</td>\n      <td>41</td>\n      <td>43</td>\n    </tr>\n    <tr>\n      <th>top</th>\n      <td>Qinghai</td>\n      <td>0  0</td>\n      <td>0  0</td>\n      <td>0  0</td>\n      <td>0  0</td>\n      <td>0  0</td>\n      <td>0  0</td>\n      <td>0  0</td>\n      <td>0  0</td>\n      <td>0  0</td>\n      <td>0  0</td>\n    </tr>\n    <tr>\n      <th>freq</th>\n      <td>1</td>\n      <td>294</td>\n      <td>286</td>\n      <td>283</td>\n      <td>280</td>\n      <td>273</td>\n      <td>270</td>\n      <td>269</td>\n      <td>265</td>\n      <td>262</td>\n      <td>259</td>\n    </tr>\n  </tbody>\n</table>\n</div>"
     },
     "metadata": {},
     "execution_count": 44
    }
   ],
   "source": [
    "df_prueba.describe()"
   ]
  },
  {
   "cell_type": "code",
   "execution_count": 53,
   "metadata": {},
   "outputs": [
    {
     "output_type": "execute_result",
     "data": {
      "text/plain": [
       "                   1/22/20\n",
       "Country                   \n",
       "Afghanistan           0  0\n",
       "Albania               0  0\n",
       "Algeria               0  0\n",
       "Andorra               0  0\n",
       "Angola                0  0\n",
       "...                    ...\n",
       "West Bank and Gaza    0  0\n",
       "Western Sahara        0  0\n",
       "Yemen                 0  0\n",
       "Zambia                0  0\n",
       "Zimbabwe              0  0\n",
       "\n",
       "[189 rows x 1 columns]"
      ],
      "text/html": "<div>\n<style scoped>\n    .dataframe tbody tr th:only-of-type {\n        vertical-align: middle;\n    }\n\n    .dataframe tbody tr th {\n        vertical-align: top;\n    }\n\n    .dataframe thead th {\n        text-align: right;\n    }\n</style>\n<table border=\"1\" class=\"dataframe\">\n  <thead>\n    <tr style=\"text-align: right;\">\n      <th></th>\n      <th>1/22/20</th>\n    </tr>\n    <tr>\n      <th>Country</th>\n      <th></th>\n    </tr>\n  </thead>\n  <tbody>\n    <tr>\n      <th>Afghanistan</th>\n      <td>0  0</td>\n    </tr>\n    <tr>\n      <th>Albania</th>\n      <td>0  0</td>\n    </tr>\n    <tr>\n      <th>Algeria</th>\n      <td>0  0</td>\n    </tr>\n    <tr>\n      <th>Andorra</th>\n      <td>0  0</td>\n    </tr>\n    <tr>\n      <th>Angola</th>\n      <td>0  0</td>\n    </tr>\n    <tr>\n      <th>...</th>\n      <td>...</td>\n    </tr>\n    <tr>\n      <th>West Bank and Gaza</th>\n      <td>0  0</td>\n    </tr>\n    <tr>\n      <th>Western Sahara</th>\n      <td>0  0</td>\n    </tr>\n    <tr>\n      <th>Yemen</th>\n      <td>0  0</td>\n    </tr>\n    <tr>\n      <th>Zambia</th>\n      <td>0  0</td>\n    </tr>\n    <tr>\n      <th>Zimbabwe</th>\n      <td>0  0</td>\n    </tr>\n  </tbody>\n</table>\n<p>189 rows × 1 columns</p>\n</div>"
     },
     "metadata": {},
     "execution_count": 53
    }
   ],
   "source": [
    "grouped = df_prueba.groupby(\"Country\").agg({\n",
    "    \"1/22/20\": \"sum\"\n",
    "})\n",
    "# grouped[\"1/22/20\"].plot(kind=\"bar\")\n",
    "# plt.show()\n",
    "grouped"
   ]
  },
  {
   "cell_type": "code",
   "execution_count": 73,
   "metadata": {},
   "outputs": [],
   "source": [
    "from datetime import datetime"
   ]
  },
  {
   "cell_type": "code",
   "execution_count": 95,
   "metadata": {},
   "outputs": [],
   "source": [
    "class Register:\n",
    "    def __init__(self, fecha:datetime, contagios, muertes):\n",
    "        self._fecha = fecha\n",
    "        self._contagios = contagios\n",
    "        self._muertes = muertes\n",
    "    \n",
    "    def getFecha(self):\n",
    "        return self._fecha\n",
    "    \n",
    "    def getContagios(self):\n",
    "        return self._contagios\n",
    "    \n",
    "    def getMuertes(self):\n",
    "        return self._muertes\n",
    "    \n",
    "    def __str__(self):\n",
    "        return f\"{self._fecha.strftime('%m/%d/%Y')} - Contagios: {self._contagios} | Muertes: {self._muertes}\"\n",
    "    \n",
    "    def __repr__(self):\n",
    "        return self.__str__()"
   ]
  },
  {
   "cell_type": "code",
   "execution_count": 123,
   "metadata": {},
   "outputs": [],
   "source": [
    "class State:\n",
    "    def __init__(self, name:str, registers=[]):\n",
    "        self._name = name\n",
    "        self._registers = registers\n",
    "    \n",
    "    def getName(self):\n",
    "        return self._name\n",
    "    \n",
    "    def getRegisters(self):\n",
    "        return self._registers\n",
    "    \n",
    "    def addRegister(self, register:Register):\n",
    "        self._registers.append(register)\n",
    "    \n",
    "    def __str__(self):\n",
    "        return f\"{self._name} - Registros: {len(self._registers)}\"\n",
    "    \n",
    "    def __repr__(self):\n",
    "        return self.__str__()"
   ]
  },
  {
   "cell_type": "code",
   "execution_count": 126,
   "metadata": {},
   "outputs": [],
   "source": [
    "class Country:\n",
    "    def __init__(self, name:str, states={}):\n",
    "        self._name = name\n",
    "        self._states = states\n",
    "\n",
    "    def getName(self):\n",
    "        return self._name\n",
    "    \n",
    "    def getStates(self):\n",
    "        return self._states\n",
    "    \n",
    "    def addState(self, state:State):\n",
    "        self._states.append(state)\n",
    "    \n",
    "    def __str__(self):\n",
    "        return f\"{self._name} - Estados: {len(self._states)}\"\n",
    "    \n",
    "    def __repr__(self):\n",
    "        return self.__str__()\n"
   ]
  },
  {
   "cell_type": "code",
   "execution_count": 68,
   "metadata": {},
   "outputs": [
    {
     "output_type": "execute_result",
     "data": {
      "text/plain": [
       "Afghanistan - Estados: 0"
      ]
     },
     "metadata": {},
     "execution_count": 68
    }
   ],
   "source": [
    "afn = Country(\"Afghanistan\")\n",
    "afn"
   ]
  },
  {
   "cell_type": "code",
   "execution_count": 71,
   "metadata": {},
   "outputs": [
    {
     "output_type": "execute_result",
     "data": {
      "text/plain": [
       "Liria - Registros: 0"
      ]
     },
     "metadata": {},
     "execution_count": 71
    }
   ],
   "source": [
    "afn_st1 = State(\"Liria\")\n",
    "afn_st1"
   ]
  },
  {
   "cell_type": "code",
   "execution_count": 76,
   "metadata": {},
   "outputs": [
    {
     "output_type": "execute_result",
     "data": {
      "text/plain": [
       "01/22/2020 - Contagios: 10 | Muertes: 2"
      ]
     },
     "metadata": {},
     "execution_count": 76
    }
   ],
   "source": [
    "liria_r1 = Register(datetime(2020,1,22), 10, 2)\n",
    "liria_r1"
   ]
  },
  {
   "cell_type": "code",
   "execution_count": 77,
   "metadata": {},
   "outputs": [
    {
     "output_type": "execute_result",
     "data": {
      "text/plain": [
       "Afghanistan - Estados: 1"
      ]
     },
     "metadata": {},
     "execution_count": 77
    }
   ],
   "source": [
    "afn_st1.addRegister(liria_r1)\n",
    "afn.addState(afn_st1)\n",
    "afn"
   ]
  },
  {
   "cell_type": "code",
   "execution_count": 127,
   "metadata": {},
   "outputs": [
    {
     "output_type": "execute_result",
     "data": {
      "text/plain": [
       "Index(['1/22/20', '1/23/20', '1/24/20', '1/25/20', '1/26/20', '1/27/20',\n",
       "       '1/28/20', '1/29/20', '1/30/20', '1/31/20'],\n",
       "      dtype='object')"
      ]
     },
     "metadata": {},
     "execution_count": 127
    }
   ],
   "source": [
    "columnas = df_prueba.columns\n",
    "columnas\n",
    "stateCol = columnas[0]\n",
    "columnas.drop(\"State\")"
   ]
  },
  {
   "cell_type": "code",
   "execution_count": 128,
   "metadata": {},
   "outputs": [
    {
     "output_type": "execute_result",
     "data": {
      "text/plain": [
       "'State'"
      ]
     },
     "metadata": {},
     "execution_count": 128
    }
   ],
   "source": [
    "stateCol"
   ]
  },
  {
   "cell_type": "code",
   "execution_count": 129,
   "metadata": {},
   "outputs": [
    {
     "output_type": "execute_result",
     "data": {
      "text/plain": [
       "Index(['Afghanistan', 'Albania', 'Algeria', 'Andorra', 'Angola',\n",
       "       'Antigua and Barbuda', 'Argentina', 'Armenia', 'Australia', 'Australia',\n",
       "       ...\n",
       "       'United States', 'Uruguay', 'Uzbekistan', 'Venezuela', 'Vietnam',\n",
       "       'West Bank and Gaza', 'Western Sahara', 'Yemen', 'Zambia', 'Zimbabwe'],\n",
       "      dtype='object', name='Country', length=325)"
      ]
     },
     "metadata": {},
     "execution_count": 129
    }
   ],
   "source": [
    "columnas = df_prueba.columns\n",
    "rows = df_prueba.index\n",
    "rows"
   ]
  },
  {
   "cell_type": "code",
   "execution_count": 130,
   "metadata": {},
   "outputs": [],
   "source": [
    "countries = {}"
   ]
  },
  {
   "cell_type": "code",
   "execution_count": 107,
   "metadata": {},
   "outputs": [],
   "source": [
    "import math"
   ]
  },
  {
   "cell_type": "code",
   "execution_count": 133,
   "metadata": {},
   "outputs": [
    {
     "output_type": "stream",
     "name": "stdout",
     "text": [
      "Es NaN\npasa\npasa\npasa\npasa\npasa\npasa\npasa\npasa\npasa\npasa\nEs NaN\npasa\npasa\npasa\npasa\npasa\npasa\npasa\npasa\npasa\npasa\nEs NaN\npasa\npasa\npasa\npasa\npasa\npasa\npasa\npasa\npasa\npasa\nEs NaN\npasa\npasa\npasa\npasa\npasa\npasa\npasa\npasa\npasa\npasa\nEs NaN\npasa\npasa\npasa\npasa\npasa\npasa\npasa\npasa\npasa\npasa\n"
     ]
    }
   ],
   "source": [
    "for row in rows[:5]:\n",
    "    if row not in countries:\n",
    "        countries[row] = Country(row)\n",
    "    if df_prueba[stateCol][row] not in countries[row].getStates():\n",
    "        countries[row].getStates()[df_prueba[stateCol][row]] = State(df_prueba[stateCol][row])\n",
    "    for column in columnas:\n",
    "        if df_prueba[column][row] == \"ALL\":\n",
    "            print(\"Es NaN\")\n",
    "        else:\n",
    "            print(\"pasa\")\n",
    "        # print(df_prueba[column][row])"
   ]
  },
  {
   "cell_type": "code",
   "execution_count": 134,
   "metadata": {},
   "outputs": [
    {
     "output_type": "execute_result",
     "data": {
      "text/plain": [
       "{'Afghanistan': Afghanistan - Estados: 1,\n",
       " 'Albania': Albania - Estados: 1,\n",
       " 'Algeria': Algeria - Estados: 1,\n",
       " 'Andorra': Andorra - Estados: 1,\n",
       " 'Angola': Angola - Estados: 1}"
      ]
     },
     "metadata": {},
     "execution_count": 134
    }
   ],
   "source": [
    "countries"
   ]
  },
  {
   "cell_type": "code",
   "execution_count": 137,
   "metadata": {},
   "outputs": [
    {
     "output_type": "execute_result",
     "data": {
      "text/plain": [
       "{'ALL': ALL - Registros: 0}"
      ]
     },
     "metadata": {},
     "execution_count": 137
    }
   ],
   "source": [
    "countries[\"Algeria\"].getStates()"
   ]
  },
  {
   "cell_type": "code",
   "execution_count": 97,
   "metadata": {},
   "outputs": [],
   "source": [
    "countries.clear()"
   ]
  },
  {
   "cell_type": "code",
   "execution_count": 138,
   "metadata": {},
   "outputs": [],
   "source": [
    "import re"
   ]
  },
  {
   "cell_type": "code",
   "execution_count": 139,
   "metadata": {},
   "outputs": [],
   "source": [
    "pattern = re.compile(r\"(\\d+)(\\s+)(\\d+)\")"
   ]
  },
  {
   "cell_type": "code",
   "execution_count": 141,
   "metadata": {},
   "outputs": [],
   "source": [
    "muestra = \"184  965\""
   ]
  },
  {
   "cell_type": "code",
   "execution_count": 145,
   "metadata": {},
   "outputs": [
    {
     "output_type": "execute_result",
     "data": {
      "text/plain": [
       "('184', '  ', '965')"
      ]
     },
     "metadata": {},
     "execution_count": 145
    }
   ],
   "source": [
    "match = pattern.match(muestra)\n",
    "match.groups()"
   ]
  },
  {
   "cell_type": "code",
   "execution_count": null,
   "metadata": {},
   "outputs": [],
   "source": []
  }
 ]
}