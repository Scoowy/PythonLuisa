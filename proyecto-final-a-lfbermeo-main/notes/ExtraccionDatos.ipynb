{
 "metadata": {
  "language_info": {
   "codemirror_mode": {
    "name": "ipython",
    "version": 3
   },
   "file_extension": ".py",
   "mimetype": "text/x-python",
   "name": "python",
   "nbconvert_exporter": "python",
   "pygments_lexer": "ipython3",
   "version": "3.8.2-final"
  },
  "orig_nbformat": 2,
  "kernelspec": {
   "name": "python3",
   "display_name": "Python 3.8.2 64-bit ('Terremotos': pipenv)",
   "metadata": {
    "interpreter": {
     "hash": "6f1e79dd07c4f3774b719e436ac5f0ea596240d67e87c642c3b6b5dec65c86c0"
    }
   }
  }
 },
 "nbformat": 4,
 "nbformat_minor": 2,
 "cells": [
  {
   "source": [
    "## Importacion de librerias"
   ],
   "cell_type": "markdown",
   "metadata": {}
  },
  {
   "cell_type": "code",
   "execution_count": 1,
   "metadata": {},
   "outputs": [],
   "source": [
    "import pandas as pd\n",
    "import numpy as np\n",
    "import matplotlib.pyplot as plt\n",
    "import re"
   ]
  },
  {
   "source": [
    "## Lectura de los datos\n",
    "\n",
    "Se usa el metodo `.read_csv()`, para leer el aarchivo que contiene los datos en formato csv.\n",
    "\n",
    "Adicionamos el parametro `index_col` al metodo, que nos permite decirle a **Pandas** que columna queremos que sea el indice de las filas.  "
   ],
   "cell_type": "markdown",
   "metadata": {}
  },
  {
   "cell_type": "code",
   "execution_count": 2,
   "metadata": {},
   "outputs": [
    {
     "output_type": "execute_result",
     "data": {
      "text/plain": [
       "            State 1/22/20 1/23/20 1/24/20 1/25/20 1/26/20 1/27/20 1/28/20  \\\n",
       "Country                                                                     \n",
       "Afghanistan   NaN    0  0    0  0    0  0    0  0    0  0    0  0    0  0   \n",
       "Albania       NaN    0  0    0  0    0  0    0  0    0  0    0  0    0  0   \n",
       "Algeria       NaN    0  0    0  0    0  0    0  0    0  0    0  0    0  0   \n",
       "Andorra       NaN    0  0    0  0    0  0    0  0    0  0    0  0    0  0   \n",
       "Angola        NaN    0  0    0  0    0  0    0  0    0  0    0  0    0  0   \n",
       "\n",
       "            1/29/20 1/30/20  ...      10/22/20      10/23/20      10/24/20  \\\n",
       "Country                      ...                                             \n",
       "Afghanistan    0  0    0  0  ...  40626   1505  40687   1507  40768   1511   \n",
       "Albania        0  0    0  0  ...  18250    465  18556    469  18858    473   \n",
       "Algeria        0  0    0  0  ...  55357   1888  55630   1897  55880   1907   \n",
       "Andorra        0  0    0  0  ...    3811    63    4038    69    4038    69   \n",
       "Angola         0  0    0  0  ...    8582   260    8829   265    9026   267   \n",
       "\n",
       "                 10/25/20      10/26/20      10/27/20      10/28/20  \\\n",
       "Country                                                               \n",
       "Afghanistan  40833   1514  40937   1518  41032   1523  41145   1529   \n",
       "Albania      19157    477  19445    480  19729    487  20040    493   \n",
       "Algeria      56143   1914  56419   1922  56706   1931  57026   1941   \n",
       "Andorra        4038    69    4325    72    4410    72    4517    72   \n",
       "Angola         9381   268    9644   270    9871   271  10074    275   \n",
       "\n",
       "                 10/29/20      10/30/20      10/31/20  \n",
       "Country                                                \n",
       "Afghanistan  41268   1532  41334   1533  41425   1536  \n",
       "Albania      20315    499  20634    502  20875    509  \n",
       "Algeria      57332   1949  57651   1956  57942   1964  \n",
       "Andorra        4567    73    4665    75    4756    75  \n",
       "Angola       10269    275  10558    279  10805    284  \n",
       "\n",
       "[5 rows x 285 columns]"
      ],
      "text/html": "<div>\n<style scoped>\n    .dataframe tbody tr th:only-of-type {\n        vertical-align: middle;\n    }\n\n    .dataframe tbody tr th {\n        vertical-align: top;\n    }\n\n    .dataframe thead th {\n        text-align: right;\n    }\n</style>\n<table border=\"1\" class=\"dataframe\">\n  <thead>\n    <tr style=\"text-align: right;\">\n      <th></th>\n      <th>State</th>\n      <th>1/22/20</th>\n      <th>1/23/20</th>\n      <th>1/24/20</th>\n      <th>1/25/20</th>\n      <th>1/26/20</th>\n      <th>1/27/20</th>\n      <th>1/28/20</th>\n      <th>1/29/20</th>\n      <th>1/30/20</th>\n      <th>...</th>\n      <th>10/22/20</th>\n      <th>10/23/20</th>\n      <th>10/24/20</th>\n      <th>10/25/20</th>\n      <th>10/26/20</th>\n      <th>10/27/20</th>\n      <th>10/28/20</th>\n      <th>10/29/20</th>\n      <th>10/30/20</th>\n      <th>10/31/20</th>\n    </tr>\n    <tr>\n      <th>Country</th>\n      <th></th>\n      <th></th>\n      <th></th>\n      <th></th>\n      <th></th>\n      <th></th>\n      <th></th>\n      <th></th>\n      <th></th>\n      <th></th>\n      <th></th>\n      <th></th>\n      <th></th>\n      <th></th>\n      <th></th>\n      <th></th>\n      <th></th>\n      <th></th>\n      <th></th>\n      <th></th>\n      <th></th>\n    </tr>\n  </thead>\n  <tbody>\n    <tr>\n      <th>Afghanistan</th>\n      <td>NaN</td>\n      <td>0  0</td>\n      <td>0  0</td>\n      <td>0  0</td>\n      <td>0  0</td>\n      <td>0  0</td>\n      <td>0  0</td>\n      <td>0  0</td>\n      <td>0  0</td>\n      <td>0  0</td>\n      <td>...</td>\n      <td>40626   1505</td>\n      <td>40687   1507</td>\n      <td>40768   1511</td>\n      <td>40833   1514</td>\n      <td>40937   1518</td>\n      <td>41032   1523</td>\n      <td>41145   1529</td>\n      <td>41268   1532</td>\n      <td>41334   1533</td>\n      <td>41425   1536</td>\n    </tr>\n    <tr>\n      <th>Albania</th>\n      <td>NaN</td>\n      <td>0  0</td>\n      <td>0  0</td>\n      <td>0  0</td>\n      <td>0  0</td>\n      <td>0  0</td>\n      <td>0  0</td>\n      <td>0  0</td>\n      <td>0  0</td>\n      <td>0  0</td>\n      <td>...</td>\n      <td>18250    465</td>\n      <td>18556    469</td>\n      <td>18858    473</td>\n      <td>19157    477</td>\n      <td>19445    480</td>\n      <td>19729    487</td>\n      <td>20040    493</td>\n      <td>20315    499</td>\n      <td>20634    502</td>\n      <td>20875    509</td>\n    </tr>\n    <tr>\n      <th>Algeria</th>\n      <td>NaN</td>\n      <td>0  0</td>\n      <td>0  0</td>\n      <td>0  0</td>\n      <td>0  0</td>\n      <td>0  0</td>\n      <td>0  0</td>\n      <td>0  0</td>\n      <td>0  0</td>\n      <td>0  0</td>\n      <td>...</td>\n      <td>55357   1888</td>\n      <td>55630   1897</td>\n      <td>55880   1907</td>\n      <td>56143   1914</td>\n      <td>56419   1922</td>\n      <td>56706   1931</td>\n      <td>57026   1941</td>\n      <td>57332   1949</td>\n      <td>57651   1956</td>\n      <td>57942   1964</td>\n    </tr>\n    <tr>\n      <th>Andorra</th>\n      <td>NaN</td>\n      <td>0  0</td>\n      <td>0  0</td>\n      <td>0  0</td>\n      <td>0  0</td>\n      <td>0  0</td>\n      <td>0  0</td>\n      <td>0  0</td>\n      <td>0  0</td>\n      <td>0  0</td>\n      <td>...</td>\n      <td>3811    63</td>\n      <td>4038    69</td>\n      <td>4038    69</td>\n      <td>4038    69</td>\n      <td>4325    72</td>\n      <td>4410    72</td>\n      <td>4517    72</td>\n      <td>4567    73</td>\n      <td>4665    75</td>\n      <td>4756    75</td>\n    </tr>\n    <tr>\n      <th>Angola</th>\n      <td>NaN</td>\n      <td>0  0</td>\n      <td>0  0</td>\n      <td>0  0</td>\n      <td>0  0</td>\n      <td>0  0</td>\n      <td>0  0</td>\n      <td>0  0</td>\n      <td>0  0</td>\n      <td>0  0</td>\n      <td>...</td>\n      <td>8582   260</td>\n      <td>8829   265</td>\n      <td>9026   267</td>\n      <td>9381   268</td>\n      <td>9644   270</td>\n      <td>9871   271</td>\n      <td>10074    275</td>\n      <td>10269    275</td>\n      <td>10558    279</td>\n      <td>10805    284</td>\n    </tr>\n  </tbody>\n</table>\n<p>5 rows × 285 columns</p>\n</div>"
     },
     "metadata": {},
     "execution_count": 2
    }
   ],
   "source": [
    "df = pd.read_csv(\"../data/covid_data.csv\", delimiter=';', index_col=\"Country\")\n",
    "df.head()"
   ]
  },
  {
   "source": [
    "### Error en columnas\n",
    "Se identifico que existe un posible error dentro del nombre de las columnas, existen columnas en formato `mm/dd/yy` y otras en formato `yyyy-mm-dd`, las primeras pertenecen al peridodo del anio 2020, y las otras a periodos anteriores al anio 2020.\n",
    "\n",
    "Teniendo en cuenta el objetivo del proyecto se determino que las columnas con fechas en formato `yyyy-mm-dd`, que perteneces a periodos anteriores al anio 2020, sean omitidas de los datos a usar.\n",
    "\n",
    "Si se imprime `df.columns`, se puede observar que existen **285 columnas** incluida la columna de *\"State\"*."
   ],
   "cell_type": "markdown",
   "metadata": {}
  },
  {
   "cell_type": "code",
   "execution_count": 3,
   "metadata": {},
   "outputs": [
    {
     "output_type": "execute_result",
     "data": {
      "text/plain": [
       "Index(['State', '1/22/20', '1/23/20', '1/24/20', '1/25/20', '1/26/20',\n",
       "       '1/27/20', '1/28/20', '1/29/20', '1/30/20',\n",
       "       ...\n",
       "       '10/22/20', '10/23/20', '10/24/20', '10/25/20', '10/26/20', '10/27/20',\n",
       "       '10/28/20', '10/29/20', '10/30/20', '10/31/20'],\n",
       "      dtype='object', length=285)"
      ]
     },
     "metadata": {},
     "execution_count": 3
    }
   ],
   "source": [
    "df.columns"
   ]
  },
  {
   "source": [
    "Se crea `columnsClear` una lista que contendra unicamente los indices de las columnas que cumplan con el formato `mm-dd-yyyy`.\n",
    "\n",
    "> Adicionalmente se inicializa `columnsClear = [0,]` con la finalidad de que el indice de la columna *\"State\"* se contemple dentro de las columnas que se requiere mantener."
   ],
   "cell_type": "markdown",
   "metadata": {}
  },
  {
   "cell_type": "code",
   "execution_count": 4,
   "metadata": {},
   "outputs": [],
   "source": [
    "columnsClear = [0,]\n",
    "patternColumn = re.compile(r\"(\\d+)/(\\d+)/(\\d+)\")\n",
    "columns = df.columns\n",
    "\n",
    "for i in range(1, len(columns)):\n",
    "    if patternColumn.match(columns[i]):\n",
    "        columnsClear.append(i)"
   ]
  },
  {
   "source": [
    "Una vez se obtienen los indices de las columnas correctas, tenemos como resultado: "
   ],
   "cell_type": "markdown",
   "metadata": {}
  },
  {
   "cell_type": "code",
   "execution_count": 5,
   "metadata": {},
   "outputs": [
    {
     "output_type": "stream",
     "name": "stdout",
     "text": [
      "Numero de columnas nuevas: 285\n"
     ]
    }
   ],
   "source": [
    "print(f\"Numero de columnas nuevas: {len(columnsClear)}\")"
   ]
  },
  {
   "source": [
    "Se obtiene una reduccion de **108** columnas erroneas.\n",
    "\n",
    "Se corrigio el error a **0** columnas erroneas."
   ],
   "cell_type": "markdown",
   "metadata": {}
  },
  {
   "source": [
    "### Correccion del error\n",
    "Se realiza una extraccion de datos del `DataFrame` original, mediante el metodo `.iloc[rows, columns]` ."
   ],
   "cell_type": "markdown",
   "metadata": {}
  },
  {
   "cell_type": "code",
   "execution_count": 6,
   "metadata": {},
   "outputs": [
    {
     "output_type": "execute_result",
     "data": {
      "text/plain": [
       "            State 1/22/20 1/23/20 1/24/20 1/25/20 1/26/20 1/27/20 1/28/20  \\\n",
       "Country                                                                     \n",
       "Afghanistan   NaN    0  0    0  0    0  0    0  0    0  0    0  0    0  0   \n",
       "Albania       NaN    0  0    0  0    0  0    0  0    0  0    0  0    0  0   \n",
       "Algeria       NaN    0  0    0  0    0  0    0  0    0  0    0  0    0  0   \n",
       "Andorra       NaN    0  0    0  0    0  0    0  0    0  0    0  0    0  0   \n",
       "Angola        NaN    0  0    0  0    0  0    0  0    0  0    0  0    0  0   \n",
       "\n",
       "            1/29/20 1/30/20  ...      10/22/20      10/23/20      10/24/20  \\\n",
       "Country                      ...                                             \n",
       "Afghanistan    0  0    0  0  ...  40626   1505  40687   1507  40768   1511   \n",
       "Albania        0  0    0  0  ...  18250    465  18556    469  18858    473   \n",
       "Algeria        0  0    0  0  ...  55357   1888  55630   1897  55880   1907   \n",
       "Andorra        0  0    0  0  ...    3811    63    4038    69    4038    69   \n",
       "Angola         0  0    0  0  ...    8582   260    8829   265    9026   267   \n",
       "\n",
       "                 10/25/20      10/26/20      10/27/20      10/28/20  \\\n",
       "Country                                                               \n",
       "Afghanistan  40833   1514  40937   1518  41032   1523  41145   1529   \n",
       "Albania      19157    477  19445    480  19729    487  20040    493   \n",
       "Algeria      56143   1914  56419   1922  56706   1931  57026   1941   \n",
       "Andorra        4038    69    4325    72    4410    72    4517    72   \n",
       "Angola         9381   268    9644   270    9871   271  10074    275   \n",
       "\n",
       "                 10/29/20      10/30/20      10/31/20  \n",
       "Country                                                \n",
       "Afghanistan  41268   1532  41334   1533  41425   1536  \n",
       "Albania      20315    499  20634    502  20875    509  \n",
       "Algeria      57332   1949  57651   1956  57942   1964  \n",
       "Andorra        4567    73    4665    75    4756    75  \n",
       "Angola       10269    275  10558    279  10805    284  \n",
       "\n",
       "[5 rows x 285 columns]"
      ],
      "text/html": "<div>\n<style scoped>\n    .dataframe tbody tr th:only-of-type {\n        vertical-align: middle;\n    }\n\n    .dataframe tbody tr th {\n        vertical-align: top;\n    }\n\n    .dataframe thead th {\n        text-align: right;\n    }\n</style>\n<table border=\"1\" class=\"dataframe\">\n  <thead>\n    <tr style=\"text-align: right;\">\n      <th></th>\n      <th>State</th>\n      <th>1/22/20</th>\n      <th>1/23/20</th>\n      <th>1/24/20</th>\n      <th>1/25/20</th>\n      <th>1/26/20</th>\n      <th>1/27/20</th>\n      <th>1/28/20</th>\n      <th>1/29/20</th>\n      <th>1/30/20</th>\n      <th>...</th>\n      <th>10/22/20</th>\n      <th>10/23/20</th>\n      <th>10/24/20</th>\n      <th>10/25/20</th>\n      <th>10/26/20</th>\n      <th>10/27/20</th>\n      <th>10/28/20</th>\n      <th>10/29/20</th>\n      <th>10/30/20</th>\n      <th>10/31/20</th>\n    </tr>\n    <tr>\n      <th>Country</th>\n      <th></th>\n      <th></th>\n      <th></th>\n      <th></th>\n      <th></th>\n      <th></th>\n      <th></th>\n      <th></th>\n      <th></th>\n      <th></th>\n      <th></th>\n      <th></th>\n      <th></th>\n      <th></th>\n      <th></th>\n      <th></th>\n      <th></th>\n      <th></th>\n      <th></th>\n      <th></th>\n      <th></th>\n    </tr>\n  </thead>\n  <tbody>\n    <tr>\n      <th>Afghanistan</th>\n      <td>NaN</td>\n      <td>0  0</td>\n      <td>0  0</td>\n      <td>0  0</td>\n      <td>0  0</td>\n      <td>0  0</td>\n      <td>0  0</td>\n      <td>0  0</td>\n      <td>0  0</td>\n      <td>0  0</td>\n      <td>...</td>\n      <td>40626   1505</td>\n      <td>40687   1507</td>\n      <td>40768   1511</td>\n      <td>40833   1514</td>\n      <td>40937   1518</td>\n      <td>41032   1523</td>\n      <td>41145   1529</td>\n      <td>41268   1532</td>\n      <td>41334   1533</td>\n      <td>41425   1536</td>\n    </tr>\n    <tr>\n      <th>Albania</th>\n      <td>NaN</td>\n      <td>0  0</td>\n      <td>0  0</td>\n      <td>0  0</td>\n      <td>0  0</td>\n      <td>0  0</td>\n      <td>0  0</td>\n      <td>0  0</td>\n      <td>0  0</td>\n      <td>0  0</td>\n      <td>...</td>\n      <td>18250    465</td>\n      <td>18556    469</td>\n      <td>18858    473</td>\n      <td>19157    477</td>\n      <td>19445    480</td>\n      <td>19729    487</td>\n      <td>20040    493</td>\n      <td>20315    499</td>\n      <td>20634    502</td>\n      <td>20875    509</td>\n    </tr>\n    <tr>\n      <th>Algeria</th>\n      <td>NaN</td>\n      <td>0  0</td>\n      <td>0  0</td>\n      <td>0  0</td>\n      <td>0  0</td>\n      <td>0  0</td>\n      <td>0  0</td>\n      <td>0  0</td>\n      <td>0  0</td>\n      <td>0  0</td>\n      <td>...</td>\n      <td>55357   1888</td>\n      <td>55630   1897</td>\n      <td>55880   1907</td>\n      <td>56143   1914</td>\n      <td>56419   1922</td>\n      <td>56706   1931</td>\n      <td>57026   1941</td>\n      <td>57332   1949</td>\n      <td>57651   1956</td>\n      <td>57942   1964</td>\n    </tr>\n    <tr>\n      <th>Andorra</th>\n      <td>NaN</td>\n      <td>0  0</td>\n      <td>0  0</td>\n      <td>0  0</td>\n      <td>0  0</td>\n      <td>0  0</td>\n      <td>0  0</td>\n      <td>0  0</td>\n      <td>0  0</td>\n      <td>0  0</td>\n      <td>...</td>\n      <td>3811    63</td>\n      <td>4038    69</td>\n      <td>4038    69</td>\n      <td>4038    69</td>\n      <td>4325    72</td>\n      <td>4410    72</td>\n      <td>4517    72</td>\n      <td>4567    73</td>\n      <td>4665    75</td>\n      <td>4756    75</td>\n    </tr>\n    <tr>\n      <th>Angola</th>\n      <td>NaN</td>\n      <td>0  0</td>\n      <td>0  0</td>\n      <td>0  0</td>\n      <td>0  0</td>\n      <td>0  0</td>\n      <td>0  0</td>\n      <td>0  0</td>\n      <td>0  0</td>\n      <td>0  0</td>\n      <td>...</td>\n      <td>8582   260</td>\n      <td>8829   265</td>\n      <td>9026   267</td>\n      <td>9381   268</td>\n      <td>9644   270</td>\n      <td>9871   271</td>\n      <td>10074    275</td>\n      <td>10269    275</td>\n      <td>10558    279</td>\n      <td>10805    284</td>\n    </tr>\n  </tbody>\n</table>\n<p>5 rows × 285 columns</p>\n</div>"
     },
     "metadata": {},
     "execution_count": 6
    }
   ],
   "source": [
    "df_clean = df.iloc[:,columnsClear]\n",
    "df_clean.head()"
   ]
  },
  {
   "source": [
    "## Tratamiento de datos\n",
    "Se identifica que los valores se encuntran en un string en formato `[numero][n spacios][numero]`, usando una expresion regular se extraen los valores y se convierten en tuplas `(contagios, muertes)`, despues se extrae cada uno de estos valores en una columan distinta.\n",
    "\n",
    "### Definicion de la funcion"
   ],
   "cell_type": "markdown",
   "metadata": {}
  },
  {
   "cell_type": "code",
   "execution_count": 7,
   "metadata": {},
   "outputs": [],
   "source": [
    "patternValues = re.compile(r\"(\\d+)(\\s+)(\\d+)\")\n",
    "\n",
    "def extractValue(value, pos=0):\n",
    "    matchValues = patternValues.match(value)\n",
    "    infections, _, deaths = matchValues.groups()\n",
    "    infections = int(infections)\n",
    "    deaths = int(deaths)\n",
    "    return infections, deaths"
   ]
  },
  {
   "source": [
    "Se applica la funcion a todo el `DataFrame` exepto la columna *\"State\"*."
   ],
   "cell_type": "markdown",
   "metadata": {}
  },
  {
   "cell_type": "code",
   "execution_count": 8,
   "metadata": {},
   "outputs": [
    {
     "output_type": "execute_result",
     "data": {
      "text/plain": [
       "            State 1/22/20 1/23/20 1/24/20 1/25/20 1/26/20 1/27/20 1/28/20  \\\n",
       "Country                                                                     \n",
       "Afghanistan   NaN  (0, 0)  (0, 0)  (0, 0)  (0, 0)  (0, 0)  (0, 0)  (0, 0)   \n",
       "Albania       NaN  (0, 0)  (0, 0)  (0, 0)  (0, 0)  (0, 0)  (0, 0)  (0, 0)   \n",
       "Algeria       NaN  (0, 0)  (0, 0)  (0, 0)  (0, 0)  (0, 0)  (0, 0)  (0, 0)   \n",
       "Andorra       NaN  (0, 0)  (0, 0)  (0, 0)  (0, 0)  (0, 0)  (0, 0)  (0, 0)   \n",
       "Angola        NaN  (0, 0)  (0, 0)  (0, 0)  (0, 0)  (0, 0)  (0, 0)  (0, 0)   \n",
       "\n",
       "            1/29/20 1/30/20  ...       10/22/20       10/23/20       10/24/20  \\\n",
       "Country                      ...                                                \n",
       "Afghanistan  (0, 0)  (0, 0)  ...  (40626, 1505)  (40687, 1507)  (40768, 1511)   \n",
       "Albania      (0, 0)  (0, 0)  ...   (18250, 465)   (18556, 469)   (18858, 473)   \n",
       "Algeria      (0, 0)  (0, 0)  ...  (55357, 1888)  (55630, 1897)  (55880, 1907)   \n",
       "Andorra      (0, 0)  (0, 0)  ...     (3811, 63)     (4038, 69)     (4038, 69)   \n",
       "Angola       (0, 0)  (0, 0)  ...    (8582, 260)    (8829, 265)    (9026, 267)   \n",
       "\n",
       "                  10/25/20       10/26/20       10/27/20       10/28/20  \\\n",
       "Country                                                                   \n",
       "Afghanistan  (40833, 1514)  (40937, 1518)  (41032, 1523)  (41145, 1529)   \n",
       "Albania       (19157, 477)   (19445, 480)   (19729, 487)   (20040, 493)   \n",
       "Algeria      (56143, 1914)  (56419, 1922)  (56706, 1931)  (57026, 1941)   \n",
       "Andorra         (4038, 69)     (4325, 72)     (4410, 72)     (4517, 72)   \n",
       "Angola         (9381, 268)    (9644, 270)    (9871, 271)   (10074, 275)   \n",
       "\n",
       "                  10/29/20       10/30/20       10/31/20  \n",
       "Country                                                   \n",
       "Afghanistan  (41268, 1532)  (41334, 1533)  (41425, 1536)  \n",
       "Albania       (20315, 499)   (20634, 502)   (20875, 509)  \n",
       "Algeria      (57332, 1949)  (57651, 1956)  (57942, 1964)  \n",
       "Andorra         (4567, 73)     (4665, 75)     (4756, 75)  \n",
       "Angola        (10269, 275)   (10558, 279)   (10805, 284)  \n",
       "\n",
       "[5 rows x 285 columns]"
      ],
      "text/html": "<div>\n<style scoped>\n    .dataframe tbody tr th:only-of-type {\n        vertical-align: middle;\n    }\n\n    .dataframe tbody tr th {\n        vertical-align: top;\n    }\n\n    .dataframe thead th {\n        text-align: right;\n    }\n</style>\n<table border=\"1\" class=\"dataframe\">\n  <thead>\n    <tr style=\"text-align: right;\">\n      <th></th>\n      <th>State</th>\n      <th>1/22/20</th>\n      <th>1/23/20</th>\n      <th>1/24/20</th>\n      <th>1/25/20</th>\n      <th>1/26/20</th>\n      <th>1/27/20</th>\n      <th>1/28/20</th>\n      <th>1/29/20</th>\n      <th>1/30/20</th>\n      <th>...</th>\n      <th>10/22/20</th>\n      <th>10/23/20</th>\n      <th>10/24/20</th>\n      <th>10/25/20</th>\n      <th>10/26/20</th>\n      <th>10/27/20</th>\n      <th>10/28/20</th>\n      <th>10/29/20</th>\n      <th>10/30/20</th>\n      <th>10/31/20</th>\n    </tr>\n    <tr>\n      <th>Country</th>\n      <th></th>\n      <th></th>\n      <th></th>\n      <th></th>\n      <th></th>\n      <th></th>\n      <th></th>\n      <th></th>\n      <th></th>\n      <th></th>\n      <th></th>\n      <th></th>\n      <th></th>\n      <th></th>\n      <th></th>\n      <th></th>\n      <th></th>\n      <th></th>\n      <th></th>\n      <th></th>\n      <th></th>\n    </tr>\n  </thead>\n  <tbody>\n    <tr>\n      <th>Afghanistan</th>\n      <td>NaN</td>\n      <td>(0, 0)</td>\n      <td>(0, 0)</td>\n      <td>(0, 0)</td>\n      <td>(0, 0)</td>\n      <td>(0, 0)</td>\n      <td>(0, 0)</td>\n      <td>(0, 0)</td>\n      <td>(0, 0)</td>\n      <td>(0, 0)</td>\n      <td>...</td>\n      <td>(40626, 1505)</td>\n      <td>(40687, 1507)</td>\n      <td>(40768, 1511)</td>\n      <td>(40833, 1514)</td>\n      <td>(40937, 1518)</td>\n      <td>(41032, 1523)</td>\n      <td>(41145, 1529)</td>\n      <td>(41268, 1532)</td>\n      <td>(41334, 1533)</td>\n      <td>(41425, 1536)</td>\n    </tr>\n    <tr>\n      <th>Albania</th>\n      <td>NaN</td>\n      <td>(0, 0)</td>\n      <td>(0, 0)</td>\n      <td>(0, 0)</td>\n      <td>(0, 0)</td>\n      <td>(0, 0)</td>\n      <td>(0, 0)</td>\n      <td>(0, 0)</td>\n      <td>(0, 0)</td>\n      <td>(0, 0)</td>\n      <td>...</td>\n      <td>(18250, 465)</td>\n      <td>(18556, 469)</td>\n      <td>(18858, 473)</td>\n      <td>(19157, 477)</td>\n      <td>(19445, 480)</td>\n      <td>(19729, 487)</td>\n      <td>(20040, 493)</td>\n      <td>(20315, 499)</td>\n      <td>(20634, 502)</td>\n      <td>(20875, 509)</td>\n    </tr>\n    <tr>\n      <th>Algeria</th>\n      <td>NaN</td>\n      <td>(0, 0)</td>\n      <td>(0, 0)</td>\n      <td>(0, 0)</td>\n      <td>(0, 0)</td>\n      <td>(0, 0)</td>\n      <td>(0, 0)</td>\n      <td>(0, 0)</td>\n      <td>(0, 0)</td>\n      <td>(0, 0)</td>\n      <td>...</td>\n      <td>(55357, 1888)</td>\n      <td>(55630, 1897)</td>\n      <td>(55880, 1907)</td>\n      <td>(56143, 1914)</td>\n      <td>(56419, 1922)</td>\n      <td>(56706, 1931)</td>\n      <td>(57026, 1941)</td>\n      <td>(57332, 1949)</td>\n      <td>(57651, 1956)</td>\n      <td>(57942, 1964)</td>\n    </tr>\n    <tr>\n      <th>Andorra</th>\n      <td>NaN</td>\n      <td>(0, 0)</td>\n      <td>(0, 0)</td>\n      <td>(0, 0)</td>\n      <td>(0, 0)</td>\n      <td>(0, 0)</td>\n      <td>(0, 0)</td>\n      <td>(0, 0)</td>\n      <td>(0, 0)</td>\n      <td>(0, 0)</td>\n      <td>...</td>\n      <td>(3811, 63)</td>\n      <td>(4038, 69)</td>\n      <td>(4038, 69)</td>\n      <td>(4038, 69)</td>\n      <td>(4325, 72)</td>\n      <td>(4410, 72)</td>\n      <td>(4517, 72)</td>\n      <td>(4567, 73)</td>\n      <td>(4665, 75)</td>\n      <td>(4756, 75)</td>\n    </tr>\n    <tr>\n      <th>Angola</th>\n      <td>NaN</td>\n      <td>(0, 0)</td>\n      <td>(0, 0)</td>\n      <td>(0, 0)</td>\n      <td>(0, 0)</td>\n      <td>(0, 0)</td>\n      <td>(0, 0)</td>\n      <td>(0, 0)</td>\n      <td>(0, 0)</td>\n      <td>(0, 0)</td>\n      <td>...</td>\n      <td>(8582, 260)</td>\n      <td>(8829, 265)</td>\n      <td>(9026, 267)</td>\n      <td>(9381, 268)</td>\n      <td>(9644, 270)</td>\n      <td>(9871, 271)</td>\n      <td>(10074, 275)</td>\n      <td>(10269, 275)</td>\n      <td>(10558, 279)</td>\n      <td>(10805, 284)</td>\n    </tr>\n  </tbody>\n</table>\n<p>5 rows × 285 columns</p>\n</div>"
     },
     "metadata": {},
     "execution_count": 8
    }
   ],
   "source": [
    "df_clean.iloc[:,1:] = df_clean.iloc[:,1:].applymap(lambda x: extractValue(x))\n",
    "df_clean.head()"
   ]
  },
  {
   "source": [
    "## Graficacion de datos"
   ],
   "cell_type": "markdown",
   "metadata": {}
  },
  {
   "cell_type": "code",
   "execution_count": 9,
   "metadata": {},
   "outputs": [],
   "source": [
    "def getNewDataFrameFromCountry(serie: pd.Series):\n",
    "    data = {\"infections\": [], \"deaths\": []}\n",
    "\n",
    "    for values in serie:\n",
    "        data[\"infections\"].append(values[0])\n",
    "        data[\"deaths\"].append(values[1])\n",
    "    \n",
    "    return pd.DataFrame(data, index=serie.index)\n"
   ]
  },
  {
   "cell_type": "code",
   "execution_count": 10,
   "metadata": {},
   "outputs": [
    {
     "output_type": "execute_result",
     "data": {
      "text/plain": [
       "1/22/20               (0, 0)\n",
       "1/23/20               (0, 0)\n",
       "1/24/20               (0, 0)\n",
       "1/25/20               (0, 0)\n",
       "1/26/20               (0, 0)\n",
       "                  ...       \n",
       "10/27/20    (1116738, 35298)\n",
       "10/28/20    (1136503, 35466)\n",
       "10/29/20    (1160083, 35639)\n",
       "10/30/20    (1185678, 35878)\n",
       "10/31/20    (1185678, 35878)\n",
       "Name: Spain, Length: 284, dtype: object"
      ]
     },
     "metadata": {},
     "execution_count": 10
    }
   ],
   "source": [
    "sampleGroup = df_clean.loc[\"Spain\"][1:]\n",
    "sampleGroup"
   ]
  },
  {
   "cell_type": "code",
   "execution_count": 11,
   "metadata": {},
   "outputs": [
    {
     "output_type": "execute_result",
     "data": {
      "text/plain": [
       "          infections  deaths\n",
       "1/22/20            0       0\n",
       "1/23/20            0       0\n",
       "1/24/20            0       0\n",
       "1/25/20            0       0\n",
       "1/26/20            0       0\n",
       "...              ...     ...\n",
       "10/27/20     1116738   35298\n",
       "10/28/20     1136503   35466\n",
       "10/29/20     1160083   35639\n",
       "10/30/20     1185678   35878\n",
       "10/31/20     1185678   35878\n",
       "\n",
       "[284 rows x 2 columns]"
      ],
      "text/html": "<div>\n<style scoped>\n    .dataframe tbody tr th:only-of-type {\n        vertical-align: middle;\n    }\n\n    .dataframe tbody tr th {\n        vertical-align: top;\n    }\n\n    .dataframe thead th {\n        text-align: right;\n    }\n</style>\n<table border=\"1\" class=\"dataframe\">\n  <thead>\n    <tr style=\"text-align: right;\">\n      <th></th>\n      <th>infections</th>\n      <th>deaths</th>\n    </tr>\n  </thead>\n  <tbody>\n    <tr>\n      <th>1/22/20</th>\n      <td>0</td>\n      <td>0</td>\n    </tr>\n    <tr>\n      <th>1/23/20</th>\n      <td>0</td>\n      <td>0</td>\n    </tr>\n    <tr>\n      <th>1/24/20</th>\n      <td>0</td>\n      <td>0</td>\n    </tr>\n    <tr>\n      <th>1/25/20</th>\n      <td>0</td>\n      <td>0</td>\n    </tr>\n    <tr>\n      <th>1/26/20</th>\n      <td>0</td>\n      <td>0</td>\n    </tr>\n    <tr>\n      <th>...</th>\n      <td>...</td>\n      <td>...</td>\n    </tr>\n    <tr>\n      <th>10/27/20</th>\n      <td>1116738</td>\n      <td>35298</td>\n    </tr>\n    <tr>\n      <th>10/28/20</th>\n      <td>1136503</td>\n      <td>35466</td>\n    </tr>\n    <tr>\n      <th>10/29/20</th>\n      <td>1160083</td>\n      <td>35639</td>\n    </tr>\n    <tr>\n      <th>10/30/20</th>\n      <td>1185678</td>\n      <td>35878</td>\n    </tr>\n    <tr>\n      <th>10/31/20</th>\n      <td>1185678</td>\n      <td>35878</td>\n    </tr>\n  </tbody>\n</table>\n<p>284 rows × 2 columns</p>\n</div>"
     },
     "metadata": {},
     "execution_count": 11
    }
   ],
   "source": [
    "sampleData = getNewDataFrameFromCountry(sampleGroup)\n",
    "sampleData"
   ]
  },
  {
   "cell_type": "code",
   "execution_count": 12,
   "metadata": {},
   "outputs": [
    {
     "output_type": "execute_result",
     "data": {
      "text/plain": [
       "['1/1/20',\n",
       " '2/1/20',\n",
       " '3/1/20',\n",
       " '4/1/20',\n",
       " '5/1/20',\n",
       " '6/1/20',\n",
       " '7/1/20',\n",
       " '8/1/20',\n",
       " '9/1/20',\n",
       " '10/1/20',\n",
       " '11/1/20',\n",
       " '12/1/20']"
      ]
     },
     "metadata": {},
     "execution_count": 12
    }
   ],
   "source": [
    "xLabels = [f\"{i}/1/20\" for i in range(1, 13)]\n",
    "xLabels"
   ]
  },
  {
   "cell_type": "code",
   "execution_count": 13,
   "metadata": {},
   "outputs": [],
   "source": [
    "title = f\"Daily number of Cases and Deaths in {sampleGroup.name} (14-day mean)\""
   ]
  },
  {
   "cell_type": "code",
   "execution_count": 14,
   "metadata": {},
   "outputs": [
    {
     "output_type": "display_data",
     "data": {
      "text/plain": "<Figure size 720x432 with 2 Axes>",
      "image/svg+xml": "<?xml version=\"1.0\" encoding=\"utf-8\" standalone=\"no\"?>\r\n<!DOCTYPE svg PUBLIC \"-//W3C//DTD SVG 1.1//EN\"\r\n  \"http://www.w3.org/Graphics/SVG/1.1/DTD/svg11.dtd\">\r\n<!-- Created with matplotlib (https://matplotlib.org/) -->\r\n<svg height=\"386.034375pt\" version=\"1.1\" viewBox=\"0 0 661.471875 386.034375\" width=\"661.471875pt\" xmlns=\"http://www.w3.org/2000/svg\" xmlns:xlink=\"http://www.w3.org/1999/xlink\">\r\n <metadata>\r\n  <rdf:RDF xmlns:cc=\"http://creativecommons.org/ns#\" xmlns:dc=\"http://purl.org/dc/elements/1.1/\" xmlns:rdf=\"http://www.w3.org/1999/02/22-rdf-syntax-ns#\">\r\n   <cc:Work>\r\n    <dc:type rdf:resource=\"http://purl.org/dc/dcmitype/StillImage\"/>\r\n    <dc:date>2021-01-12T08:13:28.068038</dc:date>\r\n    <dc:format>image/svg+xml</dc:format>\r\n    <dc:creator>\r\n     <cc:Agent>\r\n      <dc:title>Matplotlib v3.3.3, https://matplotlib.org/</dc:title>\r\n     </cc:Agent>\r\n    </dc:creator>\r\n   </cc:Work>\r\n  </rdf:RDF>\r\n </metadata>\r\n <defs>\r\n  <style type=\"text/css\">*{stroke-linecap:butt;stroke-linejoin:round;}</style>\r\n </defs>\r\n <g id=\"figure_1\">\r\n  <g id=\"patch_1\">\r\n   <path d=\"M 0 386.034375 \r\nL 661.471875 386.034375 \r\nL 661.471875 0 \r\nL 0 0 \r\nz\r\n\" style=\"fill:none;\"/>\r\n  </g>\r\n  <g id=\"axes_1\">\r\n   <g id=\"patch_2\">\r\n    <path d=\"M 43.78125 348.478125 \r\nL 601.78125 348.478125 \r\nL 601.78125 22.318125 \r\nL 43.78125 22.318125 \r\nz\r\n\" style=\"fill:#ffffff;\"/>\r\n   </g>\r\n   <g id=\"PolyCollection_1\">\r\n    <defs>\r\n     <path d=\"M 69.144886 -37.55625 \r\nL 69.144886 -37.55625 \r\nL 70.937369 -37.55625 \r\nL 72.729853 -37.55625 \r\nL 74.522336 -37.55625 \r\nL 76.314819 -37.55625 \r\nL 78.107302 -37.55625 \r\nL 79.899785 -37.55625 \r\nL 81.692268 -37.55625 \r\nL 83.484751 -37.55625 \r\nL 85.277235 -37.55625 \r\nL 87.069718 -37.55625 \r\nL 88.862201 -37.55625 \r\nL 90.654684 -37.55625 \r\nL 92.447167 -37.55625 \r\nL 94.23965 -37.55625 \r\nL 96.032133 -37.55625 \r\nL 97.824617 -37.55625 \r\nL 99.6171 -37.55625 \r\nL 101.409583 -37.55625 \r\nL 103.202066 -37.55625 \r\nL 104.994549 -37.55625 \r\nL 106.787032 -37.55625 \r\nL 108.579515 -37.55625 \r\nL 110.371998 -37.55625 \r\nL 112.164482 -37.55625 \r\nL 113.956965 -37.55625 \r\nL 115.749448 -37.55625 \r\nL 117.541931 -37.55625 \r\nL 119.334414 -37.55625 \r\nL 121.126897 -37.55625 \r\nL 122.91938 -37.55625 \r\nL 124.711864 -37.55625 \r\nL 126.504347 -37.55625 \r\nL 128.29683 -37.55625 \r\nL 130.089313 -37.55625 \r\nL 131.881796 -37.55625 \r\nL 133.674279 -37.55625 \r\nL 135.466762 -37.55625 \r\nL 137.259246 -37.55625 \r\nL 139.051729 -37.55625 \r\nL 140.844212 -37.55625 \r\nL 142.636695 -37.55625 \r\nL 144.429178 -37.55625 \r\nL 146.221661 -37.55625 \r\nL 148.014144 -37.55625 \r\nL 149.806627 -37.55625 \r\nL 151.599111 -37.55625 \r\nL 153.391594 -37.55625 \r\nL 155.184077 -37.55625 \r\nL 156.97656 -37.55625 \r\nL 158.769043 -37.55625 \r\nL 160.561526 -37.55625 \r\nL 162.354009 -37.55625 \r\nL 164.146493 -37.55625 \r\nL 165.938976 -37.55625 \r\nL 167.731459 -37.55625 \r\nL 169.523942 -37.55625 \r\nL 171.316425 -37.55625 \r\nL 173.108908 -37.55625 \r\nL 174.901391 -37.55625 \r\nL 176.693874 -37.55625 \r\nL 178.486358 -37.55625 \r\nL 180.278841 -37.55625 \r\nL 182.071324 -37.55625 \r\nL 183.863807 -37.55625 \r\nL 185.65629 -37.55625 \r\nL 187.448773 -37.55625 \r\nL 189.241256 -37.55625 \r\nL 191.03374 -37.55625 \r\nL 192.826223 -37.55625 \r\nL 194.618706 -37.55625 \r\nL 196.411189 -37.55625 \r\nL 198.203672 -37.55625 \r\nL 199.996155 -37.55625 \r\nL 201.788638 -37.55625 \r\nL 203.581122 -37.55625 \r\nL 205.373605 -37.55625 \r\nL 207.166088 -37.55625 \r\nL 208.958571 -37.55625 \r\nL 210.751054 -37.55625 \r\nL 212.543537 -37.55625 \r\nL 214.33602 -37.55625 \r\nL 216.128503 -37.55625 \r\nL 217.920987 -37.55625 \r\nL 219.71347 -37.55625 \r\nL 221.505953 -37.55625 \r\nL 223.298436 -37.55625 \r\nL 225.090919 -37.55625 \r\nL 226.883402 -37.55625 \r\nL 228.675885 -37.55625 \r\nL 230.468369 -37.55625 \r\nL 232.260852 -37.55625 \r\nL 234.053335 -37.55625 \r\nL 235.845818 -37.55625 \r\nL 237.638301 -37.55625 \r\nL 239.430784 -37.55625 \r\nL 241.223267 -37.55625 \r\nL 243.01575 -37.55625 \r\nL 244.808234 -37.55625 \r\nL 246.600717 -37.55625 \r\nL 248.3932 -37.55625 \r\nL 250.185683 -37.55625 \r\nL 251.978166 -37.55625 \r\nL 253.770649 -37.55625 \r\nL 255.563132 -37.55625 \r\nL 257.355616 -37.55625 \r\nL 259.148099 -37.55625 \r\nL 260.940582 -37.55625 \r\nL 262.733065 -37.55625 \r\nL 264.525548 -37.55625 \r\nL 266.318031 -37.55625 \r\nL 268.110514 -37.55625 \r\nL 269.902998 -37.55625 \r\nL 271.695481 -37.55625 \r\nL 273.487964 -37.55625 \r\nL 275.280447 -37.55625 \r\nL 277.07293 -37.55625 \r\nL 278.865413 -37.55625 \r\nL 280.657896 -37.55625 \r\nL 282.450379 -37.55625 \r\nL 284.242863 -37.55625 \r\nL 286.035346 -37.55625 \r\nL 287.827829 -37.55625 \r\nL 289.620312 -37.55625 \r\nL 291.412795 -37.55625 \r\nL 293.205278 -37.55625 \r\nL 294.997761 -37.55625 \r\nL 296.790245 -37.55625 \r\nL 298.582728 -37.55625 \r\nL 300.375211 -37.55625 \r\nL 302.167694 -37.55625 \r\nL 303.960177 -37.55625 \r\nL 305.75266 -37.55625 \r\nL 307.545143 -37.55625 \r\nL 309.337626 -37.55625 \r\nL 311.13011 -37.55625 \r\nL 312.922593 -37.55625 \r\nL 314.715076 -37.55625 \r\nL 316.507559 -37.55625 \r\nL 318.300042 -37.55625 \r\nL 320.092525 -37.55625 \r\nL 321.885008 -37.55625 \r\nL 323.677492 -37.55625 \r\nL 325.469975 -37.55625 \r\nL 327.262458 -37.55625 \r\nL 329.054941 -37.55625 \r\nL 330.847424 -37.55625 \r\nL 332.639907 -37.55625 \r\nL 334.43239 -37.55625 \r\nL 336.224874 -37.55625 \r\nL 338.017357 -37.55625 \r\nL 339.80984 -37.55625 \r\nL 341.602323 -37.55625 \r\nL 343.394806 -37.55625 \r\nL 345.187289 -37.55625 \r\nL 346.979772 -37.55625 \r\nL 348.772255 -37.55625 \r\nL 350.564739 -37.55625 \r\nL 352.357222 -37.55625 \r\nL 354.149705 -37.55625 \r\nL 355.942188 -37.55625 \r\nL 357.734671 -37.55625 \r\nL 359.527154 -37.55625 \r\nL 361.319637 -37.55625 \r\nL 363.112121 -37.55625 \r\nL 364.904604 -37.55625 \r\nL 366.697087 -37.55625 \r\nL 368.48957 -37.55625 \r\nL 370.282053 -37.55625 \r\nL 372.074536 -37.55625 \r\nL 373.867019 -37.55625 \r\nL 375.659502 -37.55625 \r\nL 377.451986 -37.55625 \r\nL 379.244469 -37.55625 \r\nL 381.036952 -37.55625 \r\nL 382.829435 -37.55625 \r\nL 384.621918 -37.55625 \r\nL 386.414401 -37.55625 \r\nL 388.206884 -37.55625 \r\nL 389.999368 -37.55625 \r\nL 391.791851 -37.55625 \r\nL 393.584334 -37.55625 \r\nL 395.376817 -37.55625 \r\nL 397.1693 -37.55625 \r\nL 398.961783 -37.55625 \r\nL 400.754266 -37.55625 \r\nL 402.54675 -37.55625 \r\nL 404.339233 -37.55625 \r\nL 406.131716 -37.55625 \r\nL 407.924199 -37.55625 \r\nL 409.716682 -37.55625 \r\nL 411.509165 -37.55625 \r\nL 413.301648 -37.55625 \r\nL 415.094131 -37.55625 \r\nL 416.886615 -37.55625 \r\nL 418.679098 -37.55625 \r\nL 420.471581 -37.55625 \r\nL 422.264064 -37.55625 \r\nL 424.056547 -37.55625 \r\nL 425.84903 -37.55625 \r\nL 427.641513 -37.55625 \r\nL 429.433997 -37.55625 \r\nL 431.22648 -37.55625 \r\nL 433.018963 -37.55625 \r\nL 434.811446 -37.55625 \r\nL 436.603929 -37.55625 \r\nL 438.396412 -37.55625 \r\nL 440.188895 -37.55625 \r\nL 441.981378 -37.55625 \r\nL 443.773862 -37.55625 \r\nL 445.566345 -37.55625 \r\nL 447.358828 -37.55625 \r\nL 449.151311 -37.55625 \r\nL 450.943794 -37.55625 \r\nL 452.736277 -37.55625 \r\nL 454.52876 -37.55625 \r\nL 456.321244 -37.55625 \r\nL 458.113727 -37.55625 \r\nL 459.90621 -37.55625 \r\nL 461.698693 -37.55625 \r\nL 463.491176 -37.55625 \r\nL 465.283659 -37.55625 \r\nL 467.076142 -37.55625 \r\nL 468.868626 -37.55625 \r\nL 470.661109 -37.55625 \r\nL 472.453592 -37.55625 \r\nL 474.246075 -37.55625 \r\nL 476.038558 -37.55625 \r\nL 477.831041 -37.55625 \r\nL 479.623524 -37.55625 \r\nL 481.416007 -37.55625 \r\nL 483.208491 -37.55625 \r\nL 485.000974 -37.55625 \r\nL 486.793457 -37.55625 \r\nL 488.58594 -37.55625 \r\nL 490.378423 -37.55625 \r\nL 492.170906 -37.55625 \r\nL 493.963389 -37.55625 \r\nL 495.755873 -37.55625 \r\nL 497.548356 -37.55625 \r\nL 499.340839 -37.55625 \r\nL 501.133322 -37.55625 \r\nL 502.925805 -37.55625 \r\nL 504.718288 -37.55625 \r\nL 506.510771 -37.55625 \r\nL 508.303254 -37.55625 \r\nL 510.095738 -37.55625 \r\nL 511.888221 -37.55625 \r\nL 513.680704 -37.55625 \r\nL 515.473187 -37.55625 \r\nL 517.26567 -37.55625 \r\nL 519.058153 -37.55625 \r\nL 520.850636 -37.55625 \r\nL 522.64312 -37.55625 \r\nL 524.435603 -37.55625 \r\nL 526.228086 -37.55625 \r\nL 528.020569 -37.55625 \r\nL 529.813052 -37.55625 \r\nL 531.605535 -37.55625 \r\nL 533.398018 -37.55625 \r\nL 535.190502 -37.55625 \r\nL 536.982985 -37.55625 \r\nL 538.775468 -37.55625 \r\nL 540.567951 -37.55625 \r\nL 542.360434 -37.55625 \r\nL 544.152917 -37.55625 \r\nL 545.9454 -37.55625 \r\nL 547.737883 -37.55625 \r\nL 549.530367 -37.55625 \r\nL 551.32285 -37.55625 \r\nL 553.115333 -37.55625 \r\nL 554.907816 -37.55625 \r\nL 556.700299 -37.55625 \r\nL 558.492782 -37.55625 \r\nL 560.285265 -37.55625 \r\nL 562.077749 -37.55625 \r\nL 563.870232 -37.55625 \r\nL 565.662715 -37.55625 \r\nL 567.455198 -37.55625 \r\nL 569.247681 -37.55625 \r\nL 571.040164 -37.55625 \r\nL 572.832647 -37.55625 \r\nL 574.625131 -37.55625 \r\nL 576.417614 -37.55625 \r\nL 576.417614 -348.184821 \r\nL 576.417614 -348.184821 \r\nL 574.625131 -348.184821 \r\nL 572.832647 -341.479343 \r\nL 571.040164 -335.301762 \r\nL 569.247681 -330.12365 \r\nL 567.455198 -325.29843 \r\nL 565.662715 -311.626013 \r\nL 563.870232 -311.626013 \r\nL 562.077749 -311.626013 \r\nL 560.285265 -306.42537 \r\nL 558.492782 -300.927376 \r\nL 556.700299 -296.480723 \r\nL 554.907816 -292.84622 \r\nL 553.115333 -282.919911 \r\nL 551.32285 -282.919911 \r\nL 549.530367 -282.919911 \r\nL 547.737883 -278.941423 \r\nL 545.9454 -275.452321 \r\nL 544.152917 -272.316374 \r\nL 542.360434 -270.451572 \r\nL 540.567951 -263.153748 \r\nL 538.775468 -263.153748 \r\nL 536.982985 -263.153748 \r\nL 535.190502 -259.803498 \r\nL 533.398018 -256.548872 \r\nL 531.605535 -253.800398 \r\nL 529.813052 -250.657115 \r\nL 528.020569 -244.505733 \r\nL 526.228086 -244.505733 \r\nL 524.435603 -244.505733 \r\nL 522.64312 -241.538765 \r\nL 520.850636 -239.071138 \r\nL 519.058153 -233.589911 \r\nL 517.26567 -233.589911 \r\nL 515.473187 -225.262752 \r\nL 513.680704 -225.262752 \r\nL 511.888221 -225.262752 \r\nL 510.095738 -222.047685 \r\nL 508.303254 -219.25677 \r\nL 506.510771 -216.299234 \r\nL 504.718288 -213.470069 \r\nL 502.925805 -205.236439 \r\nL 501.133322 -205.236439 \r\nL 499.340839 -205.236439 \r\nL 497.548356 -201.466752 \r\nL 495.755873 -198.508692 \r\nL 493.963389 -195.576306 \r\nL 492.170906 -193.103963 \r\nL 490.378423 -185.924556 \r\nL 488.58594 -185.924556 \r\nL 486.793457 -185.924556 \r\nL 485.000974 -182.732806 \r\nL 483.208491 -179.912811 \r\nL 481.416007 -177.590062 \r\nL 479.623524 -175.241638 \r\nL 477.831041 -168.283345 \r\nL 476.038558 -168.283345 \r\nL 474.246075 -168.283345 \r\nL 472.453592 -165.538801 \r\nL 470.661109 -163.191687 \r\nL 468.868626 -160.943603 \r\nL 467.076142 -158.817604 \r\nL 465.283659 -152.642119 \r\nL 463.491176 -152.642119 \r\nL 461.698693 -152.642119 \r\nL 459.90621 -150.080178 \r\nL 458.113727 -147.549937 \r\nL 456.321244 -145.638503 \r\nL 454.52876 -143.773963 \r\nL 452.736277 -138.696191 \r\nL 450.943794 -138.696191 \r\nL 449.151311 -138.696191 \r\nL 447.358828 -136.561546 \r\nL 445.566345 -134.717441 \r\nL 443.773862 -132.969746 \r\nL 441.981378 -131.62996 \r\nL 440.188895 -127.367744 \r\nL 438.396412 -127.367744 \r\nL 436.603929 -127.367744 \r\nL 434.811446 -125.932334 \r\nL 433.018963 -123.954355 \r\nL 431.22648 -123.123342 \r\nL 429.433997 -122.171817 \r\nL 427.641513 -119.914039 \r\nL 425.84903 -119.914039 \r\nL 424.056547 -119.914039 \r\nL 422.264064 -118.733278 \r\nL 420.471581 -117.662288 \r\nL 418.679098 -116.888649 \r\nL 416.886615 -115.379622 \r\nL 415.094131 -113.144375 \r\nL 413.301648 -113.144375 \r\nL 411.509165 -113.144375 \r\nL 409.716682 -112.334321 \r\nL 407.924199 -111.603647 \r\nL 406.131716 -111.071558 \r\nL 404.339233 -110.592651 \r\nL 402.54675 -108.926172 \r\nL 400.754266 -108.926172 \r\nL 398.961783 -108.926172 \r\nL 397.1693 -108.335398 \r\nL 395.376817 -107.65031 \r\nL 393.584334 -107.294798 \r\nL 391.791851 -106.939024 \r\nL 389.999368 -105.738875 \r\nL 388.206884 -105.738875 \r\nL 386.414401 -105.738875 \r\nL 384.621918 -105.372098 \r\nL 382.829435 -105.015538 \r\nL 381.036952 -104.786302 \r\nL 379.244469 -104.611821 \r\nL 377.451986 -104.076063 \r\nL 375.659502 -104.076063 \r\nL 373.867019 -104.076063 \r\nL 372.074536 -103.852853 \r\nL 370.282053 -103.710596 \r\nL 368.48957 -103.610256 \r\nL 366.697087 -103.520919 \r\nL 364.904604 -103.195011 \r\nL 363.112121 -103.195011 \r\nL 361.319637 -103.195011 \r\nL 359.527154 -103.079215 \r\nL 357.734671 -102.962894 \r\nL 355.942188 -102.861244 \r\nL 354.149705 -102.782387 \r\nL 352.357222 -102.72999 \r\nL 350.564739 -102.651133 \r\nL 348.772255 -102.503374 \r\nL 346.979772 -102.393603 \r\nL 345.187289 -102.288809 \r\nL 343.394806 -102.201306 \r\nL 341.602323 -102.136334 \r\nL 339.80984 -102.075554 \r\nL 338.017357 -101.988052 \r\nL 336.224874 -101.892951 \r\nL 334.43239 -101.812522 \r\nL 332.639907 -101.659262 \r\nL 330.847424 -101.566257 \r\nL 329.054941 -101.508883 \r\nL 327.262458 -101.461464 \r\nL 325.469975 -101.376843 \r\nL 323.677492 -101.273097 \r\nL 321.885008 -101.141582 \r\nL 320.092525 -101.029714 \r\nL 318.300042 -100.947451 \r\nL 316.507559 -100.882217 \r\nL 314.715076 -100.838466 \r\nL 312.922593 -100.77559 \r\nL 311.13011 -100.688611 \r\nL 309.337626 -100.6053 \r\nL 307.545143 -100.517798 \r\nL 305.75266 -100.414576 \r\nL 303.960177 -100.337553 \r\nL 302.167694 -100.295897 \r\nL 300.375211 -100.230139 \r\nL 298.582728 -100.056182 \r\nL 296.790245 -99.883797 \r\nL 294.997761 -99.452309 \r\nL 293.205278 -99.452309 \r\nL 291.412795 -99.227265 \r\nL 289.620312 -99.324723 \r\nL 287.827829 -99.198447 \r\nL 286.035346 -99.076362 \r\nL 284.242863 -98.608197 \r\nL 282.450379 -98.481921 \r\nL 280.657896 -98.346213 \r\nL 278.865413 -98.233298 \r\nL 277.07293 -97.995417 \r\nL 275.280447 -97.995417 \r\nL 273.487964 -97.860495 \r\nL 271.695481 -97.692039 \r\nL 269.902998 -97.469615 \r\nL 268.110514 -97.296443 \r\nL 266.318031 -97.140825 \r\nL 264.525548 -96.332343 \r\nL 262.733065 -96.130091 \r\nL 260.940582 -95.941201 \r\nL 259.148099 -95.571803 \r\nL 257.355616 -95.277857 \r\nL 255.563132 -95.016921 \r\nL 253.770649 -94.671627 \r\nL 251.978166 -94.528845 \r\nL 250.185683 -94.297252 \r\nL 248.3932 -93.939382 \r\nL 246.600717 -93.472788 \r\nL 244.808234 -93.33708 \r\nL 243.01575 -92.775387 \r\nL 241.223267 -92.432712 \r\nL 239.430784 -91.953019 \r\nL 237.638301 -91.500049 \r\nL 235.845818 -90.736366 \r\nL 234.053335 -93.365113 \r\nL 232.260852 -92.150817 \r\nL 230.468369 -91.047603 \r\nL 228.675885 -90.008051 \r\nL 226.883402 -89.605644 \r\nL 225.090919 -87.785379 \r\nL 223.298436 -87.552999 \r\nL 221.505953 -86.009652 \r\nL 219.71347 -84.096122 \r\nL 217.920987 -82.759218 \r\nL 216.128503 -82.119453 \r\nL 214.33602 -81.26329 \r\nL 212.543537 -80.266703 \r\nL 210.751054 -79.021231 \r\nL 208.958571 -77.69795 \r\nL 207.166088 -76.387507 \r\nL 205.373605 -74.742772 \r\nL 203.581122 -73.362902 \r\nL 201.788638 -72.045385 \r\nL 199.996155 -70.610237 \r\nL 198.203672 -68.784471 \r\nL 196.411189 -66.915478 \r\nL 194.618706 -64.833492 \r\nL 192.826223 -62.686534 \r\nL 191.03374 -60.599308 \r\nL 189.241256 -58.543782 \r\nL 187.448773 -56.742642 \r\nL 185.65629 -54.773571 \r\nL 183.863807 -52.695253 \r\nL 182.071324 -50.528384 \r\nL 180.278841 -48.005479 \r\nL 178.486358 -46.761317 \r\nL 176.693874 -45.093003 \r\nL 174.901391 -44.20383 \r\nL 173.108908 -42.903342 \r\nL 171.316425 -42.262267 \r\nL 169.523942 -41.200446 \r\nL 167.731459 -40.634037 \r\nL 165.938976 -40.160894 \r\nL 164.146493 -39.599201 \r\nL 162.354009 -39.230589 \r\nL 160.561526 -38.92695 \r\nL 158.769043 -38.152787 \r\nL 156.97656 -38.152787 \r\nL 155.184077 -38.000313 \r\nL 153.391594 -37.837359 \r\nL 151.599111 -37.732565 \r\nL 149.806627 -37.687242 \r\nL 148.014144 -37.661044 \r\nL 146.221661 -37.624104 \r\nL 144.429178 -37.61441 \r\nL 142.636695 -37.599477 \r\nL 140.844212 -37.587688 \r\nL 139.051729 -37.578257 \r\nL 137.259246 -37.568039 \r\nL 135.466762 -37.564633 \r\nL 133.674279 -37.56018 \r\nL 131.881796 -37.559656 \r\nL 130.089313 -37.557822 \r\nL 128.29683 -37.556774 \r\nL 126.504347 -37.556774 \r\nL 124.711864 -37.556774 \r\nL 122.91938 -37.556774 \r\nL 121.126897 -37.556774 \r\nL 119.334414 -37.556774 \r\nL 117.541931 -37.556774 \r\nL 115.749448 -37.556774 \r\nL 113.956965 -37.556774 \r\nL 112.164482 -37.556774 \r\nL 110.371998 -37.556774 \r\nL 108.579515 -37.556774 \r\nL 106.787032 -37.556774 \r\nL 104.994549 -37.556774 \r\nL 103.202066 -37.556774 \r\nL 101.409583 -37.556774 \r\nL 99.6171 -37.556512 \r\nL 97.824617 -37.556512 \r\nL 96.032133 -37.556512 \r\nL 94.23965 -37.556512 \r\nL 92.447167 -37.556512 \r\nL 90.654684 -37.556512 \r\nL 88.862201 -37.556512 \r\nL 87.069718 -37.556512 \r\nL 85.277235 -37.55625 \r\nL 83.484751 -37.55625 \r\nL 81.692268 -37.55625 \r\nL 79.899785 -37.55625 \r\nL 78.107302 -37.55625 \r\nL 76.314819 -37.55625 \r\nL 74.522336 -37.55625 \r\nL 72.729853 -37.55625 \r\nL 70.937369 -37.55625 \r\nL 69.144886 -37.55625 \r\nz\r\n\" id=\"mf49de32e62\" style=\"stroke:#1f77b4;\"/>\r\n    </defs>\r\n    <g clip-path=\"url(#pfd6d1b99f9)\">\r\n     <use style=\"fill:#1f77b4;stroke:#1f77b4;\" x=\"0\" xlink:href=\"#mf49de32e62\" y=\"386.034375\"/>\r\n    </g>\r\n   </g>\r\n   <g id=\"matplotlib.axis_1\">\r\n    <g id=\"xtick_1\">\r\n     <g id=\"line2d_1\">\r\n      <defs>\r\n       <path d=\"M 0 0 \r\nL 0 3.5 \r\n\" id=\"mfd7de9c5fb\" style=\"stroke:#000000;stroke-width:0.8;\"/>\r\n      </defs>\r\n      <g>\r\n       <use style=\"stroke:#000000;stroke-width:0.8;\" x=\"69.144886\" xlink:href=\"#mfd7de9c5fb\" y=\"348.478125\"/>\r\n      </g>\r\n     </g>\r\n     <g id=\"text_1\">\r\n      <!-- 1/22/20 -->\r\n      <g transform=\"translate(49.869886 363.076562)scale(0.1 -0.1)\">\r\n       <defs>\r\n        <path d=\"M 12.40625 8.296875 \r\nL 28.515625 8.296875 \r\nL 28.515625 63.921875 \r\nL 10.984375 60.40625 \r\nL 10.984375 69.390625 \r\nL 28.421875 72.90625 \r\nL 38.28125 72.90625 \r\nL 38.28125 8.296875 \r\nL 54.390625 8.296875 \r\nL 54.390625 0 \r\nL 12.40625 0 \r\nz\r\n\" id=\"DejaVuSans-49\"/>\r\n        <path d=\"M 25.390625 72.90625 \r\nL 33.6875 72.90625 \r\nL 8.296875 -9.28125 \r\nL 0 -9.28125 \r\nz\r\n\" id=\"DejaVuSans-47\"/>\r\n        <path d=\"M 19.1875 8.296875 \r\nL 53.609375 8.296875 \r\nL 53.609375 0 \r\nL 7.328125 0 \r\nL 7.328125 8.296875 \r\nQ 12.9375 14.109375 22.625 23.890625 \r\nQ 32.328125 33.6875 34.8125 36.53125 \r\nQ 39.546875 41.84375 41.421875 45.53125 \r\nQ 43.3125 49.21875 43.3125 52.78125 \r\nQ 43.3125 58.59375 39.234375 62.25 \r\nQ 35.15625 65.921875 28.609375 65.921875 \r\nQ 23.96875 65.921875 18.8125 64.3125 \r\nQ 13.671875 62.703125 7.8125 59.421875 \r\nL 7.8125 69.390625 \r\nQ 13.765625 71.78125 18.9375 73 \r\nQ 24.125 74.21875 28.421875 74.21875 \r\nQ 39.75 74.21875 46.484375 68.546875 \r\nQ 53.21875 62.890625 53.21875 53.421875 \r\nQ 53.21875 48.921875 51.53125 44.890625 \r\nQ 49.859375 40.875 45.40625 35.40625 \r\nQ 44.1875 33.984375 37.640625 27.21875 \r\nQ 31.109375 20.453125 19.1875 8.296875 \r\nz\r\n\" id=\"DejaVuSans-50\"/>\r\n        <path d=\"M 31.78125 66.40625 \r\nQ 24.171875 66.40625 20.328125 58.90625 \r\nQ 16.5 51.421875 16.5 36.375 \r\nQ 16.5 21.390625 20.328125 13.890625 \r\nQ 24.171875 6.390625 31.78125 6.390625 \r\nQ 39.453125 6.390625 43.28125 13.890625 \r\nQ 47.125 21.390625 47.125 36.375 \r\nQ 47.125 51.421875 43.28125 58.90625 \r\nQ 39.453125 66.40625 31.78125 66.40625 \r\nz\r\nM 31.78125 74.21875 \r\nQ 44.046875 74.21875 50.515625 64.515625 \r\nQ 56.984375 54.828125 56.984375 36.375 \r\nQ 56.984375 17.96875 50.515625 8.265625 \r\nQ 44.046875 -1.421875 31.78125 -1.421875 \r\nQ 19.53125 -1.421875 13.0625 8.265625 \r\nQ 6.59375 17.96875 6.59375 36.375 \r\nQ 6.59375 54.828125 13.0625 64.515625 \r\nQ 19.53125 74.21875 31.78125 74.21875 \r\nz\r\n\" id=\"DejaVuSans-48\"/>\r\n       </defs>\r\n       <use xlink:href=\"#DejaVuSans-49\"/>\r\n       <use x=\"63.623047\" xlink:href=\"#DejaVuSans-47\"/>\r\n       <use x=\"97.314453\" xlink:href=\"#DejaVuSans-50\"/>\r\n       <use x=\"160.9375\" xlink:href=\"#DejaVuSans-50\"/>\r\n       <use x=\"224.560547\" xlink:href=\"#DejaVuSans-47\"/>\r\n       <use x=\"258.251953\" xlink:href=\"#DejaVuSans-50\"/>\r\n       <use x=\"321.875\" xlink:href=\"#DejaVuSans-48\"/>\r\n      </g>\r\n     </g>\r\n    </g>\r\n    <g id=\"xtick_2\">\r\n     <g id=\"line2d_2\">\r\n      <g>\r\n       <use style=\"stroke:#000000;stroke-width:0.8;\" x=\"158.769043\" xlink:href=\"#mfd7de9c5fb\" y=\"348.478125\"/>\r\n      </g>\r\n     </g>\r\n     <g id=\"text_2\">\r\n      <!-- 3/12/20 -->\r\n      <g transform=\"translate(139.494043 363.076562)scale(0.1 -0.1)\">\r\n       <defs>\r\n        <path d=\"M 40.578125 39.3125 \r\nQ 47.65625 37.796875 51.625 33 \r\nQ 55.609375 28.21875 55.609375 21.1875 \r\nQ 55.609375 10.40625 48.1875 4.484375 \r\nQ 40.765625 -1.421875 27.09375 -1.421875 \r\nQ 22.515625 -1.421875 17.65625 -0.515625 \r\nQ 12.796875 0.390625 7.625 2.203125 \r\nL 7.625 11.71875 \r\nQ 11.71875 9.328125 16.59375 8.109375 \r\nQ 21.484375 6.890625 26.8125 6.890625 \r\nQ 36.078125 6.890625 40.9375 10.546875 \r\nQ 45.796875 14.203125 45.796875 21.1875 \r\nQ 45.796875 27.640625 41.28125 31.265625 \r\nQ 36.765625 34.90625 28.71875 34.90625 \r\nL 20.21875 34.90625 \r\nL 20.21875 43.015625 \r\nL 29.109375 43.015625 \r\nQ 36.375 43.015625 40.234375 45.921875 \r\nQ 44.09375 48.828125 44.09375 54.296875 \r\nQ 44.09375 59.90625 40.109375 62.90625 \r\nQ 36.140625 65.921875 28.71875 65.921875 \r\nQ 24.65625 65.921875 20.015625 65.03125 \r\nQ 15.375 64.15625 9.8125 62.3125 \r\nL 9.8125 71.09375 \r\nQ 15.4375 72.65625 20.34375 73.4375 \r\nQ 25.25 74.21875 29.59375 74.21875 \r\nQ 40.828125 74.21875 47.359375 69.109375 \r\nQ 53.90625 64.015625 53.90625 55.328125 \r\nQ 53.90625 49.265625 50.4375 45.09375 \r\nQ 46.96875 40.921875 40.578125 39.3125 \r\nz\r\n\" id=\"DejaVuSans-51\"/>\r\n       </defs>\r\n       <use xlink:href=\"#DejaVuSans-51\"/>\r\n       <use x=\"63.623047\" xlink:href=\"#DejaVuSans-47\"/>\r\n       <use x=\"97.314453\" xlink:href=\"#DejaVuSans-49\"/>\r\n       <use x=\"160.9375\" xlink:href=\"#DejaVuSans-50\"/>\r\n       <use x=\"224.560547\" xlink:href=\"#DejaVuSans-47\"/>\r\n       <use x=\"258.251953\" xlink:href=\"#DejaVuSans-50\"/>\r\n       <use x=\"321.875\" xlink:href=\"#DejaVuSans-48\"/>\r\n      </g>\r\n     </g>\r\n    </g>\r\n    <g id=\"xtick_3\">\r\n     <g id=\"line2d_3\">\r\n      <g>\r\n       <use style=\"stroke:#000000;stroke-width:0.8;\" x=\"248.3932\" xlink:href=\"#mfd7de9c5fb\" y=\"348.478125\"/>\r\n      </g>\r\n     </g>\r\n     <g id=\"text_3\">\r\n      <!-- 5/1/20 -->\r\n      <g transform=\"translate(232.29945 363.076562)scale(0.1 -0.1)\">\r\n       <defs>\r\n        <path d=\"M 10.796875 72.90625 \r\nL 49.515625 72.90625 \r\nL 49.515625 64.59375 \r\nL 19.828125 64.59375 \r\nL 19.828125 46.734375 \r\nQ 21.96875 47.46875 24.109375 47.828125 \r\nQ 26.265625 48.1875 28.421875 48.1875 \r\nQ 40.625 48.1875 47.75 41.5 \r\nQ 54.890625 34.8125 54.890625 23.390625 \r\nQ 54.890625 11.625 47.5625 5.09375 \r\nQ 40.234375 -1.421875 26.90625 -1.421875 \r\nQ 22.3125 -1.421875 17.546875 -0.640625 \r\nQ 12.796875 0.140625 7.71875 1.703125 \r\nL 7.71875 11.625 \r\nQ 12.109375 9.234375 16.796875 8.0625 \r\nQ 21.484375 6.890625 26.703125 6.890625 \r\nQ 35.15625 6.890625 40.078125 11.328125 \r\nQ 45.015625 15.765625 45.015625 23.390625 \r\nQ 45.015625 31 40.078125 35.4375 \r\nQ 35.15625 39.890625 26.703125 39.890625 \r\nQ 22.75 39.890625 18.8125 39.015625 \r\nQ 14.890625 38.140625 10.796875 36.28125 \r\nz\r\n\" id=\"DejaVuSans-53\"/>\r\n       </defs>\r\n       <use xlink:href=\"#DejaVuSans-53\"/>\r\n       <use x=\"63.623047\" xlink:href=\"#DejaVuSans-47\"/>\r\n       <use x=\"97.314453\" xlink:href=\"#DejaVuSans-49\"/>\r\n       <use x=\"160.9375\" xlink:href=\"#DejaVuSans-47\"/>\r\n       <use x=\"194.628906\" xlink:href=\"#DejaVuSans-50\"/>\r\n       <use x=\"258.251953\" xlink:href=\"#DejaVuSans-48\"/>\r\n      </g>\r\n     </g>\r\n    </g>\r\n    <g id=\"xtick_4\">\r\n     <g id=\"line2d_4\">\r\n      <g>\r\n       <use style=\"stroke:#000000;stroke-width:0.8;\" x=\"338.017357\" xlink:href=\"#mfd7de9c5fb\" y=\"348.478125\"/>\r\n      </g>\r\n     </g>\r\n     <g id=\"text_4\">\r\n      <!-- 6/20/20 -->\r\n      <g transform=\"translate(318.742357 363.076562)scale(0.1 -0.1)\">\r\n       <defs>\r\n        <path d=\"M 33.015625 40.375 \r\nQ 26.375 40.375 22.484375 35.828125 \r\nQ 18.609375 31.296875 18.609375 23.390625 \r\nQ 18.609375 15.53125 22.484375 10.953125 \r\nQ 26.375 6.390625 33.015625 6.390625 \r\nQ 39.65625 6.390625 43.53125 10.953125 \r\nQ 47.40625 15.53125 47.40625 23.390625 \r\nQ 47.40625 31.296875 43.53125 35.828125 \r\nQ 39.65625 40.375 33.015625 40.375 \r\nz\r\nM 52.59375 71.296875 \r\nL 52.59375 62.3125 \r\nQ 48.875 64.0625 45.09375 64.984375 \r\nQ 41.3125 65.921875 37.59375 65.921875 \r\nQ 27.828125 65.921875 22.671875 59.328125 \r\nQ 17.53125 52.734375 16.796875 39.40625 \r\nQ 19.671875 43.65625 24.015625 45.921875 \r\nQ 28.375 48.1875 33.59375 48.1875 \r\nQ 44.578125 48.1875 50.953125 41.515625 \r\nQ 57.328125 34.859375 57.328125 23.390625 \r\nQ 57.328125 12.15625 50.6875 5.359375 \r\nQ 44.046875 -1.421875 33.015625 -1.421875 \r\nQ 20.359375 -1.421875 13.671875 8.265625 \r\nQ 6.984375 17.96875 6.984375 36.375 \r\nQ 6.984375 53.65625 15.1875 63.9375 \r\nQ 23.390625 74.21875 37.203125 74.21875 \r\nQ 40.921875 74.21875 44.703125 73.484375 \r\nQ 48.484375 72.75 52.59375 71.296875 \r\nz\r\n\" id=\"DejaVuSans-54\"/>\r\n       </defs>\r\n       <use xlink:href=\"#DejaVuSans-54\"/>\r\n       <use x=\"63.623047\" xlink:href=\"#DejaVuSans-47\"/>\r\n       <use x=\"97.314453\" xlink:href=\"#DejaVuSans-50\"/>\r\n       <use x=\"160.9375\" xlink:href=\"#DejaVuSans-48\"/>\r\n       <use x=\"224.560547\" xlink:href=\"#DejaVuSans-47\"/>\r\n       <use x=\"258.251953\" xlink:href=\"#DejaVuSans-50\"/>\r\n       <use x=\"321.875\" xlink:href=\"#DejaVuSans-48\"/>\r\n      </g>\r\n     </g>\r\n    </g>\r\n    <g id=\"xtick_5\">\r\n     <g id=\"line2d_5\">\r\n      <g>\r\n       <use style=\"stroke:#000000;stroke-width:0.8;\" x=\"427.641513\" xlink:href=\"#mfd7de9c5fb\" y=\"348.478125\"/>\r\n      </g>\r\n     </g>\r\n     <g id=\"text_5\">\r\n      <!-- 8/9/20 -->\r\n      <g transform=\"translate(411.547763 363.076562)scale(0.1 -0.1)\">\r\n       <defs>\r\n        <path d=\"M 31.78125 34.625 \r\nQ 24.75 34.625 20.71875 30.859375 \r\nQ 16.703125 27.09375 16.703125 20.515625 \r\nQ 16.703125 13.921875 20.71875 10.15625 \r\nQ 24.75 6.390625 31.78125 6.390625 \r\nQ 38.8125 6.390625 42.859375 10.171875 \r\nQ 46.921875 13.96875 46.921875 20.515625 \r\nQ 46.921875 27.09375 42.890625 30.859375 \r\nQ 38.875 34.625 31.78125 34.625 \r\nz\r\nM 21.921875 38.8125 \r\nQ 15.578125 40.375 12.03125 44.71875 \r\nQ 8.5 49.078125 8.5 55.328125 \r\nQ 8.5 64.0625 14.71875 69.140625 \r\nQ 20.953125 74.21875 31.78125 74.21875 \r\nQ 42.671875 74.21875 48.875 69.140625 \r\nQ 55.078125 64.0625 55.078125 55.328125 \r\nQ 55.078125 49.078125 51.53125 44.71875 \r\nQ 48 40.375 41.703125 38.8125 \r\nQ 48.828125 37.15625 52.796875 32.3125 \r\nQ 56.78125 27.484375 56.78125 20.515625 \r\nQ 56.78125 9.90625 50.3125 4.234375 \r\nQ 43.84375 -1.421875 31.78125 -1.421875 \r\nQ 19.734375 -1.421875 13.25 4.234375 \r\nQ 6.78125 9.90625 6.78125 20.515625 \r\nQ 6.78125 27.484375 10.78125 32.3125 \r\nQ 14.796875 37.15625 21.921875 38.8125 \r\nz\r\nM 18.3125 54.390625 \r\nQ 18.3125 48.734375 21.84375 45.5625 \r\nQ 25.390625 42.390625 31.78125 42.390625 \r\nQ 38.140625 42.390625 41.71875 45.5625 \r\nQ 45.3125 48.734375 45.3125 54.390625 \r\nQ 45.3125 60.0625 41.71875 63.234375 \r\nQ 38.140625 66.40625 31.78125 66.40625 \r\nQ 25.390625 66.40625 21.84375 63.234375 \r\nQ 18.3125 60.0625 18.3125 54.390625 \r\nz\r\n\" id=\"DejaVuSans-56\"/>\r\n        <path d=\"M 10.984375 1.515625 \r\nL 10.984375 10.5 \r\nQ 14.703125 8.734375 18.5 7.8125 \r\nQ 22.3125 6.890625 25.984375 6.890625 \r\nQ 35.75 6.890625 40.890625 13.453125 \r\nQ 46.046875 20.015625 46.78125 33.40625 \r\nQ 43.953125 29.203125 39.59375 26.953125 \r\nQ 35.25 24.703125 29.984375 24.703125 \r\nQ 19.046875 24.703125 12.671875 31.3125 \r\nQ 6.296875 37.9375 6.296875 49.421875 \r\nQ 6.296875 60.640625 12.9375 67.421875 \r\nQ 19.578125 74.21875 30.609375 74.21875 \r\nQ 43.265625 74.21875 49.921875 64.515625 \r\nQ 56.59375 54.828125 56.59375 36.375 \r\nQ 56.59375 19.140625 48.40625 8.859375 \r\nQ 40.234375 -1.421875 26.421875 -1.421875 \r\nQ 22.703125 -1.421875 18.890625 -0.6875 \r\nQ 15.09375 0.046875 10.984375 1.515625 \r\nz\r\nM 30.609375 32.421875 \r\nQ 37.25 32.421875 41.125 36.953125 \r\nQ 45.015625 41.5 45.015625 49.421875 \r\nQ 45.015625 57.28125 41.125 61.84375 \r\nQ 37.25 66.40625 30.609375 66.40625 \r\nQ 23.96875 66.40625 20.09375 61.84375 \r\nQ 16.21875 57.28125 16.21875 49.421875 \r\nQ 16.21875 41.5 20.09375 36.953125 \r\nQ 23.96875 32.421875 30.609375 32.421875 \r\nz\r\n\" id=\"DejaVuSans-57\"/>\r\n       </defs>\r\n       <use xlink:href=\"#DejaVuSans-56\"/>\r\n       <use x=\"63.623047\" xlink:href=\"#DejaVuSans-47\"/>\r\n       <use x=\"97.314453\" xlink:href=\"#DejaVuSans-57\"/>\r\n       <use x=\"160.9375\" xlink:href=\"#DejaVuSans-47\"/>\r\n       <use x=\"194.628906\" xlink:href=\"#DejaVuSans-50\"/>\r\n       <use x=\"258.251953\" xlink:href=\"#DejaVuSans-48\"/>\r\n      </g>\r\n     </g>\r\n    </g>\r\n    <g id=\"xtick_6\">\r\n     <g id=\"line2d_6\">\r\n      <g>\r\n       <use style=\"stroke:#000000;stroke-width:0.8;\" x=\"517.26567\" xlink:href=\"#mfd7de9c5fb\" y=\"348.478125\"/>\r\n      </g>\r\n     </g>\r\n     <g id=\"text_6\">\r\n      <!-- 9/28/20 -->\r\n      <g transform=\"translate(497.99067 363.076562)scale(0.1 -0.1)\">\r\n       <use xlink:href=\"#DejaVuSans-57\"/>\r\n       <use x=\"63.623047\" xlink:href=\"#DejaVuSans-47\"/>\r\n       <use x=\"97.314453\" xlink:href=\"#DejaVuSans-50\"/>\r\n       <use x=\"160.9375\" xlink:href=\"#DejaVuSans-56\"/>\r\n       <use x=\"224.560547\" xlink:href=\"#DejaVuSans-47\"/>\r\n       <use x=\"258.251953\" xlink:href=\"#DejaVuSans-50\"/>\r\n       <use x=\"321.875\" xlink:href=\"#DejaVuSans-48\"/>\r\n      </g>\r\n     </g>\r\n    </g>\r\n    <g id=\"text_7\">\r\n     <!-- da -->\r\n     <g transform=\"translate(316.542969 376.754687)scale(0.1 -0.1)\">\r\n      <defs>\r\n       <path d=\"M 45.40625 46.390625 \r\nL 45.40625 75.984375 \r\nL 54.390625 75.984375 \r\nL 54.390625 0 \r\nL 45.40625 0 \r\nL 45.40625 8.203125 \r\nQ 42.578125 3.328125 38.25 0.953125 \r\nQ 33.9375 -1.421875 27.875 -1.421875 \r\nQ 17.96875 -1.421875 11.734375 6.484375 \r\nQ 5.515625 14.40625 5.515625 27.296875 \r\nQ 5.515625 40.1875 11.734375 48.09375 \r\nQ 17.96875 56 27.875 56 \r\nQ 33.9375 56 38.25 53.625 \r\nQ 42.578125 51.265625 45.40625 46.390625 \r\nz\r\nM 14.796875 27.296875 \r\nQ 14.796875 17.390625 18.875 11.75 \r\nQ 22.953125 6.109375 30.078125 6.109375 \r\nQ 37.203125 6.109375 41.296875 11.75 \r\nQ 45.40625 17.390625 45.40625 27.296875 \r\nQ 45.40625 37.203125 41.296875 42.84375 \r\nQ 37.203125 48.484375 30.078125 48.484375 \r\nQ 22.953125 48.484375 18.875 42.84375 \r\nQ 14.796875 37.203125 14.796875 27.296875 \r\nz\r\n\" id=\"DejaVuSans-100\"/>\r\n       <path d=\"M 34.28125 27.484375 \r\nQ 23.390625 27.484375 19.1875 25 \r\nQ 14.984375 22.515625 14.984375 16.5 \r\nQ 14.984375 11.71875 18.140625 8.90625 \r\nQ 21.296875 6.109375 26.703125 6.109375 \r\nQ 34.1875 6.109375 38.703125 11.40625 \r\nQ 43.21875 16.703125 43.21875 25.484375 \r\nL 43.21875 27.484375 \r\nz\r\nM 52.203125 31.203125 \r\nL 52.203125 0 \r\nL 43.21875 0 \r\nL 43.21875 8.296875 \r\nQ 40.140625 3.328125 35.546875 0.953125 \r\nQ 30.953125 -1.421875 24.3125 -1.421875 \r\nQ 15.921875 -1.421875 10.953125 3.296875 \r\nQ 6 8.015625 6 15.921875 \r\nQ 6 25.140625 12.171875 29.828125 \r\nQ 18.359375 34.515625 30.609375 34.515625 \r\nL 43.21875 34.515625 \r\nL 43.21875 35.40625 \r\nQ 43.21875 41.609375 39.140625 45 \r\nQ 35.0625 48.390625 27.6875 48.390625 \r\nQ 23 48.390625 18.546875 47.265625 \r\nQ 14.109375 46.140625 10.015625 43.890625 \r\nL 10.015625 52.203125 \r\nQ 14.9375 54.109375 19.578125 55.046875 \r\nQ 24.21875 56 28.609375 56 \r\nQ 40.484375 56 46.34375 49.84375 \r\nQ 52.203125 43.703125 52.203125 31.203125 \r\nz\r\n\" id=\"DejaVuSans-97\"/>\r\n      </defs>\r\n      <use xlink:href=\"#DejaVuSans-100\"/>\r\n      <use x=\"63.476562\" xlink:href=\"#DejaVuSans-97\"/>\r\n     </g>\r\n    </g>\r\n   </g>\r\n   <g id=\"matplotlib.axis_2\">\r\n    <g id=\"ytick_1\">\r\n     <g id=\"line2d_7\">\r\n      <defs>\r\n       <path d=\"M 0 0 \r\nL -3.5 0 \r\n\" id=\"m378d4a4243\" style=\"stroke:#000000;stroke-width:0.8;\"/>\r\n      </defs>\r\n      <g>\r\n       <use style=\"stroke:#000000;stroke-width:0.8;\" x=\"43.78125\" xlink:href=\"#m378d4a4243\" y=\"348.478125\"/>\r\n      </g>\r\n     </g>\r\n     <g id=\"text_8\">\r\n      <!-- 0.0 -->\r\n      <g transform=\"translate(20.878125 352.277344)scale(0.1 -0.1)\">\r\n       <defs>\r\n        <path d=\"M 10.6875 12.40625 \r\nL 21 12.40625 \r\nL 21 0 \r\nL 10.6875 0 \r\nz\r\n\" id=\"DejaVuSans-46\"/>\r\n       </defs>\r\n       <use xlink:href=\"#DejaVuSans-48\"/>\r\n       <use x=\"63.623047\" xlink:href=\"#DejaVuSans-46\"/>\r\n       <use x=\"95.410156\" xlink:href=\"#DejaVuSans-48\"/>\r\n      </g>\r\n     </g>\r\n    </g>\r\n    <g id=\"ytick_2\">\r\n     <g id=\"line2d_8\">\r\n      <g>\r\n       <use style=\"stroke:#000000;stroke-width:0.8;\" x=\"43.78125\" xlink:href=\"#m378d4a4243\" y=\"296.081341\"/>\r\n      </g>\r\n     </g>\r\n     <g id=\"text_9\">\r\n      <!-- 0.2 -->\r\n      <g transform=\"translate(20.878125 299.88056)scale(0.1 -0.1)\">\r\n       <use xlink:href=\"#DejaVuSans-48\"/>\r\n       <use x=\"63.623047\" xlink:href=\"#DejaVuSans-46\"/>\r\n       <use x=\"95.410156\" xlink:href=\"#DejaVuSans-50\"/>\r\n      </g>\r\n     </g>\r\n    </g>\r\n    <g id=\"ytick_3\">\r\n     <g id=\"line2d_9\">\r\n      <g>\r\n       <use style=\"stroke:#000000;stroke-width:0.8;\" x=\"43.78125\" xlink:href=\"#m378d4a4243\" y=\"243.684557\"/>\r\n      </g>\r\n     </g>\r\n     <g id=\"text_10\">\r\n      <!-- 0.4 -->\r\n      <g transform=\"translate(20.878125 247.483775)scale(0.1 -0.1)\">\r\n       <defs>\r\n        <path d=\"M 37.796875 64.3125 \r\nL 12.890625 25.390625 \r\nL 37.796875 25.390625 \r\nz\r\nM 35.203125 72.90625 \r\nL 47.609375 72.90625 \r\nL 47.609375 25.390625 \r\nL 58.015625 25.390625 \r\nL 58.015625 17.1875 \r\nL 47.609375 17.1875 \r\nL 47.609375 0 \r\nL 37.796875 0 \r\nL 37.796875 17.1875 \r\nL 4.890625 17.1875 \r\nL 4.890625 26.703125 \r\nz\r\n\" id=\"DejaVuSans-52\"/>\r\n       </defs>\r\n       <use xlink:href=\"#DejaVuSans-48\"/>\r\n       <use x=\"63.623047\" xlink:href=\"#DejaVuSans-46\"/>\r\n       <use x=\"95.410156\" xlink:href=\"#DejaVuSans-52\"/>\r\n      </g>\r\n     </g>\r\n    </g>\r\n    <g id=\"ytick_4\">\r\n     <g id=\"line2d_10\">\r\n      <g>\r\n       <use style=\"stroke:#000000;stroke-width:0.8;\" x=\"43.78125\" xlink:href=\"#m378d4a4243\" y=\"191.287772\"/>\r\n      </g>\r\n     </g>\r\n     <g id=\"text_11\">\r\n      <!-- 0.6 -->\r\n      <g transform=\"translate(20.878125 195.086991)scale(0.1 -0.1)\">\r\n       <use xlink:href=\"#DejaVuSans-48\"/>\r\n       <use x=\"63.623047\" xlink:href=\"#DejaVuSans-46\"/>\r\n       <use x=\"95.410156\" xlink:href=\"#DejaVuSans-54\"/>\r\n      </g>\r\n     </g>\r\n    </g>\r\n    <g id=\"ytick_5\">\r\n     <g id=\"line2d_11\">\r\n      <g>\r\n       <use style=\"stroke:#000000;stroke-width:0.8;\" x=\"43.78125\" xlink:href=\"#m378d4a4243\" y=\"138.890988\"/>\r\n      </g>\r\n     </g>\r\n     <g id=\"text_12\">\r\n      <!-- 0.8 -->\r\n      <g transform=\"translate(20.878125 142.690207)scale(0.1 -0.1)\">\r\n       <use xlink:href=\"#DejaVuSans-48\"/>\r\n       <use x=\"63.623047\" xlink:href=\"#DejaVuSans-46\"/>\r\n       <use x=\"95.410156\" xlink:href=\"#DejaVuSans-56\"/>\r\n      </g>\r\n     </g>\r\n    </g>\r\n    <g id=\"ytick_6\">\r\n     <g id=\"line2d_12\">\r\n      <g>\r\n       <use style=\"stroke:#000000;stroke-width:0.8;\" x=\"43.78125\" xlink:href=\"#m378d4a4243\" y=\"86.494204\"/>\r\n      </g>\r\n     </g>\r\n     <g id=\"text_13\">\r\n      <!-- 1.0 -->\r\n      <g transform=\"translate(20.878125 90.293423)scale(0.1 -0.1)\">\r\n       <use xlink:href=\"#DejaVuSans-49\"/>\r\n       <use x=\"63.623047\" xlink:href=\"#DejaVuSans-46\"/>\r\n       <use x=\"95.410156\" xlink:href=\"#DejaVuSans-48\"/>\r\n      </g>\r\n     </g>\r\n    </g>\r\n    <g id=\"ytick_7\">\r\n     <g id=\"line2d_13\">\r\n      <g>\r\n       <use style=\"stroke:#000000;stroke-width:0.8;\" x=\"43.78125\" xlink:href=\"#m378d4a4243\" y=\"34.09742\"/>\r\n      </g>\r\n     </g>\r\n     <g id=\"text_14\">\r\n      <!-- 1.2 -->\r\n      <g transform=\"translate(20.878125 37.896639)scale(0.1 -0.1)\">\r\n       <use xlink:href=\"#DejaVuSans-49\"/>\r\n       <use x=\"63.623047\" xlink:href=\"#DejaVuSans-46\"/>\r\n       <use x=\"95.410156\" xlink:href=\"#DejaVuSans-50\"/>\r\n      </g>\r\n     </g>\r\n    </g>\r\n    <g id=\"text_15\">\r\n     <!-- Infections -->\r\n     <g transform=\"translate(14.798438 209.809844)rotate(-90)scale(0.1 -0.1)\">\r\n      <defs>\r\n       <path d=\"M 9.8125 72.90625 \r\nL 19.671875 72.90625 \r\nL 19.671875 0 \r\nL 9.8125 0 \r\nz\r\n\" id=\"DejaVuSans-73\"/>\r\n       <path d=\"M 54.890625 33.015625 \r\nL 54.890625 0 \r\nL 45.90625 0 \r\nL 45.90625 32.71875 \r\nQ 45.90625 40.484375 42.875 44.328125 \r\nQ 39.84375 48.1875 33.796875 48.1875 \r\nQ 26.515625 48.1875 22.3125 43.546875 \r\nQ 18.109375 38.921875 18.109375 30.90625 \r\nL 18.109375 0 \r\nL 9.078125 0 \r\nL 9.078125 54.6875 \r\nL 18.109375 54.6875 \r\nL 18.109375 46.1875 \r\nQ 21.34375 51.125 25.703125 53.5625 \r\nQ 30.078125 56 35.796875 56 \r\nQ 45.21875 56 50.046875 50.171875 \r\nQ 54.890625 44.34375 54.890625 33.015625 \r\nz\r\n\" id=\"DejaVuSans-110\"/>\r\n       <path d=\"M 37.109375 75.984375 \r\nL 37.109375 68.5 \r\nL 28.515625 68.5 \r\nQ 23.6875 68.5 21.796875 66.546875 \r\nQ 19.921875 64.59375 19.921875 59.515625 \r\nL 19.921875 54.6875 \r\nL 34.71875 54.6875 \r\nL 34.71875 47.703125 \r\nL 19.921875 47.703125 \r\nL 19.921875 0 \r\nL 10.890625 0 \r\nL 10.890625 47.703125 \r\nL 2.296875 47.703125 \r\nL 2.296875 54.6875 \r\nL 10.890625 54.6875 \r\nL 10.890625 58.5 \r\nQ 10.890625 67.625 15.140625 71.796875 \r\nQ 19.390625 75.984375 28.609375 75.984375 \r\nz\r\n\" id=\"DejaVuSans-102\"/>\r\n       <path d=\"M 56.203125 29.59375 \r\nL 56.203125 25.203125 \r\nL 14.890625 25.203125 \r\nQ 15.484375 15.921875 20.484375 11.0625 \r\nQ 25.484375 6.203125 34.421875 6.203125 \r\nQ 39.59375 6.203125 44.453125 7.46875 \r\nQ 49.3125 8.734375 54.109375 11.28125 \r\nL 54.109375 2.78125 \r\nQ 49.265625 0.734375 44.1875 -0.34375 \r\nQ 39.109375 -1.421875 33.890625 -1.421875 \r\nQ 20.796875 -1.421875 13.15625 6.1875 \r\nQ 5.515625 13.8125 5.515625 26.8125 \r\nQ 5.515625 40.234375 12.765625 48.109375 \r\nQ 20.015625 56 32.328125 56 \r\nQ 43.359375 56 49.78125 48.890625 \r\nQ 56.203125 41.796875 56.203125 29.59375 \r\nz\r\nM 47.21875 32.234375 \r\nQ 47.125 39.59375 43.09375 43.984375 \r\nQ 39.0625 48.390625 32.421875 48.390625 \r\nQ 24.90625 48.390625 20.390625 44.140625 \r\nQ 15.875 39.890625 15.1875 32.171875 \r\nz\r\n\" id=\"DejaVuSans-101\"/>\r\n       <path d=\"M 48.78125 52.59375 \r\nL 48.78125 44.1875 \r\nQ 44.96875 46.296875 41.140625 47.34375 \r\nQ 37.3125 48.390625 33.40625 48.390625 \r\nQ 24.65625 48.390625 19.8125 42.84375 \r\nQ 14.984375 37.3125 14.984375 27.296875 \r\nQ 14.984375 17.28125 19.8125 11.734375 \r\nQ 24.65625 6.203125 33.40625 6.203125 \r\nQ 37.3125 6.203125 41.140625 7.25 \r\nQ 44.96875 8.296875 48.78125 10.40625 \r\nL 48.78125 2.09375 \r\nQ 45.015625 0.34375 40.984375 -0.53125 \r\nQ 36.96875 -1.421875 32.421875 -1.421875 \r\nQ 20.0625 -1.421875 12.78125 6.34375 \r\nQ 5.515625 14.109375 5.515625 27.296875 \r\nQ 5.515625 40.671875 12.859375 48.328125 \r\nQ 20.21875 56 33.015625 56 \r\nQ 37.15625 56 41.109375 55.140625 \r\nQ 45.0625 54.296875 48.78125 52.59375 \r\nz\r\n\" id=\"DejaVuSans-99\"/>\r\n       <path d=\"M 18.3125 70.21875 \r\nL 18.3125 54.6875 \r\nL 36.8125 54.6875 \r\nL 36.8125 47.703125 \r\nL 18.3125 47.703125 \r\nL 18.3125 18.015625 \r\nQ 18.3125 11.328125 20.140625 9.421875 \r\nQ 21.96875 7.515625 27.59375 7.515625 \r\nL 36.8125 7.515625 \r\nL 36.8125 0 \r\nL 27.59375 0 \r\nQ 17.1875 0 13.234375 3.875 \r\nQ 9.28125 7.765625 9.28125 18.015625 \r\nL 9.28125 47.703125 \r\nL 2.6875 47.703125 \r\nL 2.6875 54.6875 \r\nL 9.28125 54.6875 \r\nL 9.28125 70.21875 \r\nz\r\n\" id=\"DejaVuSans-116\"/>\r\n       <path d=\"M 9.421875 54.6875 \r\nL 18.40625 54.6875 \r\nL 18.40625 0 \r\nL 9.421875 0 \r\nz\r\nM 9.421875 75.984375 \r\nL 18.40625 75.984375 \r\nL 18.40625 64.59375 \r\nL 9.421875 64.59375 \r\nz\r\n\" id=\"DejaVuSans-105\"/>\r\n       <path d=\"M 30.609375 48.390625 \r\nQ 23.390625 48.390625 19.1875 42.75 \r\nQ 14.984375 37.109375 14.984375 27.296875 \r\nQ 14.984375 17.484375 19.15625 11.84375 \r\nQ 23.34375 6.203125 30.609375 6.203125 \r\nQ 37.796875 6.203125 41.984375 11.859375 \r\nQ 46.1875 17.53125 46.1875 27.296875 \r\nQ 46.1875 37.015625 41.984375 42.703125 \r\nQ 37.796875 48.390625 30.609375 48.390625 \r\nz\r\nM 30.609375 56 \r\nQ 42.328125 56 49.015625 48.375 \r\nQ 55.71875 40.765625 55.71875 27.296875 \r\nQ 55.71875 13.875 49.015625 6.21875 \r\nQ 42.328125 -1.421875 30.609375 -1.421875 \r\nQ 18.84375 -1.421875 12.171875 6.21875 \r\nQ 5.515625 13.875 5.515625 27.296875 \r\nQ 5.515625 40.765625 12.171875 48.375 \r\nQ 18.84375 56 30.609375 56 \r\nz\r\n\" id=\"DejaVuSans-111\"/>\r\n       <path d=\"M 44.28125 53.078125 \r\nL 44.28125 44.578125 \r\nQ 40.484375 46.53125 36.375 47.5 \r\nQ 32.28125 48.484375 27.875 48.484375 \r\nQ 21.1875 48.484375 17.84375 46.4375 \r\nQ 14.5 44.390625 14.5 40.28125 \r\nQ 14.5 37.15625 16.890625 35.375 \r\nQ 19.28125 33.59375 26.515625 31.984375 \r\nL 29.59375 31.296875 \r\nQ 39.15625 29.25 43.1875 25.515625 \r\nQ 47.21875 21.78125 47.21875 15.09375 \r\nQ 47.21875 7.46875 41.1875 3.015625 \r\nQ 35.15625 -1.421875 24.609375 -1.421875 \r\nQ 20.21875 -1.421875 15.453125 -0.5625 \r\nQ 10.6875 0.296875 5.421875 2 \r\nL 5.421875 11.28125 \r\nQ 10.40625 8.6875 15.234375 7.390625 \r\nQ 20.0625 6.109375 24.8125 6.109375 \r\nQ 31.15625 6.109375 34.5625 8.28125 \r\nQ 37.984375 10.453125 37.984375 14.40625 \r\nQ 37.984375 18.0625 35.515625 20.015625 \r\nQ 33.0625 21.96875 24.703125 23.78125 \r\nL 21.578125 24.515625 \r\nQ 13.234375 26.265625 9.515625 29.90625 \r\nQ 5.8125 33.546875 5.8125 39.890625 \r\nQ 5.8125 47.609375 11.28125 51.796875 \r\nQ 16.75 56 26.8125 56 \r\nQ 31.78125 56 36.171875 55.265625 \r\nQ 40.578125 54.546875 44.28125 53.078125 \r\nz\r\n\" id=\"DejaVuSans-115\"/>\r\n      </defs>\r\n      <use xlink:href=\"#DejaVuSans-73\"/>\r\n      <use x=\"29.492188\" xlink:href=\"#DejaVuSans-110\"/>\r\n      <use x=\"92.871094\" xlink:href=\"#DejaVuSans-102\"/>\r\n      <use x=\"128.076172\" xlink:href=\"#DejaVuSans-101\"/>\r\n      <use x=\"189.599609\" xlink:href=\"#DejaVuSans-99\"/>\r\n      <use x=\"244.580078\" xlink:href=\"#DejaVuSans-116\"/>\r\n      <use x=\"283.789062\" xlink:href=\"#DejaVuSans-105\"/>\r\n      <use x=\"311.572266\" xlink:href=\"#DejaVuSans-111\"/>\r\n      <use x=\"372.753906\" xlink:href=\"#DejaVuSans-110\"/>\r\n      <use x=\"436.132812\" xlink:href=\"#DejaVuSans-115\"/>\r\n     </g>\r\n    </g>\r\n    <g id=\"text_16\">\r\n     <!-- 1e6 -->\r\n     <g transform=\"translate(43.78125 19.318125)scale(0.1 -0.1)\">\r\n      <use xlink:href=\"#DejaVuSans-49\"/>\r\n      <use x=\"63.623047\" xlink:href=\"#DejaVuSans-101\"/>\r\n      <use x=\"125.146484\" xlink:href=\"#DejaVuSans-54\"/>\r\n     </g>\r\n    </g>\r\n   </g>\r\n   <g id=\"line2d_14\">\r\n    <path clip-path=\"url(#pfd6d1b99f9)\" d=\"M 69.144886 348.478125 \r\nL 148.014144 348.373331 \r\nL 153.391594 348.197016 \r\nL 156.97656 347.881588 \r\nL 158.769043 347.881588 \r\nL 160.561526 347.107425 \r\nL 164.146493 346.435174 \r\nL 169.523942 344.833929 \r\nL 171.316425 343.772108 \r\nL 173.108908 343.131033 \r\nL 174.901391 341.830545 \r\nL 176.693874 340.941372 \r\nL 178.486358 339.273058 \r\nL 180.278841 338.028896 \r\nL 182.071324 335.505991 \r\nL 185.65629 331.260804 \r\nL 187.448773 329.291733 \r\nL 189.241256 327.490593 \r\nL 198.203672 317.249904 \r\nL 199.996155 315.424138 \r\nL 203.581122 312.671473 \r\nL 205.373605 311.291603 \r\nL 207.166088 309.646868 \r\nL 212.543537 305.767672 \r\nL 214.33602 304.771085 \r\nL 216.128503 303.914922 \r\nL 217.920987 303.275157 \r\nL 219.71347 301.938253 \r\nL 221.505953 300.024723 \r\nL 223.298436 298.481376 \r\nL 225.090919 298.248996 \r\nL 226.883402 296.428731 \r\nL 228.675885 296.026324 \r\nL 232.260852 293.883558 \r\nL 234.053335 292.669262 \r\nL 235.845818 295.298009 \r\nL 237.638301 294.534326 \r\nL 244.808234 292.697295 \r\nL 246.600717 292.561587 \r\nL 250.185683 291.737123 \r\nL 257.355616 290.756518 \r\nL 262.733065 289.904284 \r\nL 264.525548 289.702032 \r\nL 266.318031 288.89355 \r\nL 284.242863 287.426178 \r\nL 286.035346 286.958013 \r\nL 289.620312 286.709652 \r\nL 291.412795 286.80711 \r\nL 293.205278 286.582066 \r\nL 294.997761 286.582066 \r\nL 296.790245 286.150578 \r\nL 302.167694 285.738478 \r\nL 307.545143 285.516577 \r\nL 363.112121 282.839364 \r\nL 364.904604 282.839364 \r\nL 366.697087 282.513456 \r\nL 372.074536 282.181522 \r\nL 373.867019 281.958312 \r\nL 377.451986 281.958312 \r\nL 379.244469 281.422554 \r\nL 382.829435 281.018837 \r\nL 386.414401 280.2955 \r\nL 389.999368 280.2955 \r\nL 391.791851 279.095351 \r\nL 395.376817 278.384065 \r\nL 398.961783 277.108203 \r\nL 402.54675 277.108203 \r\nL 404.339233 275.441724 \r\nL 407.924199 274.430728 \r\nL 411.509165 272.89 \r\nL 415.094131 272.89 \r\nL 416.886615 270.654753 \r\nL 418.679098 269.145726 \r\nL 420.471581 268.372087 \r\nL 424.056547 266.120336 \r\nL 427.641513 266.120336 \r\nL 429.433997 263.862558 \r\nL 433.018963 262.08002 \r\nL 434.811446 260.102041 \r\nL 436.603929 258.666631 \r\nL 440.188895 258.666631 \r\nL 441.981378 254.404415 \r\nL 443.773862 253.064629 \r\nL 447.358828 249.472829 \r\nL 449.151311 247.338184 \r\nL 452.736277 247.338184 \r\nL 454.52876 242.260412 \r\nL 458.113727 238.484438 \r\nL 461.698693 233.392256 \r\nL 465.283659 233.392256 \r\nL 467.076142 227.216771 \r\nL 470.661109 222.842688 \r\nL 472.453592 220.495574 \r\nL 474.246075 217.75103 \r\nL 477.831041 217.75103 \r\nL 479.623524 210.792737 \r\nL 483.208491 206.121564 \r\nL 485.000974 203.301569 \r\nL 486.793457 200.109819 \r\nL 490.378423 200.109819 \r\nL 492.170906 192.930412 \r\nL 493.963389 190.458069 \r\nL 497.548356 184.567623 \r\nL 499.340839 180.797936 \r\nL 502.925805 180.797936 \r\nL 504.718288 172.564306 \r\nL 510.095738 163.98669 \r\nL 511.888221 160.771623 \r\nL 515.473187 160.771623 \r\nL 517.26567 152.444464 \r\nL 519.058153 152.444464 \r\nL 520.850636 146.963237 \r\nL 522.64312 144.49561 \r\nL 524.435603 141.528642 \r\nL 528.020569 141.528642 \r\nL 529.813052 135.37726 \r\nL 531.605535 132.233977 \r\nL 533.398018 129.485503 \r\nL 536.982985 122.880627 \r\nL 540.567951 122.880627 \r\nL 542.360434 115.582803 \r\nL 544.152917 113.718001 \r\nL 545.9454 110.582054 \r\nL 547.737883 107.092952 \r\nL 549.530367 103.114464 \r\nL 553.115333 103.114464 \r\nL 554.907816 93.188155 \r\nL 556.700299 89.553652 \r\nL 558.492782 85.106999 \r\nL 562.077749 74.408362 \r\nL 565.662715 74.408362 \r\nL 567.455198 60.735945 \r\nL 569.247681 55.910725 \r\nL 571.040164 50.732613 \r\nL 572.832647 44.555032 \r\nL 574.625131 37.849554 \r\nL 576.417614 37.849554 \r\nL 576.417614 37.849554 \r\n\" style=\"fill:none;stroke:#1f77b4;stroke-linecap:square;stroke-width:1.5;\"/>\r\n   </g>\r\n   <g id=\"patch_3\">\r\n    <path d=\"M 43.78125 348.478125 \r\nL 43.78125 22.318125 \r\n\" style=\"fill:none;stroke:#000000;stroke-linecap:square;stroke-linejoin:miter;stroke-width:0.8;\"/>\r\n   </g>\r\n   <g id=\"patch_4\">\r\n    <path d=\"M 601.78125 348.478125 \r\nL 601.78125 22.318125 \r\n\" style=\"fill:none;stroke:#000000;stroke-linecap:square;stroke-linejoin:miter;stroke-width:0.8;\"/>\r\n   </g>\r\n   <g id=\"patch_5\">\r\n    <path d=\"M 43.78125 348.478125 \r\nL 601.78125 348.478125 \r\n\" style=\"fill:none;stroke:#000000;stroke-linecap:square;stroke-linejoin:miter;stroke-width:0.8;\"/>\r\n   </g>\r\n   <g id=\"patch_6\">\r\n    <path d=\"M 43.78125 22.318125 \r\nL 601.78125 22.318125 \r\n\" style=\"fill:none;stroke:#000000;stroke-linecap:square;stroke-linejoin:miter;stroke-width:0.8;\"/>\r\n   </g>\r\n   <g id=\"text_17\">\r\n    <!-- Daily number of Cases and Deaths in Spain (14-day mean) -->\r\n    <g transform=\"translate(146.101875 16.318125)scale(0.12 -0.12)\">\r\n     <defs>\r\n      <path d=\"M 19.671875 64.796875 \r\nL 19.671875 8.109375 \r\nL 31.59375 8.109375 \r\nQ 46.6875 8.109375 53.6875 14.9375 \r\nQ 60.6875 21.78125 60.6875 36.53125 \r\nQ 60.6875 51.171875 53.6875 57.984375 \r\nQ 46.6875 64.796875 31.59375 64.796875 \r\nz\r\nM 9.8125 72.90625 \r\nL 30.078125 72.90625 \r\nQ 51.265625 72.90625 61.171875 64.09375 \r\nQ 71.09375 55.28125 71.09375 36.53125 \r\nQ 71.09375 17.671875 61.125 8.828125 \r\nQ 51.171875 0 30.078125 0 \r\nL 9.8125 0 \r\nz\r\n\" id=\"DejaVuSans-68\"/>\r\n      <path d=\"M 9.421875 75.984375 \r\nL 18.40625 75.984375 \r\nL 18.40625 0 \r\nL 9.421875 0 \r\nz\r\n\" id=\"DejaVuSans-108\"/>\r\n      <path d=\"M 32.171875 -5.078125 \r\nQ 28.375 -14.84375 24.75 -17.8125 \r\nQ 21.140625 -20.796875 15.09375 -20.796875 \r\nL 7.90625 -20.796875 \r\nL 7.90625 -13.28125 \r\nL 13.1875 -13.28125 \r\nQ 16.890625 -13.28125 18.9375 -11.515625 \r\nQ 21 -9.765625 23.484375 -3.21875 \r\nL 25.09375 0.875 \r\nL 2.984375 54.6875 \r\nL 12.5 54.6875 \r\nL 29.59375 11.921875 \r\nL 46.6875 54.6875 \r\nL 56.203125 54.6875 \r\nz\r\n\" id=\"DejaVuSans-121\"/>\r\n      <path id=\"DejaVuSans-32\"/>\r\n      <path d=\"M 8.5 21.578125 \r\nL 8.5 54.6875 \r\nL 17.484375 54.6875 \r\nL 17.484375 21.921875 \r\nQ 17.484375 14.15625 20.5 10.265625 \r\nQ 23.53125 6.390625 29.59375 6.390625 \r\nQ 36.859375 6.390625 41.078125 11.03125 \r\nQ 45.3125 15.671875 45.3125 23.6875 \r\nL 45.3125 54.6875 \r\nL 54.296875 54.6875 \r\nL 54.296875 0 \r\nL 45.3125 0 \r\nL 45.3125 8.40625 \r\nQ 42.046875 3.421875 37.71875 1 \r\nQ 33.40625 -1.421875 27.6875 -1.421875 \r\nQ 18.265625 -1.421875 13.375 4.4375 \r\nQ 8.5 10.296875 8.5 21.578125 \r\nz\r\nM 31.109375 56 \r\nz\r\n\" id=\"DejaVuSans-117\"/>\r\n      <path d=\"M 52 44.1875 \r\nQ 55.375 50.25 60.0625 53.125 \r\nQ 64.75 56 71.09375 56 \r\nQ 79.640625 56 84.28125 50.015625 \r\nQ 88.921875 44.046875 88.921875 33.015625 \r\nL 88.921875 0 \r\nL 79.890625 0 \r\nL 79.890625 32.71875 \r\nQ 79.890625 40.578125 77.09375 44.375 \r\nQ 74.3125 48.1875 68.609375 48.1875 \r\nQ 61.625 48.1875 57.5625 43.546875 \r\nQ 53.515625 38.921875 53.515625 30.90625 \r\nL 53.515625 0 \r\nL 44.484375 0 \r\nL 44.484375 32.71875 \r\nQ 44.484375 40.625 41.703125 44.40625 \r\nQ 38.921875 48.1875 33.109375 48.1875 \r\nQ 26.21875 48.1875 22.15625 43.53125 \r\nQ 18.109375 38.875 18.109375 30.90625 \r\nL 18.109375 0 \r\nL 9.078125 0 \r\nL 9.078125 54.6875 \r\nL 18.109375 54.6875 \r\nL 18.109375 46.1875 \r\nQ 21.1875 51.21875 25.484375 53.609375 \r\nQ 29.78125 56 35.6875 56 \r\nQ 41.65625 56 45.828125 52.96875 \r\nQ 50 49.953125 52 44.1875 \r\nz\r\n\" id=\"DejaVuSans-109\"/>\r\n      <path d=\"M 48.6875 27.296875 \r\nQ 48.6875 37.203125 44.609375 42.84375 \r\nQ 40.53125 48.484375 33.40625 48.484375 \r\nQ 26.265625 48.484375 22.1875 42.84375 \r\nQ 18.109375 37.203125 18.109375 27.296875 \r\nQ 18.109375 17.390625 22.1875 11.75 \r\nQ 26.265625 6.109375 33.40625 6.109375 \r\nQ 40.53125 6.109375 44.609375 11.75 \r\nQ 48.6875 17.390625 48.6875 27.296875 \r\nz\r\nM 18.109375 46.390625 \r\nQ 20.953125 51.265625 25.265625 53.625 \r\nQ 29.59375 56 35.59375 56 \r\nQ 45.5625 56 51.78125 48.09375 \r\nQ 58.015625 40.1875 58.015625 27.296875 \r\nQ 58.015625 14.40625 51.78125 6.484375 \r\nQ 45.5625 -1.421875 35.59375 -1.421875 \r\nQ 29.59375 -1.421875 25.265625 0.953125 \r\nQ 20.953125 3.328125 18.109375 8.203125 \r\nL 18.109375 0 \r\nL 9.078125 0 \r\nL 9.078125 75.984375 \r\nL 18.109375 75.984375 \r\nz\r\n\" id=\"DejaVuSans-98\"/>\r\n      <path d=\"M 41.109375 46.296875 \r\nQ 39.59375 47.171875 37.8125 47.578125 \r\nQ 36.03125 48 33.890625 48 \r\nQ 26.265625 48 22.1875 43.046875 \r\nQ 18.109375 38.09375 18.109375 28.8125 \r\nL 18.109375 0 \r\nL 9.078125 0 \r\nL 9.078125 54.6875 \r\nL 18.109375 54.6875 \r\nL 18.109375 46.1875 \r\nQ 20.953125 51.171875 25.484375 53.578125 \r\nQ 30.03125 56 36.53125 56 \r\nQ 37.453125 56 38.578125 55.875 \r\nQ 39.703125 55.765625 41.0625 55.515625 \r\nz\r\n\" id=\"DejaVuSans-114\"/>\r\n      <path d=\"M 64.40625 67.28125 \r\nL 64.40625 56.890625 \r\nQ 59.421875 61.53125 53.78125 63.8125 \r\nQ 48.140625 66.109375 41.796875 66.109375 \r\nQ 29.296875 66.109375 22.65625 58.46875 \r\nQ 16.015625 50.828125 16.015625 36.375 \r\nQ 16.015625 21.96875 22.65625 14.328125 \r\nQ 29.296875 6.6875 41.796875 6.6875 \r\nQ 48.140625 6.6875 53.78125 8.984375 \r\nQ 59.421875 11.28125 64.40625 15.921875 \r\nL 64.40625 5.609375 \r\nQ 59.234375 2.09375 53.4375 0.328125 \r\nQ 47.65625 -1.421875 41.21875 -1.421875 \r\nQ 24.65625 -1.421875 15.125 8.703125 \r\nQ 5.609375 18.84375 5.609375 36.375 \r\nQ 5.609375 53.953125 15.125 64.078125 \r\nQ 24.65625 74.21875 41.21875 74.21875 \r\nQ 47.75 74.21875 53.53125 72.484375 \r\nQ 59.328125 70.75 64.40625 67.28125 \r\nz\r\n\" id=\"DejaVuSans-67\"/>\r\n      <path d=\"M 54.890625 33.015625 \r\nL 54.890625 0 \r\nL 45.90625 0 \r\nL 45.90625 32.71875 \r\nQ 45.90625 40.484375 42.875 44.328125 \r\nQ 39.84375 48.1875 33.796875 48.1875 \r\nQ 26.515625 48.1875 22.3125 43.546875 \r\nQ 18.109375 38.921875 18.109375 30.90625 \r\nL 18.109375 0 \r\nL 9.078125 0 \r\nL 9.078125 75.984375 \r\nL 18.109375 75.984375 \r\nL 18.109375 46.1875 \r\nQ 21.34375 51.125 25.703125 53.5625 \r\nQ 30.078125 56 35.796875 56 \r\nQ 45.21875 56 50.046875 50.171875 \r\nQ 54.890625 44.34375 54.890625 33.015625 \r\nz\r\n\" id=\"DejaVuSans-104\"/>\r\n      <path d=\"M 53.515625 70.515625 \r\nL 53.515625 60.890625 \r\nQ 47.90625 63.578125 42.921875 64.890625 \r\nQ 37.9375 66.21875 33.296875 66.21875 \r\nQ 25.25 66.21875 20.875 63.09375 \r\nQ 16.5 59.96875 16.5 54.203125 \r\nQ 16.5 49.359375 19.40625 46.890625 \r\nQ 22.3125 44.4375 30.421875 42.921875 \r\nL 36.375 41.703125 \r\nQ 47.40625 39.59375 52.65625 34.296875 \r\nQ 57.90625 29 57.90625 20.125 \r\nQ 57.90625 9.515625 50.796875 4.046875 \r\nQ 43.703125 -1.421875 29.984375 -1.421875 \r\nQ 24.8125 -1.421875 18.96875 -0.25 \r\nQ 13.140625 0.921875 6.890625 3.21875 \r\nL 6.890625 13.375 \r\nQ 12.890625 10.015625 18.65625 8.296875 \r\nQ 24.421875 6.59375 29.984375 6.59375 \r\nQ 38.421875 6.59375 43.015625 9.90625 \r\nQ 47.609375 13.234375 47.609375 19.390625 \r\nQ 47.609375 24.75 44.3125 27.78125 \r\nQ 41.015625 30.8125 33.5 32.328125 \r\nL 27.484375 33.5 \r\nQ 16.453125 35.6875 11.515625 40.375 \r\nQ 6.59375 45.0625 6.59375 53.421875 \r\nQ 6.59375 63.09375 13.40625 68.65625 \r\nQ 20.21875 74.21875 32.171875 74.21875 \r\nQ 37.3125 74.21875 42.625 73.28125 \r\nQ 47.953125 72.359375 53.515625 70.515625 \r\nz\r\n\" id=\"DejaVuSans-83\"/>\r\n      <path d=\"M 18.109375 8.203125 \r\nL 18.109375 -20.796875 \r\nL 9.078125 -20.796875 \r\nL 9.078125 54.6875 \r\nL 18.109375 54.6875 \r\nL 18.109375 46.390625 \r\nQ 20.953125 51.265625 25.265625 53.625 \r\nQ 29.59375 56 35.59375 56 \r\nQ 45.5625 56 51.78125 48.09375 \r\nQ 58.015625 40.1875 58.015625 27.296875 \r\nQ 58.015625 14.40625 51.78125 6.484375 \r\nQ 45.5625 -1.421875 35.59375 -1.421875 \r\nQ 29.59375 -1.421875 25.265625 0.953125 \r\nQ 20.953125 3.328125 18.109375 8.203125 \r\nz\r\nM 48.6875 27.296875 \r\nQ 48.6875 37.203125 44.609375 42.84375 \r\nQ 40.53125 48.484375 33.40625 48.484375 \r\nQ 26.265625 48.484375 22.1875 42.84375 \r\nQ 18.109375 37.203125 18.109375 27.296875 \r\nQ 18.109375 17.390625 22.1875 11.75 \r\nQ 26.265625 6.109375 33.40625 6.109375 \r\nQ 40.53125 6.109375 44.609375 11.75 \r\nQ 48.6875 17.390625 48.6875 27.296875 \r\nz\r\n\" id=\"DejaVuSans-112\"/>\r\n      <path d=\"M 31 75.875 \r\nQ 24.46875 64.65625 21.28125 53.65625 \r\nQ 18.109375 42.671875 18.109375 31.390625 \r\nQ 18.109375 20.125 21.3125 9.0625 \r\nQ 24.515625 -2 31 -13.1875 \r\nL 23.1875 -13.1875 \r\nQ 15.875 -1.703125 12.234375 9.375 \r\nQ 8.59375 20.453125 8.59375 31.390625 \r\nQ 8.59375 42.28125 12.203125 53.3125 \r\nQ 15.828125 64.359375 23.1875 75.875 \r\nz\r\n\" id=\"DejaVuSans-40\"/>\r\n      <path d=\"M 4.890625 31.390625 \r\nL 31.203125 31.390625 \r\nL 31.203125 23.390625 \r\nL 4.890625 23.390625 \r\nz\r\n\" id=\"DejaVuSans-45\"/>\r\n      <path d=\"M 8.015625 75.875 \r\nL 15.828125 75.875 \r\nQ 23.140625 64.359375 26.78125 53.3125 \r\nQ 30.421875 42.28125 30.421875 31.390625 \r\nQ 30.421875 20.453125 26.78125 9.375 \r\nQ 23.140625 -1.703125 15.828125 -13.1875 \r\nL 8.015625 -13.1875 \r\nQ 14.5 -2 17.703125 9.0625 \r\nQ 20.90625 20.125 20.90625 31.390625 \r\nQ 20.90625 42.671875 17.703125 53.65625 \r\nQ 14.5 64.65625 8.015625 75.875 \r\nz\r\n\" id=\"DejaVuSans-41\"/>\r\n     </defs>\r\n     <use xlink:href=\"#DejaVuSans-68\"/>\r\n     <use x=\"77.001953\" xlink:href=\"#DejaVuSans-97\"/>\r\n     <use x=\"138.28125\" xlink:href=\"#DejaVuSans-105\"/>\r\n     <use x=\"166.064453\" xlink:href=\"#DejaVuSans-108\"/>\r\n     <use x=\"193.847656\" xlink:href=\"#DejaVuSans-121\"/>\r\n     <use x=\"253.027344\" xlink:href=\"#DejaVuSans-32\"/>\r\n     <use x=\"284.814453\" xlink:href=\"#DejaVuSans-110\"/>\r\n     <use x=\"348.193359\" xlink:href=\"#DejaVuSans-117\"/>\r\n     <use x=\"411.572266\" xlink:href=\"#DejaVuSans-109\"/>\r\n     <use x=\"508.984375\" xlink:href=\"#DejaVuSans-98\"/>\r\n     <use x=\"572.460938\" xlink:href=\"#DejaVuSans-101\"/>\r\n     <use x=\"633.984375\" xlink:href=\"#DejaVuSans-114\"/>\r\n     <use x=\"675.097656\" xlink:href=\"#DejaVuSans-32\"/>\r\n     <use x=\"706.884766\" xlink:href=\"#DejaVuSans-111\"/>\r\n     <use x=\"768.066406\" xlink:href=\"#DejaVuSans-102\"/>\r\n     <use x=\"803.271484\" xlink:href=\"#DejaVuSans-32\"/>\r\n     <use x=\"835.058594\" xlink:href=\"#DejaVuSans-67\"/>\r\n     <use x=\"904.882812\" xlink:href=\"#DejaVuSans-97\"/>\r\n     <use x=\"966.162109\" xlink:href=\"#DejaVuSans-115\"/>\r\n     <use x=\"1018.261719\" xlink:href=\"#DejaVuSans-101\"/>\r\n     <use x=\"1079.785156\" xlink:href=\"#DejaVuSans-115\"/>\r\n     <use x=\"1131.884766\" xlink:href=\"#DejaVuSans-32\"/>\r\n     <use x=\"1163.671875\" xlink:href=\"#DejaVuSans-97\"/>\r\n     <use x=\"1224.951172\" xlink:href=\"#DejaVuSans-110\"/>\r\n     <use x=\"1288.330078\" xlink:href=\"#DejaVuSans-100\"/>\r\n     <use x=\"1351.806641\" xlink:href=\"#DejaVuSans-32\"/>\r\n     <use x=\"1383.59375\" xlink:href=\"#DejaVuSans-68\"/>\r\n     <use x=\"1460.595703\" xlink:href=\"#DejaVuSans-101\"/>\r\n     <use x=\"1522.119141\" xlink:href=\"#DejaVuSans-97\"/>\r\n     <use x=\"1583.398438\" xlink:href=\"#DejaVuSans-116\"/>\r\n     <use x=\"1622.607422\" xlink:href=\"#DejaVuSans-104\"/>\r\n     <use x=\"1685.986328\" xlink:href=\"#DejaVuSans-115\"/>\r\n     <use x=\"1738.085938\" xlink:href=\"#DejaVuSans-32\"/>\r\n     <use x=\"1769.873047\" xlink:href=\"#DejaVuSans-105\"/>\r\n     <use x=\"1797.65625\" xlink:href=\"#DejaVuSans-110\"/>\r\n     <use x=\"1861.035156\" xlink:href=\"#DejaVuSans-32\"/>\r\n     <use x=\"1892.822266\" xlink:href=\"#DejaVuSans-83\"/>\r\n     <use x=\"1956.298828\" xlink:href=\"#DejaVuSans-112\"/>\r\n     <use x=\"2019.775391\" xlink:href=\"#DejaVuSans-97\"/>\r\n     <use x=\"2081.054688\" xlink:href=\"#DejaVuSans-105\"/>\r\n     <use x=\"2108.837891\" xlink:href=\"#DejaVuSans-110\"/>\r\n     <use x=\"2172.216797\" xlink:href=\"#DejaVuSans-32\"/>\r\n     <use x=\"2204.003906\" xlink:href=\"#DejaVuSans-40\"/>\r\n     <use x=\"2243.017578\" xlink:href=\"#DejaVuSans-49\"/>\r\n     <use x=\"2306.640625\" xlink:href=\"#DejaVuSans-52\"/>\r\n     <use x=\"2370.263672\" xlink:href=\"#DejaVuSans-45\"/>\r\n     <use x=\"2406.347656\" xlink:href=\"#DejaVuSans-100\"/>\r\n     <use x=\"2469.824219\" xlink:href=\"#DejaVuSans-97\"/>\r\n     <use x=\"2531.103516\" xlink:href=\"#DejaVuSans-121\"/>\r\n     <use x=\"2590.283203\" xlink:href=\"#DejaVuSans-32\"/>\r\n     <use x=\"2622.070312\" xlink:href=\"#DejaVuSans-109\"/>\r\n     <use x=\"2719.482422\" xlink:href=\"#DejaVuSans-101\"/>\r\n     <use x=\"2781.005859\" xlink:href=\"#DejaVuSans-97\"/>\r\n     <use x=\"2842.285156\" xlink:href=\"#DejaVuSans-110\"/>\r\n     <use x=\"2905.664062\" xlink:href=\"#DejaVuSans-41\"/>\r\n    </g>\r\n   </g>\r\n   <g id=\"legend_1\">\r\n    <g id=\"patch_7\">\r\n     <path d=\"M 50.78125 59.674375 \r\nL 151.354688 59.674375 \r\nQ 153.354688 59.674375 153.354688 57.674375 \r\nL 153.354688 29.318125 \r\nQ 153.354688 27.318125 151.354688 27.318125 \r\nL 50.78125 27.318125 \r\nQ 48.78125 27.318125 48.78125 29.318125 \r\nL 48.78125 57.674375 \r\nQ 48.78125 59.674375 50.78125 59.674375 \r\nz\r\n\" style=\"fill:#ffffff;opacity:0.8;stroke:#cccccc;stroke-linejoin:miter;\"/>\r\n    </g>\r\n    <g id=\"patch_8\">\r\n     <path d=\"M 52.78125 38.916562 \r\nL 72.78125 38.916562 \r\nL 72.78125 31.916562 \r\nL 52.78125 31.916562 \r\nz\r\n\" style=\"fill:#1f77b4;stroke:#1f77b4;stroke-linejoin:miter;\"/>\r\n    </g>\r\n    <g id=\"text_18\">\r\n     <!-- infections -->\r\n     <g transform=\"translate(80.78125 38.916562)scale(0.1 -0.1)\">\r\n      <use xlink:href=\"#DejaVuSans-105\"/>\r\n      <use x=\"27.783203\" xlink:href=\"#DejaVuSans-110\"/>\r\n      <use x=\"91.162109\" xlink:href=\"#DejaVuSans-102\"/>\r\n      <use x=\"126.367188\" xlink:href=\"#DejaVuSans-101\"/>\r\n      <use x=\"187.890625\" xlink:href=\"#DejaVuSans-99\"/>\r\n      <use x=\"242.871094\" xlink:href=\"#DejaVuSans-116\"/>\r\n      <use x=\"282.080078\" xlink:href=\"#DejaVuSans-105\"/>\r\n      <use x=\"309.863281\" xlink:href=\"#DejaVuSans-111\"/>\r\n      <use x=\"371.044922\" xlink:href=\"#DejaVuSans-110\"/>\r\n      <use x=\"434.423828\" xlink:href=\"#DejaVuSans-115\"/>\r\n     </g>\r\n    </g>\r\n    <g id=\"line2d_15\">\r\n     <path d=\"M 52.78125 50.094687 \r\nL 72.78125 50.094687 \r\n\" style=\"fill:none;stroke:#ff7f0e;stroke-linecap:square;stroke-width:1.5;\"/>\r\n    </g>\r\n    <g id=\"line2d_16\"/>\r\n    <g id=\"text_19\">\r\n     <!-- deaths (right) -->\r\n     <g transform=\"translate(80.78125 53.594687)scale(0.1 -0.1)\">\r\n      <defs>\r\n       <path d=\"M 45.40625 27.984375 \r\nQ 45.40625 37.75 41.375 43.109375 \r\nQ 37.359375 48.484375 30.078125 48.484375 \r\nQ 22.859375 48.484375 18.828125 43.109375 \r\nQ 14.796875 37.75 14.796875 27.984375 \r\nQ 14.796875 18.265625 18.828125 12.890625 \r\nQ 22.859375 7.515625 30.078125 7.515625 \r\nQ 37.359375 7.515625 41.375 12.890625 \r\nQ 45.40625 18.265625 45.40625 27.984375 \r\nz\r\nM 54.390625 6.78125 \r\nQ 54.390625 -7.171875 48.1875 -13.984375 \r\nQ 42 -20.796875 29.203125 -20.796875 \r\nQ 24.46875 -20.796875 20.265625 -20.09375 \r\nQ 16.0625 -19.390625 12.109375 -17.921875 \r\nL 12.109375 -9.1875 \r\nQ 16.0625 -11.328125 19.921875 -12.34375 \r\nQ 23.78125 -13.375 27.78125 -13.375 \r\nQ 36.625 -13.375 41.015625 -8.765625 \r\nQ 45.40625 -4.15625 45.40625 5.171875 \r\nL 45.40625 9.625 \r\nQ 42.625 4.78125 38.28125 2.390625 \r\nQ 33.9375 0 27.875 0 \r\nQ 17.828125 0 11.671875 7.65625 \r\nQ 5.515625 15.328125 5.515625 27.984375 \r\nQ 5.515625 40.671875 11.671875 48.328125 \r\nQ 17.828125 56 27.875 56 \r\nQ 33.9375 56 38.28125 53.609375 \r\nQ 42.625 51.21875 45.40625 46.390625 \r\nL 45.40625 54.6875 \r\nL 54.390625 54.6875 \r\nz\r\n\" id=\"DejaVuSans-103\"/>\r\n      </defs>\r\n      <use xlink:href=\"#DejaVuSans-100\"/>\r\n      <use x=\"63.476562\" xlink:href=\"#DejaVuSans-101\"/>\r\n      <use x=\"125\" xlink:href=\"#DejaVuSans-97\"/>\r\n      <use x=\"186.279297\" xlink:href=\"#DejaVuSans-116\"/>\r\n      <use x=\"225.488281\" xlink:href=\"#DejaVuSans-104\"/>\r\n      <use x=\"288.867188\" xlink:href=\"#DejaVuSans-115\"/>\r\n      <use x=\"340.966797\" xlink:href=\"#DejaVuSans-32\"/>\r\n      <use x=\"372.753906\" xlink:href=\"#DejaVuSans-40\"/>\r\n      <use x=\"411.767578\" xlink:href=\"#DejaVuSans-114\"/>\r\n      <use x=\"452.880859\" xlink:href=\"#DejaVuSans-105\"/>\r\n      <use x=\"480.664062\" xlink:href=\"#DejaVuSans-103\"/>\r\n      <use x=\"544.140625\" xlink:href=\"#DejaVuSans-104\"/>\r\n      <use x=\"607.519531\" xlink:href=\"#DejaVuSans-116\"/>\r\n      <use x=\"646.728516\" xlink:href=\"#DejaVuSans-41\"/>\r\n     </g>\r\n    </g>\r\n   </g>\r\n  </g>\r\n  <g id=\"axes_2\">\r\n   <g id=\"matplotlib.axis_3\">\r\n    <g id=\"ytick_8\">\r\n     <g id=\"line2d_17\">\r\n      <defs>\r\n       <path d=\"M 0 0 \r\nL 3.5 0 \r\n\" id=\"m68665e9fbb\" style=\"stroke:#000000;stroke-width:0.8;\"/>\r\n      </defs>\r\n      <g>\r\n       <use style=\"stroke:#000000;stroke-width:0.8;\" x=\"601.78125\" xlink:href=\"#m68665e9fbb\" y=\"348.478125\"/>\r\n      </g>\r\n     </g>\r\n     <g id=\"text_20\">\r\n      <!-- 0 -->\r\n      <g transform=\"translate(608.78125 352.277344)scale(0.1 -0.1)\">\r\n       <use xlink:href=\"#DejaVuSans-48\"/>\r\n      </g>\r\n     </g>\r\n    </g>\r\n    <g id=\"ytick_9\">\r\n     <g id=\"line2d_18\">\r\n      <g>\r\n       <use style=\"stroke:#000000;stroke-width:0.8;\" x=\"601.78125\" xlink:href=\"#m68665e9fbb\" y=\"305.188564\"/>\r\n      </g>\r\n     </g>\r\n     <g id=\"text_21\">\r\n      <!-- 5000 -->\r\n      <g transform=\"translate(608.78125 308.987783)scale(0.1 -0.1)\">\r\n       <use xlink:href=\"#DejaVuSans-53\"/>\r\n       <use x=\"63.623047\" xlink:href=\"#DejaVuSans-48\"/>\r\n       <use x=\"127.246094\" xlink:href=\"#DejaVuSans-48\"/>\r\n       <use x=\"190.869141\" xlink:href=\"#DejaVuSans-48\"/>\r\n      </g>\r\n     </g>\r\n    </g>\r\n    <g id=\"ytick_10\">\r\n     <g id=\"line2d_19\">\r\n      <g>\r\n       <use style=\"stroke:#000000;stroke-width:0.8;\" x=\"601.78125\" xlink:href=\"#m68665e9fbb\" y=\"261.899004\"/>\r\n      </g>\r\n     </g>\r\n     <g id=\"text_22\">\r\n      <!-- 10000 -->\r\n      <g transform=\"translate(608.78125 265.698222)scale(0.1 -0.1)\">\r\n       <use xlink:href=\"#DejaVuSans-49\"/>\r\n       <use x=\"63.623047\" xlink:href=\"#DejaVuSans-48\"/>\r\n       <use x=\"127.246094\" xlink:href=\"#DejaVuSans-48\"/>\r\n       <use x=\"190.869141\" xlink:href=\"#DejaVuSans-48\"/>\r\n       <use x=\"254.492188\" xlink:href=\"#DejaVuSans-48\"/>\r\n      </g>\r\n     </g>\r\n    </g>\r\n    <g id=\"ytick_11\">\r\n     <g id=\"line2d_20\">\r\n      <g>\r\n       <use style=\"stroke:#000000;stroke-width:0.8;\" x=\"601.78125\" xlink:href=\"#m68665e9fbb\" y=\"218.609443\"/>\r\n      </g>\r\n     </g>\r\n     <g id=\"text_23\">\r\n      <!-- 15000 -->\r\n      <g transform=\"translate(608.78125 222.408662)scale(0.1 -0.1)\">\r\n       <use xlink:href=\"#DejaVuSans-49\"/>\r\n       <use x=\"63.623047\" xlink:href=\"#DejaVuSans-53\"/>\r\n       <use x=\"127.246094\" xlink:href=\"#DejaVuSans-48\"/>\r\n       <use x=\"190.869141\" xlink:href=\"#DejaVuSans-48\"/>\r\n       <use x=\"254.492188\" xlink:href=\"#DejaVuSans-48\"/>\r\n      </g>\r\n     </g>\r\n    </g>\r\n    <g id=\"ytick_12\">\r\n     <g id=\"line2d_21\">\r\n      <g>\r\n       <use style=\"stroke:#000000;stroke-width:0.8;\" x=\"601.78125\" xlink:href=\"#m68665e9fbb\" y=\"175.319882\"/>\r\n      </g>\r\n     </g>\r\n     <g id=\"text_24\">\r\n      <!-- 20000 -->\r\n      <g transform=\"translate(608.78125 179.119101)scale(0.1 -0.1)\">\r\n       <use xlink:href=\"#DejaVuSans-50\"/>\r\n       <use x=\"63.623047\" xlink:href=\"#DejaVuSans-48\"/>\r\n       <use x=\"127.246094\" xlink:href=\"#DejaVuSans-48\"/>\r\n       <use x=\"190.869141\" xlink:href=\"#DejaVuSans-48\"/>\r\n       <use x=\"254.492188\" xlink:href=\"#DejaVuSans-48\"/>\r\n      </g>\r\n     </g>\r\n    </g>\r\n    <g id=\"ytick_13\">\r\n     <g id=\"line2d_22\">\r\n      <g>\r\n       <use style=\"stroke:#000000;stroke-width:0.8;\" x=\"601.78125\" xlink:href=\"#m68665e9fbb\" y=\"132.030322\"/>\r\n      </g>\r\n     </g>\r\n     <g id=\"text_25\">\r\n      <!-- 25000 -->\r\n      <g transform=\"translate(608.78125 135.82954)scale(0.1 -0.1)\">\r\n       <use xlink:href=\"#DejaVuSans-50\"/>\r\n       <use x=\"63.623047\" xlink:href=\"#DejaVuSans-53\"/>\r\n       <use x=\"127.246094\" xlink:href=\"#DejaVuSans-48\"/>\r\n       <use x=\"190.869141\" xlink:href=\"#DejaVuSans-48\"/>\r\n       <use x=\"254.492188\" xlink:href=\"#DejaVuSans-48\"/>\r\n      </g>\r\n     </g>\r\n    </g>\r\n    <g id=\"ytick_14\">\r\n     <g id=\"line2d_23\">\r\n      <g>\r\n       <use style=\"stroke:#000000;stroke-width:0.8;\" x=\"601.78125\" xlink:href=\"#m68665e9fbb\" y=\"88.740761\"/>\r\n      </g>\r\n     </g>\r\n     <g id=\"text_26\">\r\n      <!-- 30000 -->\r\n      <g transform=\"translate(608.78125 92.53998)scale(0.1 -0.1)\">\r\n       <use xlink:href=\"#DejaVuSans-51\"/>\r\n       <use x=\"63.623047\" xlink:href=\"#DejaVuSans-48\"/>\r\n       <use x=\"127.246094\" xlink:href=\"#DejaVuSans-48\"/>\r\n       <use x=\"190.869141\" xlink:href=\"#DejaVuSans-48\"/>\r\n       <use x=\"254.492188\" xlink:href=\"#DejaVuSans-48\"/>\r\n      </g>\r\n     </g>\r\n    </g>\r\n    <g id=\"ytick_15\">\r\n     <g id=\"line2d_24\">\r\n      <g>\r\n       <use style=\"stroke:#000000;stroke-width:0.8;\" x=\"601.78125\" xlink:href=\"#m68665e9fbb\" y=\"45.4512\"/>\r\n      </g>\r\n     </g>\r\n     <g id=\"text_27\">\r\n      <!-- 35000 -->\r\n      <g transform=\"translate(608.78125 49.250419)scale(0.1 -0.1)\">\r\n       <use xlink:href=\"#DejaVuSans-51\"/>\r\n       <use x=\"63.623047\" xlink:href=\"#DejaVuSans-53\"/>\r\n       <use x=\"127.246094\" xlink:href=\"#DejaVuSans-48\"/>\r\n       <use x=\"190.869141\" xlink:href=\"#DejaVuSans-48\"/>\r\n       <use x=\"254.492188\" xlink:href=\"#DejaVuSans-48\"/>\r\n      </g>\r\n     </g>\r\n    </g>\r\n    <g id=\"text_28\">\r\n     <!-- Deaths -->\r\n     <g transform=\"translate(652.192188 203.122344)rotate(-90)scale(0.1 -0.1)\">\r\n      <use xlink:href=\"#DejaVuSans-68\"/>\r\n      <use x=\"77.001953\" xlink:href=\"#DejaVuSans-101\"/>\r\n      <use x=\"138.525391\" xlink:href=\"#DejaVuSans-97\"/>\r\n      <use x=\"199.804688\" xlink:href=\"#DejaVuSans-116\"/>\r\n      <use x=\"239.013672\" xlink:href=\"#DejaVuSans-104\"/>\r\n      <use x=\"302.392578\" xlink:href=\"#DejaVuSans-115\"/>\r\n     </g>\r\n    </g>\r\n   </g>\r\n   <g id=\"line2d_25\">\r\n    <path clip-path=\"url(#pfd6d1b99f9)\" d=\"M 69.144886 348.478125 \r\nL 149.806627 348.391546 \r\nL 155.184077 348.175098 \r\nL 156.97656 348.010598 \r\nL 158.769043 348.00194 \r\nL 160.561526 347.326623 \r\nL 162.354009 346.789832 \r\nL 164.146493 345.975988 \r\nL 165.938976 345.517119 \r\nL 167.731459 343.863458 \r\nL 169.523942 343.084246 \r\nL 173.108908 339.447923 \r\nL 174.901391 336.573496 \r\nL 176.693874 333.136305 \r\nL 178.486358 328.46969 \r\nL 180.278841 324.166708 \r\nL 182.071324 316.902719 \r\nL 183.863807 310.686339 \r\nL 185.65629 303.993772 \r\nL 194.618706 267.206304 \r\nL 196.411189 258.88605 \r\nL 198.203672 251.526825 \r\nL 199.996155 245.042049 \r\nL 205.373605 226.877749 \r\nL 207.166088 220.410289 \r\nL 210.751054 209.25024 \r\nL 212.543537 204.704836 \r\nL 214.33602 199.484115 \r\nL 216.128503 194.748237 \r\nL 217.920987 192.150864 \r\nL 219.71347 186.505905 \r\nL 221.505953 181.250552 \r\nL 223.298436 175.302567 \r\nL 225.090919 174.947592 \r\nL 230.468369 164.220439 \r\nL 234.053335 156.644766 \r\nL 237.638301 150.194621 \r\nL 239.430784 147.701143 \r\nL 241.223267 144.835374 \r\nL 243.01575 142.229342 \r\nL 244.808234 138.307308 \r\nL 246.600717 135.986988 \r\nL 248.3932 135.986988 \r\nL 250.185683 131.164531 \r\nL 253.770649 128.324735 \r\nL 255.563132 126.723022 \r\nL 257.355616 124.610491 \r\nL 262.733065 119.233928 \r\nL 264.525548 117.995846 \r\nL 266.318031 116.930923 \r\nL 269.902998 113.814075 \r\nL 271.695481 111.935308 \r\nL 273.487964 110.740516 \r\nL 275.280447 109.840093 \r\nL 277.07293 109.840093 \r\nL 278.865413 108.576038 \r\nL 280.657896 107.978642 \r\nL 282.450379 107.026271 \r\nL 284.242863 106.57606 \r\nL 286.035346 100.619417 \r\nL 287.827829 100.186521 \r\nL 289.620312 99.545835 \r\nL 291.412795 116.151711 \r\nL 293.205278 113.701522 \r\nL 307.545143 113.606285 \r\nL 314.715076 113.537021 \r\nL 334.43239 113.537021 \r\nL 336.224874 103.329343 \r\nL 341.602323 103.251422 \r\nL 350.564739 103.104237 \r\nL 355.942188 102.983027 \r\nL 363.112121 102.723289 \r\nL 370.282053 102.628052 \r\nL 375.659502 102.567447 \r\nL 382.829435 102.480868 \r\nL 400.754266 102.316367 \r\nL 409.716682 102.22113 \r\nL 415.094131 102.203814 \r\nL 418.679098 101.744945 \r\nL 427.641513 101.701656 \r\nL 429.433997 101.069628 \r\nL 433.018963 101.043654 \r\nL 434.811446 100.818548 \r\nL 438.396412 100.714654 \r\nL 440.188895 100.714654 \r\nL 443.773862 100.255784 \r\nL 445.566345 99.156229 \r\nL 450.943794 98.801255 \r\nL 452.736277 98.801255 \r\nL 454.52876 98.506886 \r\nL 458.113727 97.649753 \r\nL 461.698693 97.303436 \r\nL 465.283659 97.303436 \r\nL 467.076142 96.584829 \r\nL 468.868626 96.082671 \r\nL 472.453592 95.372722 \r\nL 474.246075 93.779666 \r\nL 477.831041 93.779666 \r\nL 479.623524 92.931191 \r\nL 481.416007 92.255873 \r\nL 483.208491 91.961504 \r\nL 485.000974 91.346793 \r\nL 486.793457 90.931213 \r\nL 490.378423 90.931213 \r\nL 492.170906 90.056764 \r\nL 493.963389 88.706129 \r\nL 495.755873 86.636888 \r\nL 497.548356 85.234307 \r\nL 499.340839 84.455095 \r\nL 502.925805 84.455095 \r\nL 504.718288 83.000565 \r\nL 506.510771 80.914009 \r\nL 508.303254 79.78848 \r\nL 510.095738 79.061215 \r\nL 511.888221 78.074213 \r\nL 515.473187 78.074213 \r\nL 517.26567 76.524447 \r\nL 519.058153 76.524447 \r\nL 520.850636 73.23444 \r\nL 522.64312 71.6587 \r\nL 524.435603 70.680356 \r\nL 528.020569 70.680356 \r\nL 529.813052 69.476907 \r\nL 531.605535 67.217192 \r\nL 533.398018 66.55919 \r\nL 535.190502 65.468293 \r\nL 536.982985 63.381736 \r\nL 540.567951 63.381736 \r\nL 542.360434 61.693444 \r\nL 544.152917 61.000811 \r\nL 545.9454 59.191307 \r\nL 547.737883 57.979199 \r\nL 549.530367 56.057143 \r\nL 553.115333 56.057143 \r\nL 556.700299 52.290951 \r\nL 560.285265 49.59834 \r\nL 562.077749 47.598363 \r\nL 565.662715 47.598363 \r\nL 569.247681 42.871143 \r\nL 572.832647 39.918795 \r\nL 574.625131 37.849554 \r\nL 576.417614 37.849554 \r\nL 576.417614 37.849554 \r\n\" style=\"fill:none;stroke:#ff7f0e;stroke-linecap:square;stroke-width:1.5;\"/>\r\n   </g>\r\n   <g id=\"patch_9\">\r\n    <path d=\"M 43.78125 348.478125 \r\nL 43.78125 22.318125 \r\n\" style=\"fill:none;stroke:#000000;stroke-linecap:square;stroke-linejoin:miter;stroke-width:0.8;\"/>\r\n   </g>\r\n   <g id=\"patch_10\">\r\n    <path d=\"M 601.78125 348.478125 \r\nL 601.78125 22.318125 \r\n\" style=\"fill:none;stroke:#000000;stroke-linecap:square;stroke-linejoin:miter;stroke-width:0.8;\"/>\r\n   </g>\r\n   <g id=\"patch_11\">\r\n    <path d=\"M 43.78125 348.478125 \r\nL 601.78125 348.478125 \r\n\" style=\"fill:none;stroke:#000000;stroke-linecap:square;stroke-linejoin:miter;stroke-width:0.8;\"/>\r\n   </g>\r\n   <g id=\"patch_12\">\r\n    <path d=\"M 43.78125 22.318125 \r\nL 601.78125 22.318125 \r\n\" style=\"fill:none;stroke:#000000;stroke-linecap:square;stroke-linejoin:miter;stroke-width:0.8;\"/>\r\n   </g>\r\n  </g>\r\n </g>\r\n <defs>\r\n  <clipPath id=\"pfd6d1b99f9\">\r\n   <rect height=\"326.16\" width=\"558\" x=\"43.78125\" y=\"22.318125\"/>\r\n  </clipPath>\r\n </defs>\r\n</svg>\r\n",
      "image/png": "[encoded data removed]"
     },
     "metadata": {
      "needs_background": "light"
     }
    }
   ],
   "source": [
    "plt.figure(figsize=(10, 6),)\n",
    "plt.title(title)\n",
    "\n",
    "afgI= sampleData.infections.plot( x=xLabels, kind=\"area\", legend=True)\n",
    "afgI.set_ylabel(\"Infections\")\n",
    "afgI.set_ylim(bottom=0)\n",
    "afgI.set_xlabel(\"da\")\n",
    "\n",
    "afgD = sampleData.deaths.plot( x=xLabels, secondary_y=True, kind=\"line\", legend=True)\n",
    "afgD.set_ylabel(\"Deaths\")\n",
    "afgD.set_ylim(bottom=0)\n",
    "\n",
    "plt.show()"
   ]
  },
  {
   "cell_type": "code",
   "execution_count": 17,
   "metadata": {},
   "outputs": [
    {
     "output_type": "execute_result",
     "data": {
      "text/plain": [
       "['Afghanistan',\n",
       " 'Albania',\n",
       " 'Algeria',\n",
       " 'Andorra',\n",
       " 'Angola',\n",
       " 'Antigua and Barbuda',\n",
       " 'Argentina',\n",
       " 'Armenia',\n",
       " 'Australia',\n",
       " 'Australia',\n",
       " 'Australia',\n",
       " 'Australia',\n",
       " 'Australia',\n",
       " 'Australia',\n",
       " 'Australia',\n",
       " 'Australia',\n",
       " 'Australia',\n",
       " 'Austria',\n",
       " 'Azerbaijan',\n",
       " 'Bahamas',\n",
       " 'Bahrain',\n",
       " 'Bangladesh',\n",
       " 'Barbados',\n",
       " 'Belarus',\n",
       " 'Belgium',\n",
       " 'Belize',\n",
       " 'Benin',\n",
       " 'Bhutan',\n",
       " 'Bolivia',\n",
       " 'Bosnia and Herzegovina',\n",
       " 'Botswana',\n",
       " 'Brazil',\n",
       " 'Brunei',\n",
       " 'Bulgaria',\n",
       " 'Burkina Faso',\n",
       " 'Burma',\n",
       " 'Burundi',\n",
       " 'Cabo Verde',\n",
       " 'Cambodia',\n",
       " 'Cameroon',\n",
       " 'Canada',\n",
       " 'Canada',\n",
       " 'Canada',\n",
       " 'Canada',\n",
       " 'Canada',\n",
       " 'Canada',\n",
       " 'Canada',\n",
       " 'Canada',\n",
       " 'Canada',\n",
       " 'Canada',\n",
       " 'Canada',\n",
       " 'Canada',\n",
       " 'Canada',\n",
       " 'Canada',\n",
       " 'Canada',\n",
       " 'Central African Republic',\n",
       " 'Chad',\n",
       " 'Chile',\n",
       " 'China',\n",
       " 'China',\n",
       " 'China',\n",
       " 'China',\n",
       " 'China',\n",
       " 'China',\n",
       " 'China',\n",
       " 'China',\n",
       " 'China',\n",
       " 'China',\n",
       " 'China',\n",
       " 'China',\n",
       " 'China',\n",
       " 'China',\n",
       " 'China',\n",
       " 'China',\n",
       " 'China',\n",
       " 'China',\n",
       " 'China',\n",
       " 'China',\n",
       " 'China',\n",
       " 'China',\n",
       " 'China',\n",
       " 'China',\n",
       " 'China',\n",
       " 'China',\n",
       " 'China',\n",
       " 'China',\n",
       " 'China',\n",
       " 'China',\n",
       " 'China',\n",
       " 'China',\n",
       " 'China',\n",
       " 'China',\n",
       " 'Colombia',\n",
       " 'Comoros',\n",
       " 'Congo (Brazzaville)',\n",
       " 'Congo (Kinshasa)',\n",
       " 'Costa Rica',\n",
       " \"Cote d'Ivoire\",\n",
       " 'Croatia',\n",
       " 'Cuba',\n",
       " 'Cyprus',\n",
       " 'Czechia',\n",
       " 'Denmark',\n",
       " 'Denmark',\n",
       " 'Denmark',\n",
       " 'Djibouti',\n",
       " 'Dominica',\n",
       " 'Dominican Republic',\n",
       " 'Ecuador',\n",
       " 'Egypt',\n",
       " 'El Salvador',\n",
       " 'Equatorial Guinea',\n",
       " 'Eritrea',\n",
       " 'Estonia',\n",
       " 'Eswatini',\n",
       " 'Ethiopia',\n",
       " 'Fiji',\n",
       " 'Finland',\n",
       " 'France',\n",
       " 'France',\n",
       " 'France',\n",
       " 'France',\n",
       " 'France',\n",
       " 'France',\n",
       " 'France',\n",
       " 'France',\n",
       " 'France',\n",
       " 'France',\n",
       " 'France',\n",
       " 'Gabon',\n",
       " 'Gambia',\n",
       " 'Georgia',\n",
       " 'Germany',\n",
       " 'Ghana',\n",
       " 'Greece',\n",
       " 'Grenada',\n",
       " 'Guatemala',\n",
       " 'Guinea',\n",
       " 'Guinea-Bissau',\n",
       " 'Guyana',\n",
       " 'Haiti',\n",
       " 'Holy See',\n",
       " 'Honduras',\n",
       " 'Hungary',\n",
       " 'Iceland',\n",
       " 'India',\n",
       " 'Indonesia',\n",
       " 'Iran',\n",
       " 'Iraq',\n",
       " 'Ireland',\n",
       " 'Israel',\n",
       " 'Italy',\n",
       " 'Jamaica',\n",
       " 'Japan',\n",
       " 'Jordan',\n",
       " 'Kazakhstan',\n",
       " 'Kenya',\n",
       " 'Korea, South',\n",
       " 'Kosovo',\n",
       " 'Kuwait',\n",
       " 'Kyrgyzstan',\n",
       " 'Laos',\n",
       " 'Latvia',\n",
       " 'Lebanon',\n",
       " 'Lesotho',\n",
       " 'Liberia',\n",
       " 'Libya',\n",
       " 'Liechtenstein',\n",
       " 'Lithuania',\n",
       " 'Luxembourg',\n",
       " 'MS Zaandam',\n",
       " 'Madagascar',\n",
       " 'Malawi',\n",
       " 'Malaysia',\n",
       " 'Maldives',\n",
       " 'Mali',\n",
       " 'Malta',\n",
       " 'Marshall Islands',\n",
       " 'Mauritania',\n",
       " 'Mauritius',\n",
       " 'Mexico',\n",
       " 'Moldova',\n",
       " 'Monaco',\n",
       " 'Mongolia',\n",
       " 'Montenegro',\n",
       " 'Morocco',\n",
       " 'Mozambique',\n",
       " 'Namibia',\n",
       " 'Nepal',\n",
       " 'Netherlands',\n",
       " 'Netherlands',\n",
       " 'Netherlands',\n",
       " 'Netherlands',\n",
       " 'Netherlands',\n",
       " 'New Zealand',\n",
       " 'Nicaragua',\n",
       " 'Niger',\n",
       " 'Nigeria',\n",
       " 'North Macedonia',\n",
       " 'Norway',\n",
       " 'Oman',\n",
       " 'Pakistan',\n",
       " 'Panama',\n",
       " 'Papua New Guinea',\n",
       " 'Paraguay',\n",
       " 'Peru',\n",
       " 'Philippines',\n",
       " 'Poland',\n",
       " 'Portugal',\n",
       " 'Qatar',\n",
       " 'Romania',\n",
       " 'Russia',\n",
       " 'Rwanda',\n",
       " 'Saint Kitts and Nevis',\n",
       " 'Saint Lucia',\n",
       " 'Saint Vincent and the Grenadines',\n",
       " 'San Marino',\n",
       " 'Sao Tome and Principe',\n",
       " 'Saudi Arabia',\n",
       " 'Senegal',\n",
       " 'Serbia',\n",
       " 'Seychelles',\n",
       " 'Sierra Leone',\n",
       " 'Singapore',\n",
       " 'Slovakia',\n",
       " 'Slovenia',\n",
       " 'Solomon Islands',\n",
       " 'Somalia',\n",
       " 'South Africa',\n",
       " 'South Sudan',\n",
       " 'Spain',\n",
       " 'Sri Lanka',\n",
       " 'Sudan',\n",
       " 'Suriname',\n",
       " 'Sweden',\n",
       " 'Switzerland',\n",
       " 'Syria',\n",
       " 'Taiwan*',\n",
       " 'Tajikistan',\n",
       " 'Tanzania',\n",
       " 'Thailand',\n",
       " 'Timor-Leste',\n",
       " 'Togo',\n",
       " 'Trinidad and Tobago',\n",
       " 'Tunisia',\n",
       " 'Turkey',\n",
       " 'Uganda',\n",
       " 'Ukraine',\n",
       " 'United Arab Emirates',\n",
       " 'United Kingdom',\n",
       " 'United Kingdom',\n",
       " 'United Kingdom',\n",
       " 'United Kingdom',\n",
       " 'United Kingdom',\n",
       " 'United Kingdom',\n",
       " 'United Kingdom',\n",
       " 'United Kingdom',\n",
       " 'United Kingdom',\n",
       " 'United Kingdom',\n",
       " 'United Kingdom',\n",
       " 'United States',\n",
       " 'United States',\n",
       " 'United States',\n",
       " 'United States',\n",
       " 'United States',\n",
       " 'United States',\n",
       " 'United States',\n",
       " 'United States',\n",
       " 'United States',\n",
       " 'United States',\n",
       " 'United States',\n",
       " 'United States',\n",
       " 'United States',\n",
       " 'United States',\n",
       " 'United States',\n",
       " 'United States',\n",
       " 'United States',\n",
       " 'United States',\n",
       " 'United States',\n",
       " 'United States',\n",
       " 'United States',\n",
       " 'United States',\n",
       " 'United States',\n",
       " 'United States',\n",
       " 'United States',\n",
       " 'United States',\n",
       " 'United States',\n",
       " 'United States',\n",
       " 'United States',\n",
       " 'United States',\n",
       " 'United States',\n",
       " 'United States',\n",
       " 'United States',\n",
       " 'United States',\n",
       " 'United States',\n",
       " 'United States',\n",
       " 'United States',\n",
       " 'United States',\n",
       " 'United States',\n",
       " 'United States',\n",
       " 'United States',\n",
       " 'United States',\n",
       " 'United States',\n",
       " 'United States',\n",
       " 'United States',\n",
       " 'United States',\n",
       " 'United States',\n",
       " 'United States',\n",
       " 'United States',\n",
       " 'United States',\n",
       " 'United States',\n",
       " 'United States',\n",
       " 'United States',\n",
       " 'United States',\n",
       " 'United States',\n",
       " 'United States',\n",
       " 'Uruguay',\n",
       " 'Uzbekistan',\n",
       " 'Venezuela',\n",
       " 'Vietnam',\n",
       " 'West Bank and Gaza',\n",
       " 'Western Sahara',\n",
       " 'Yemen',\n",
       " 'Zambia',\n",
       " 'Zimbabwe']"
      ]
     },
     "metadata": {},
     "execution_count": 17
    }
   ],
   "source": [
    "df_clean.index.values.tolist()"
   ]
  },
  {
   "cell_type": "code",
   "execution_count": 19,
   "metadata": {},
   "outputs": [
    {
     "output_type": "execute_result",
     "data": {
      "text/plain": [
       "Country\n",
       "Afghanistan           NaN\n",
       "Albania               NaN\n",
       "Algeria               NaN\n",
       "Andorra               NaN\n",
       "Angola                NaN\n",
       "                     ... \n",
       "West Bank and Gaza    NaN\n",
       "Western Sahara        NaN\n",
       "Yemen                 NaN\n",
       "Zambia                NaN\n",
       "Zimbabwe              NaN\n",
       "Name: State, Length: 325, dtype: object"
      ]
     },
     "metadata": {},
     "execution_count": 19
    }
   ],
   "source": [
    "df_clean[\"State\"]"
   ]
  },
  {
   "cell_type": "code",
   "execution_count": null,
   "metadata": {},
   "outputs": [],
   "source": []
  }
 ]
}