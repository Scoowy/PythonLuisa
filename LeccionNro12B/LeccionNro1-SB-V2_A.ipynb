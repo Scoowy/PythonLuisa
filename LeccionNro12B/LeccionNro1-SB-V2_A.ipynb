{
 "cells": [
  {
   "cell_type": "code",
   "execution_count": 1,
   "metadata": {},
   "outputs": [],
   "source": [
    "import re"
   ]
  },
  {
   "cell_type": "markdown",
   "metadata": {},
   "source": [
    "## PYTHON INTERMEDIO - LECCIÓN NRO. 1 (SEGUNDO BIMESTRE)\n",
    "\n",
    "- Nombre y Apellido: Luisa Fernanda Bermeo\n",
    "- Fecha: 2021/01/12"
   ]
  },
  {
   "cell_type": "markdown",
   "metadata": {},
   "source": [
    "\n",
    "## Problema 1\n",
    "\n",
    "Empleando expresiones regulares escriba un programa que devuelva todas las fechas(dia-mes-año) del siguiente texto: 'Amit 34-3456 12-05-2007, XYZ 56-4532 11-11-2011, ABC 67-8945 12-01-2009'. De las fechas obtenidas utilice compresion de listas para imprimir solo el valor del día. \n",
    "\n",
    "Resultado: `['12', '11', '12']`\n",
    "\n",
    "\n"
   ]
  },
  {
   "cell_type": "code",
   "execution_count": 2,
   "metadata": {},
   "outputs": [],
   "source": [
    "sample = 'Amit 34-3456 12-05-2007, XYZ 56-4532 11-11-2011, ABC 67-8945 12-01-2009'\n",
    "pattern = re.compile(r\"(\\d{2})-(\\d{2})-(\\d{4})\")"
   ]
  },
  {
   "cell_type": "code",
   "execution_count": 3,
   "metadata": {},
   "outputs": [
    {
     "output_type": "execute_result",
     "data": {
      "text/plain": [
       "[('12', '05', '2007'), ('11', '11', '2011'), ('12', '01', '2009')]"
      ]
     },
     "metadata": {},
     "execution_count": 3
    }
   ],
   "source": [
    "match = pattern.findall(sample)\n",
    "match"
   ]
  },
  {
   "cell_type": "code",
   "execution_count": 4,
   "metadata": {},
   "outputs": [
    {
     "output_type": "execute_result",
     "data": {
      "text/plain": [
       "['12', '11', '12']"
      ]
     },
     "metadata": {},
     "execution_count": 4
    }
   ],
   "source": [
    "resultado = [fecha[0] for fecha in match ]\n",
    "resultado"
   ]
  }
 ],
 "metadata": {
  "kernelspec": {
   "name": "python3",
   "display_name": "Python 3.8.2 64-bit ('Terremotos': pipenv)",
   "metadata": {
    "interpreter": {
     "hash": "6f1e79dd07c4f3774b719e436ac5f0ea596240d67e87c642c3b6b5dec65c86c0"
    }
   }
  },
  "language_info": {
   "codemirror_mode": {
    "name": "ipython",
    "version": 3
   },
   "file_extension": ".py",
   "mimetype": "text/x-python",
   "name": "python",
   "nbconvert_exporter": "python",
   "pygments_lexer": "ipython3",
   "version": "3.8.2-final"
  }
 },
 "nbformat": 4,
 "nbformat_minor": 4
}