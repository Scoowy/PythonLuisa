{
 "cells": [
  {
   "cell_type": "markdown",
   "metadata": {},
   "source": [
    "## PYTHON INTERMEDIO - LECCIÓN NRO. 1\n",
    "\n",
    "- Nombre y Apellido: Luisa Bermeo\n",
    "- Fecha: 2020/11/10\n",
    "\n"
   ]
  },
  {
   "cell_type": "markdown",
   "metadata": {},
   "source": [
    "Solicite al usuario que ingrese el nombre del archivo a leer (\"info_autos.csv\"), realice un control de todas las opciones que se puedan generar. A continuación resuelva los siguientes ítems. \n",
    "\n",
    "- desde el conjunto de datos dado, imprima la 2da. y las últimas 3 filas\n",
    "- encuentre el nombre de la compañía de automóviles con menor precio\n",
    "- ordenar todos los autos por la columna de precio\n",
    "- imprima los datos estadisticos del archivo\n",
    "- cree un conjunto de datos filtrado que solo tenga autos con caballos de fuerza inferior a 100\n",
    "\n"
   ]
  }
 ],
 "metadata": {
  "kernelspec": {
   "display_name": "Python 3",
   "language": "python",
   "name": "python3"
  },
  "language_info": {
   "codemirror_mode": {
    "name": "ipython",
    "version": 3
   },
   "file_extension": ".py",
   "mimetype": "text/x-python",
   "name": "python",
   "nbconvert_exporter": "python",
   "pygments_lexer": "ipython3",
   "version": "3.7.6"
  }
 },
 "nbformat": 4,
 "nbformat_minor": 4
}