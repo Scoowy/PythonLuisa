{
 "cells": [
  {
   "cell_type": "markdown",
   "metadata": {},
   "source": [
    "# Tarea Nro. 2 - PANDAS"
   ]
  },
  {
   "cell_type": "markdown",
   "metadata": {},
   "source": [
    "- Nombre y Apellido: ........................\n",
    "- Fecha:             ........................  "
   ]
  },
  {
   "cell_type": "markdown",
   "metadata": {},
   "source": [
    "En esta tarea se examinara datos de terremotos. Comience importando pandas, numpy y matplolib.\n",
    "\n",
    "Los datos de los terremotos están localizados en usgs_terremotos_2014.csv. Ni siquiera necesita descargalo, puede abrilo directamente con Pandas.\n",
    "\n",
    "A continuación resuelva los siguientes items. "
   ]
  },
  {
   "cell_type": "markdown",
   "metadata": {},
   "source": [
    "### 1) Use la función read_csv de Pandas directamente en esta url para abrirla como un DataFrame\n",
    "\n",
    "(No use ninguna opción especial). Mostrar las primeras filas y la información del marco de datos.\n",
    "Debería haber visto que las fechas no se analizaron automáticamente en tipos de fecha y hora."
   ]
  },
  {
   "cell_type": "code",
   "execution_count": null,
   "metadata": {},
   "outputs": [],
   "source": []
  },
  {
   "cell_type": "markdown",
   "metadata": {},
   "source": [
    "### 2) Vuelva a leer los datos de tal manera que todas las columnas de fechas se identifiquen como fechas y la identificación del terremoto se use como índice"
   ]
  },
  {
   "cell_type": "code",
   "execution_count": null,
   "metadata": {},
   "outputs": [],
   "source": []
  },
  {
   "cell_type": "markdown",
   "metadata": {},
   "source": [
    "### 3) Obtener las estadísticas básicas de todas las columnas"
   ]
  },
  {
   "cell_type": "code",
   "execution_count": null,
   "metadata": {},
   "outputs": [],
   "source": []
  },
  {
   "cell_type": "markdown",
   "metadata": {},
   "source": [
    "### 4) Obtener los 20 terremotos más importantes por magnitud\n",
    "\n",
    "Examina la estructura de la columna `place`. La información del país parece estar allí. ¿Cómo lo sacarías?"
   ]
  },
  {
   "cell_type": "code",
   "execution_count": null,
   "metadata": {},
   "outputs": [],
   "source": []
  },
  {
   "cell_type": "markdown",
   "metadata": {},
   "source": [
    "### 5) Extraiga el país utilizando las funciones de datos de texto de Pandas \n",
    "\n",
    "Agréguelo como una nueva columna al dataframe. (¿Es realmente solo un país? No, algunas filas tienen el nombre de un estado de EE. UU.) Corrija esto https://www.geeksforgeeks.org/python-pandas-working-with-text-data/. \n",
    "\n",
    "Otra librería que puede ser útil https://pypi.org/project/us/ para identificar si es un estado de EEUU es `us`\n",
    "\n"
   ]
  },
  {
   "cell_type": "code",
   "execution_count": null,
   "metadata": {},
   "outputs": [],
   "source": []
  },
  {
   "cell_type": "markdown",
   "metadata": {},
   "source": [
    "### 6) Encuentra los 10 países con el mayor número de terremotos"
   ]
  },
  {
   "cell_type": "code",
   "execution_count": null,
   "metadata": {},
   "outputs": [],
   "source": []
  },
  {
   "cell_type": "markdown",
   "metadata": {},
   "source": [
    "### 7) Encuentra los 10 principales países donde ocurrieron los terremotos más fuertes y más débiles\n",
    "\n",
    " "
   ]
  },
  {
   "cell_type": "code",
   "execution_count": null,
   "metadata": {},
   "outputs": [],
   "source": []
  },
  {
   "cell_type": "markdown",
   "metadata": {},
   "source": [
    "### 8) Cree un conjunto de datos filtrado que solo tenga terremotos de magnitud 4 o mayores \n"
   ]
  },
  {
   "cell_type": "code",
   "execution_count": null,
   "metadata": {},
   "outputs": [],
   "source": []
  },
  {
   "cell_type": "markdown",
   "metadata": {},
   "source": [
    "### 9) Analice la distribución de las magnitudes del terremoto en la distribución filtrada\n",
    "Haga un histograma del conteo del terremoto versus la magnitud. Asegúrese de usar una escala logarítmica.\n"
   ]
  },
  {
   "cell_type": "code",
   "execution_count": null,
   "metadata": {},
   "outputs": [],
   "source": []
  },
  {
   "cell_type": "markdown",
   "metadata": {},
   "source": [
    "### 10) Visualice la ubicación de los terremotos haciendo un diagrama de dispersión de su latitud y longitud.\n",
    "\n",
    "#### Usa los datos filtrados. Coloréalo por magnitud.\n",
    "\n",
    "\n",
    "\n",
    "Ej. plt.scatter(x, y, s=s, c=c, cmap=plt.cm.Oranges)\n",
    "\n",
    "Con s y c podemos modificar el tamaño y el color respectivamente. Para el color, a cada valor numérico se le asigna un color a través de un mapa de colores; ese mapa se puede cambiar con el argumento cmap. Esa correspondencia se puede visualizar llamando a la función colorbar.\n",
    "\n",
    "```\n",
    "\n",
    "N = 100\n",
    "x = np.random.randn(N)\n",
    "y = np.random.randn(N)\n",
    "s = 50 + 50 * np.random.randn(N)\n",
    "c = np.random.randn(N)\n",
    "\n",
    "plt.scatter(x, y, s=s, c=c, cmap=plt.cm.Blues)\n",
    "plt.colorbar()\n",
    "\n",
    "```\n",
    "Ref. adicional para colores: https://github.com/lsantiago/PythonBasico/raw/d36d9571a1ff6a2df8364a9055f71d70eddd9151/NumpyMatplotlib/plot_colormaps.png\n"
   ]
  },
  {
   "cell_type": "code",
   "execution_count": null,
   "metadata": {},
   "outputs": [],
   "source": []
  },
  {
   "cell_type": "markdown",
   "metadata": {},
   "source": [
    "### 11) Haz lo mismo para la profundidad "
   ]
  },
  {
   "cell_type": "code",
   "execution_count": null,
   "metadata": {},
   "outputs": [],
   "source": []
  }
 ],
 "metadata": {
  "kernelspec": {
   "display_name": "Python 3",
   "language": "python",
   "name": "python3"
  },
  "language_info": {
   "codemirror_mode": {
    "name": "ipython",
    "version": 3
   },
   "file_extension": ".py",
   "mimetype": "text/x-python",
   "name": "python",
   "nbconvert_exporter": "python",
   "pygments_lexer": "ipython3",
   "version": "3.7.3"
  }
 },
 "nbformat": 4,
 "nbformat_minor": 2
}
